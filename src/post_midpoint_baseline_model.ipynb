{
 "cells": [
  {
   "cell_type": "markdown",
   "metadata": {},
   "source": [
    "# Building and Exploring the dataset"
   ]
  },
  {
   "cell_type": "code",
   "execution_count": 4,
   "metadata": {
    "collapsed": true
   },
   "outputs": [],
   "source": [
    "import pandas as pd \n",
    "import numpy as np\n",
    "#word manipulation\n",
    "from nltk.tokenize import word_tokenize  \n",
    "\n",
    "df_crosswalk = pd.read_csv('master_crosswalk.csv')\n",
    "df_books = pd.read_csv('master_context.csv', '\\t',encoding='utf-8')\n",
    "df_questions = pd.read_csv('master_questions.csv', '\\t')"
   ]
  },
  {
   "cell_type": "code",
   "execution_count": 5,
   "metadata": {},
   "outputs": [
    {
     "data": {
      "text/html": [
       "<div>\n",
       "<style>\n",
       "    .dataframe thead tr:only-child th {\n",
       "        text-align: right;\n",
       "    }\n",
       "\n",
       "    .dataframe thead th {\n",
       "        text-align: left;\n",
       "    }\n",
       "\n",
       "    .dataframe tbody tr th {\n",
       "        vertical-align: top;\n",
       "    }\n",
       "</style>\n",
       "<table border=\"1\" class=\"dataframe\">\n",
       "  <thead>\n",
       "    <tr style=\"text-align: right;\">\n",
       "      <th></th>\n",
       "      <th>book_id</th>\n",
       "      <th>question_id</th>\n",
       "      <th>section_id</th>\n",
       "      <th>Gutenberg</th>\n",
       "    </tr>\n",
       "  </thead>\n",
       "  <tbody>\n",
       "    <tr>\n",
       "      <th>0</th>\n",
       "      <td>93</td>\n",
       "      <td>180</td>\n",
       "      <td>30</td>\n",
       "      <td>1</td>\n",
       "    </tr>\n",
       "    <tr>\n",
       "      <th>1</th>\n",
       "      <td>93</td>\n",
       "      <td>179</td>\n",
       "      <td>30</td>\n",
       "      <td>1</td>\n",
       "    </tr>\n",
       "    <tr>\n",
       "      <th>2</th>\n",
       "      <td>93</td>\n",
       "      <td>178</td>\n",
       "      <td>30</td>\n",
       "      <td>1</td>\n",
       "    </tr>\n",
       "    <tr>\n",
       "      <th>3</th>\n",
       "      <td>93</td>\n",
       "      <td>177</td>\n",
       "      <td>30</td>\n",
       "      <td>1</td>\n",
       "    </tr>\n",
       "    <tr>\n",
       "      <th>4</th>\n",
       "      <td>93</td>\n",
       "      <td>176</td>\n",
       "      <td>30</td>\n",
       "      <td>1</td>\n",
       "    </tr>\n",
       "  </tbody>\n",
       "</table>\n",
       "</div>"
      ],
      "text/plain": [
       "   book_id  question_id  section_id  Gutenberg\n",
       "0       93          180          30          1\n",
       "1       93          179          30          1\n",
       "2       93          178          30          1\n",
       "3       93          177          30          1\n",
       "4       93          176          30          1"
      ]
     },
     "execution_count": 5,
     "metadata": {},
     "output_type": "execute_result"
    }
   ],
   "source": [
    "df_crosswalk.head()"
   ]
  },
  {
   "cell_type": "code",
   "execution_count": 6,
   "metadata": {
    "collapsed": true
   },
   "outputs": [],
   "source": [
    "df_crosswalk['section_id'] = pd.to_numeric(df_crosswalk['section_id'], errors='coerce')"
   ]
  },
  {
   "cell_type": "code",
   "execution_count": 7,
   "metadata": {
    "collapsed": true,
    "scrolled": false
   },
   "outputs": [],
   "source": [
    "#with pd.option_context('display.max_rows', None, 'display.max_columns', 3):\n",
    " #   print(df_crosswalk.iloc[:,2])"
   ]
  },
  {
   "cell_type": "code",
   "execution_count": 8,
   "metadata": {
    "collapsed": true
   },
   "outputs": [],
   "source": [
    "#df_crosswalk['section_id'].astype('int')"
   ]
  },
  {
   "cell_type": "code",
   "execution_count": 9,
   "metadata": {},
   "outputs": [
    {
     "data": {
      "text/plain": [
       "book_id        int64\n",
       "question_id    int64\n",
       "section_id     int64\n",
       "Gutenberg      int64\n",
       "dtype: object"
      ]
     },
     "execution_count": 9,
     "metadata": {},
     "output_type": "execute_result"
    }
   ],
   "source": [
    "df_crosswalk.dtypes"
   ]
  },
  {
   "cell_type": "code",
   "execution_count": 10,
   "metadata": {},
   "outputs": [
    {
     "data": {
      "text/html": [
       "<div>\n",
       "<style>\n",
       "    .dataframe thead tr:only-child th {\n",
       "        text-align: right;\n",
       "    }\n",
       "\n",
       "    .dataframe thead th {\n",
       "        text-align: left;\n",
       "    }\n",
       "\n",
       "    .dataframe tbody tr th {\n",
       "        vertical-align: top;\n",
       "    }\n",
       "</style>\n",
       "<table border=\"1\" class=\"dataframe\">\n",
       "  <thead>\n",
       "    <tr style=\"text-align: right;\">\n",
       "      <th></th>\n",
       "      <th>Unnamed: 0</th>\n",
       "      <th>context</th>\n",
       "      <th>tags</th>\n",
       "      <th>book_id</th>\n",
       "      <th>section_id</th>\n",
       "    </tr>\n",
       "  </thead>\n",
       "  <tbody>\n",
       "    <tr>\n",
       "      <th>1680</th>\n",
       "      <td>1680</td>\n",
       "      <td>CHAPTER V.\\r\\n\\r\\n\\r\\nThe author, by an extrao...</td>\n",
       "      <td>98\\5.txt</td>\n",
       "      <td>98</td>\n",
       "      <td>5</td>\n",
       "    </tr>\n",
       "    <tr>\n",
       "      <th>1681</th>\n",
       "      <td>1681</td>\n",
       "      <td>CHAPTER VI.\\r\\n\\r\\n\\r\\nOf the inhabitants of L...</td>\n",
       "      <td>98\\6.txt</td>\n",
       "      <td>98</td>\n",
       "      <td>6</td>\n",
       "    </tr>\n",
       "    <tr>\n",
       "      <th>1682</th>\n",
       "      <td>1682</td>\n",
       "      <td>CHAPTER VII.\\r\\n\\r\\n\\r\\nThe author, being info...</td>\n",
       "      <td>98\\7.txt</td>\n",
       "      <td>98</td>\n",
       "      <td>7</td>\n",
       "    </tr>\n",
       "    <tr>\n",
       "      <th>1683</th>\n",
       "      <td>1683</td>\n",
       "      <td>CHAPTER VIII.\\r\\n\\r\\n\\r\\nThe author, by a luck...</td>\n",
       "      <td>98\\8.txt</td>\n",
       "      <td>98</td>\n",
       "      <td>8</td>\n",
       "    </tr>\n",
       "    <tr>\n",
       "      <th>1684</th>\n",
       "      <td>1684</td>\n",
       "      <td>PART II.  A VOYAGE TO BROBDINGNAG.\\r\\n\\r\\n\\r\\n...</td>\n",
       "      <td>98\\9.txt</td>\n",
       "      <td>98</td>\n",
       "      <td>9</td>\n",
       "    </tr>\n",
       "  </tbody>\n",
       "</table>\n",
       "</div>"
      ],
      "text/plain": [
       "      Unnamed: 0                                            context      tags  \\\n",
       "1680        1680  CHAPTER V.\\r\\n\\r\\n\\r\\nThe author, by an extrao...  98\\5.txt   \n",
       "1681        1681  CHAPTER VI.\\r\\n\\r\\n\\r\\nOf the inhabitants of L...  98\\6.txt   \n",
       "1682        1682  CHAPTER VII.\\r\\n\\r\\n\\r\\nThe author, being info...  98\\7.txt   \n",
       "1683        1683  CHAPTER VIII.\\r\\n\\r\\n\\r\\nThe author, by a luck...  98\\8.txt   \n",
       "1684        1684  PART II.  A VOYAGE TO BROBDINGNAG.\\r\\n\\r\\n\\r\\n...  98\\9.txt   \n",
       "\n",
       "      book_id  section_id  \n",
       "1680       98           5  \n",
       "1681       98           6  \n",
       "1682       98           7  \n",
       "1683       98           8  \n",
       "1684       98           9  "
      ]
     },
     "execution_count": 10,
     "metadata": {},
     "output_type": "execute_result"
    }
   ],
   "source": [
    "df_books.tail()"
   ]
  },
  {
   "cell_type": "code",
   "execution_count": 11,
   "metadata": {},
   "outputs": [
    {
     "data": {
      "text/plain": [
       "(1685, 5)"
      ]
     },
     "execution_count": 11,
     "metadata": {},
     "output_type": "execute_result"
    }
   ],
   "source": [
    "df_books.shape"
   ]
  },
  {
   "cell_type": "code",
   "execution_count": 12,
   "metadata": {},
   "outputs": [
    {
     "data": {
      "text/html": [
       "<div>\n",
       "<style>\n",
       "    .dataframe thead tr:only-child th {\n",
       "        text-align: right;\n",
       "    }\n",
       "\n",
       "    .dataframe thead th {\n",
       "        text-align: left;\n",
       "    }\n",
       "\n",
       "    .dataframe tbody tr th {\n",
       "        vertical-align: top;\n",
       "    }\n",
       "</style>\n",
       "<table border=\"1\" class=\"dataframe\">\n",
       "  <thead>\n",
       "    <tr style=\"text-align: right;\">\n",
       "      <th></th>\n",
       "      <th>Unnamed: 0</th>\n",
       "      <th>context</th>\n",
       "      <th>tags</th>\n",
       "      <th>section_id</th>\n",
       "    </tr>\n",
       "    <tr>\n",
       "      <th>book_id</th>\n",
       "      <th></th>\n",
       "      <th></th>\n",
       "      <th></th>\n",
       "      <th></th>\n",
       "    </tr>\n",
       "  </thead>\n",
       "  <tbody>\n",
       "    <tr>\n",
       "      <th>35</th>\n",
       "      <td>30</td>\n",
       "      <td>30</td>\n",
       "      <td>30</td>\n",
       "      <td>30</td>\n",
       "    </tr>\n",
       "    <tr>\n",
       "      <th>77</th>\n",
       "      <td>12</td>\n",
       "      <td>12</td>\n",
       "      <td>12</td>\n",
       "      <td>12</td>\n",
       "    </tr>\n",
       "    <tr>\n",
       "      <th>79</th>\n",
       "      <td>30</td>\n",
       "      <td>30</td>\n",
       "      <td>30</td>\n",
       "      <td>30</td>\n",
       "    </tr>\n",
       "    <tr>\n",
       "      <th>83</th>\n",
       "      <td>9</td>\n",
       "      <td>9</td>\n",
       "      <td>9</td>\n",
       "      <td>9</td>\n",
       "    </tr>\n",
       "  </tbody>\n",
       "</table>\n",
       "</div>"
      ],
      "text/plain": [
       "         Unnamed: 0  context  tags  section_id\n",
       "book_id                                       \n",
       "35               30       30    30          30\n",
       "77               12       12    12          12\n",
       "79               30       30    30          30\n",
       "83                9        9     9           9"
      ]
     },
     "execution_count": 12,
     "metadata": {},
     "output_type": "execute_result"
    }
   ],
   "source": [
    "df_books.groupby('book_id').count()[1:5]"
   ]
  },
  {
   "cell_type": "code",
   "execution_count": 13,
   "metadata": {},
   "outputs": [
    {
     "data": {
      "text/plain": [
       "Unnamed: 0     int64\n",
       "context       object\n",
       "tags          object\n",
       "book_id        int64\n",
       "section_id     int64\n",
       "dtype: object"
      ]
     },
     "execution_count": 13,
     "metadata": {},
     "output_type": "execute_result"
    }
   ],
   "source": [
    "df_books.dtypes"
   ]
  },
  {
   "cell_type": "code",
   "execution_count": 14,
   "metadata": {},
   "outputs": [
    {
     "data": {
      "text/html": [
       "<div>\n",
       "<style>\n",
       "    .dataframe thead tr:only-child th {\n",
       "        text-align: right;\n",
       "    }\n",
       "\n",
       "    .dataframe thead th {\n",
       "        text-align: left;\n",
       "    }\n",
       "\n",
       "    .dataframe tbody tr th {\n",
       "        vertical-align: top;\n",
       "    }\n",
       "</style>\n",
       "<table border=\"1\" class=\"dataframe\">\n",
       "  <thead>\n",
       "    <tr style=\"text-align: right;\">\n",
       "      <th></th>\n",
       "      <th>Unnamed: 0</th>\n",
       "      <th>question_id</th>\n",
       "      <th>question</th>\n",
       "      <th>answer</th>\n",
       "      <th>book_id</th>\n",
       "      <th>syntax</th>\n",
       "    </tr>\n",
       "  </thead>\n",
       "  <tbody>\n",
       "    <tr>\n",
       "      <th>0</th>\n",
       "      <td>0</td>\n",
       "      <td>0</td>\n",
       "      <td>1. When does Phileas Fogg first meet Jean\\r\\r\\...</td>\n",
       "      <td>October, 1872</td>\n",
       "      <td>93</td>\n",
       "      <td>True</td>\n",
       "    </tr>\n",
       "    <tr>\n",
       "      <th>1</th>\n",
       "      <td>1</td>\n",
       "      <td>1</td>\n",
       "      <td>2. What is the only establishment of which\\r\\r...</td>\n",
       "      <td>The Reform Club of London</td>\n",
       "      <td>93</td>\n",
       "      <td>True</td>\n",
       "    </tr>\n",
       "    <tr>\n",
       "      <th>2</th>\n",
       "      <td>2</td>\n",
       "      <td>2</td>\n",
       "      <td>3. For what job does Fogg hire Passepartout?</td>\n",
       "      <td>To be his servant</td>\n",
       "      <td>93</td>\n",
       "      <td>True</td>\n",
       "    </tr>\n",
       "    <tr>\n",
       "      <th>3</th>\n",
       "      <td>3</td>\n",
       "      <td>3</td>\n",
       "      <td>4. What nationality is Jean Passepartout?</td>\n",
       "      <td>French</td>\n",
       "      <td>93</td>\n",
       "      <td>True</td>\n",
       "    </tr>\n",
       "    <tr>\n",
       "      <th>4</th>\n",
       "      <td>4</td>\n",
       "      <td>4</td>\n",
       "      <td>5. To what does Passepartout compare his\\r\\r\\r...</td>\n",
       "      <td>Madame Tussand's\\r\\r\\r\\nwax museum figures</td>\n",
       "      <td>93</td>\n",
       "      <td>True</td>\n",
       "    </tr>\n",
       "  </tbody>\n",
       "</table>\n",
       "</div>"
      ],
      "text/plain": [
       "   Unnamed: 0  question_id                                           question  \\\n",
       "0           0            0  1. When does Phileas Fogg first meet Jean\\r\\r\\...   \n",
       "1           1            1  2. What is the only establishment of which\\r\\r...   \n",
       "2           2            2       3. For what job does Fogg hire Passepartout?   \n",
       "3           3            3          4. What nationality is Jean Passepartout?   \n",
       "4           4            4  5. To what does Passepartout compare his\\r\\r\\r...   \n",
       "\n",
       "                                       answer  book_id syntax  \n",
       "0                               October, 1872       93   True  \n",
       "1                   The Reform Club of London       93   True  \n",
       "2                           To be his servant       93   True  \n",
       "3                                      French       93   True  \n",
       "4  Madame Tussand's\\r\\r\\r\\nwax museum figures       93   True  "
      ]
     },
     "execution_count": 14,
     "metadata": {},
     "output_type": "execute_result"
    }
   ],
   "source": [
    "df_questions.head()"
   ]
  },
  {
   "cell_type": "code",
   "execution_count": 15,
   "metadata": {},
   "outputs": [
    {
     "data": {
      "text/plain": [
       "'2. What is the only establishment of which\\r\\r\\r\\nFogg is a member?'"
      ]
     },
     "execution_count": 15,
     "metadata": {},
     "output_type": "execute_result"
    }
   ],
   "source": [
    "df_questions.iloc[1,2]"
   ]
  },
  {
   "cell_type": "code",
   "execution_count": 16,
   "metadata": {
    "collapsed": true
   },
   "outputs": [],
   "source": [
    "import re\n",
    "regex_pat = re.compile(r\"^([^.]*).*\")"
   ]
  },
  {
   "cell_type": "code",
   "execution_count": 17,
   "metadata": {},
   "outputs": [
    {
     "name": "stderr",
     "output_type": "stream",
     "text": [
      "/home/jennifer_p/anaconda3/lib/python3.6/site-packages/ipykernel_launcher.py:1: FutureWarning: currently extract(expand=None) means expand=False (return Index/Series/DataFrame) but in a future version of pandas this will be changed to expand=True (return DataFrame)\n",
      "  \"\"\"Entry point for launching an IPython kernel.\n"
     ]
    }
   ],
   "source": [
    "df_questions['question_id'] = df_questions['question'].str.extract(regex_pat).astype('int64')"
   ]
  },
  {
   "cell_type": "code",
   "execution_count": 18,
   "metadata": {
    "collapsed": true,
    "scrolled": true
   },
   "outputs": [],
   "source": [
    "df_merge = pd.merge(df_crosswalk, df_questions, on=['book_id','question_id'], how='outer')"
   ]
  },
  {
   "cell_type": "code",
   "execution_count": 19,
   "metadata": {},
   "outputs": [
    {
     "data": {
      "text/html": [
       "<div>\n",
       "<style>\n",
       "    .dataframe thead tr:only-child th {\n",
       "        text-align: right;\n",
       "    }\n",
       "\n",
       "    .dataframe thead th {\n",
       "        text-align: left;\n",
       "    }\n",
       "\n",
       "    .dataframe tbody tr th {\n",
       "        vertical-align: top;\n",
       "    }\n",
       "</style>\n",
       "<table border=\"1\" class=\"dataframe\">\n",
       "  <thead>\n",
       "    <tr style=\"text-align: right;\">\n",
       "      <th></th>\n",
       "      <th>book_id</th>\n",
       "      <th>question_id</th>\n",
       "      <th>section_id</th>\n",
       "      <th>Gutenberg</th>\n",
       "      <th>Unnamed: 0</th>\n",
       "      <th>question</th>\n",
       "      <th>answer</th>\n",
       "      <th>syntax</th>\n",
       "    </tr>\n",
       "  </thead>\n",
       "  <tbody>\n",
       "    <tr>\n",
       "      <th>1</th>\n",
       "      <td>93</td>\n",
       "      <td>179</td>\n",
       "      <td>30</td>\n",
       "      <td>1</td>\n",
       "      <td>178.0</td>\n",
       "      <td>179. What does Fogg get from his journey\\r\\r\\r...</td>\n",
       "      <td>All of these</td>\n",
       "      <td>True</td>\n",
       "    </tr>\n",
       "    <tr>\n",
       "      <th>2</th>\n",
       "      <td>93</td>\n",
       "      <td>178</td>\n",
       "      <td>30</td>\n",
       "      <td>1</td>\n",
       "      <td>177.0</td>\n",
       "      <td>178. Who says: \"That we might have\\r\\r\\r\\nmade...</td>\n",
       "      <td>Passepartout</td>\n",
       "      <td>True</td>\n",
       "    </tr>\n",
       "    <tr>\n",
       "      <th>3</th>\n",
       "      <td>93</td>\n",
       "      <td>177</td>\n",
       "      <td>30</td>\n",
       "      <td>1</td>\n",
       "      <td>176.0</td>\n",
       "      <td>177. What does Passepartout do with the\\r\\r\\r\\...</td>\n",
       "      <td>He splits it between Passepartout and Fix</td>\n",
       "      <td>True</td>\n",
       "    </tr>\n",
       "    <tr>\n",
       "      <th>4</th>\n",
       "      <td>93</td>\n",
       "      <td>176</td>\n",
       "      <td>30</td>\n",
       "      <td>1</td>\n",
       "      <td>175.0</td>\n",
       "      <td>176. What does Passepartout discover on\\r\\r\\r\\...</td>\n",
       "      <td>They arrived on Saturday, not Sunday</td>\n",
       "      <td>True</td>\n",
       "    </tr>\n",
       "    <tr>\n",
       "      <th>5</th>\n",
       "      <td>93</td>\n",
       "      <td>175</td>\n",
       "      <td>30</td>\n",
       "      <td>1</td>\n",
       "      <td>174.0</td>\n",
       "      <td>175. What errand does Fogg send\\r\\r\\r\\nPassepa...</td>\n",
       "      <td>To secure a minister</td>\n",
       "      <td>True</td>\n",
       "    </tr>\n",
       "    <tr>\n",
       "      <th>6</th>\n",
       "      <td>93</td>\n",
       "      <td>174</td>\n",
       "      <td>29</td>\n",
       "      <td>1</td>\n",
       "      <td>173.0</td>\n",
       "      <td>174. What does Fogg say to his friends at\\r\\r\\...</td>\n",
       "      <td>Here I am, gentlemen!</td>\n",
       "      <td>False</td>\n",
       "    </tr>\n",
       "    <tr>\n",
       "      <th>7</th>\n",
       "      <td>93</td>\n",
       "      <td>173</td>\n",
       "      <td>29</td>\n",
       "      <td>1</td>\n",
       "      <td>172.0</td>\n",
       "      <td>173. How long does Fogg have to spare\\r\\r\\r\\nb...</td>\n",
       "      <td>Four seconds</td>\n",
       "      <td>True</td>\n",
       "    </tr>\n",
       "    <tr>\n",
       "      <th>8</th>\n",
       "      <td>93</td>\n",
       "      <td>172</td>\n",
       "      <td>29</td>\n",
       "      <td>1</td>\n",
       "      <td>171.0</td>\n",
       "      <td>172. Where do Fogg's friends plan to cash\\r\\r\\...</td>\n",
       "      <td>Barings</td>\n",
       "      <td>True</td>\n",
       "    </tr>\n",
       "    <tr>\n",
       "      <th>9</th>\n",
       "      <td>93</td>\n",
       "      <td>171</td>\n",
       "      <td>29</td>\n",
       "      <td>1</td>\n",
       "      <td>170.0</td>\n",
       "      <td>171. What time do Fogg's friends at the\\r\\r\\r\\...</td>\n",
       "      <td>8:40 p.m</td>\n",
       "      <td>True</td>\n",
       "    </tr>\n",
       "    <tr>\n",
       "      <th>10</th>\n",
       "      <td>93</td>\n",
       "      <td>170</td>\n",
       "      <td>29</td>\n",
       "      <td>1</td>\n",
       "      <td>169.0</td>\n",
       "      <td>170. How many people have wagered against\\r\\r\\...</td>\n",
       "      <td>Five</td>\n",
       "      <td>True</td>\n",
       "    </tr>\n",
       "    <tr>\n",
       "      <th>11</th>\n",
       "      <td>93</td>\n",
       "      <td>169</td>\n",
       "      <td>29</td>\n",
       "      <td>1</td>\n",
       "      <td>168.0</td>\n",
       "      <td>169. How has the public opinion of Phileas\\r\\r...</td>\n",
       "      <td>All of these</td>\n",
       "      <td>True</td>\n",
       "    </tr>\n",
       "    <tr>\n",
       "      <th>12</th>\n",
       "      <td>93</td>\n",
       "      <td>168</td>\n",
       "      <td>28</td>\n",
       "      <td>1</td>\n",
       "      <td>167.0</td>\n",
       "      <td>168. Who says: \"Yes, by all that is\\r\\r\\r\\nhol...</td>\n",
       "      <td>Fogg</td>\n",
       "      <td>True</td>\n",
       "    </tr>\n",
       "    <tr>\n",
       "      <th>13</th>\n",
       "      <td>93</td>\n",
       "      <td>167</td>\n",
       "      <td>28</td>\n",
       "      <td>1</td>\n",
       "      <td>166.0</td>\n",
       "      <td>167. What does Aouda ask Fogg after\\r\\r\\r\\nlea...</td>\n",
       "      <td>All of these</td>\n",
       "      <td>True</td>\n",
       "    </tr>\n",
       "    <tr>\n",
       "      <th>14</th>\n",
       "      <td>93</td>\n",
       "      <td>166</td>\n",
       "      <td>28</td>\n",
       "      <td>1</td>\n",
       "      <td>165.0</td>\n",
       "      <td>166. What does Fogg ask Aouda for after\\r\\r\\r\\...</td>\n",
       "      <td>Her forgiveness</td>\n",
       "      <td>True</td>\n",
       "    </tr>\n",
       "    <tr>\n",
       "      <th>15</th>\n",
       "      <td>93</td>\n",
       "      <td>165</td>\n",
       "      <td>28</td>\n",
       "      <td>1</td>\n",
       "      <td>164.0</td>\n",
       "      <td>165. What time does Fogg go to speak with\\r\\r\\...</td>\n",
       "      <td>7:00 p.m</td>\n",
       "      <td>True</td>\n",
       "    </tr>\n",
       "    <tr>\n",
       "      <th>16</th>\n",
       "      <td>93</td>\n",
       "      <td>164</td>\n",
       "      <td>28</td>\n",
       "      <td>1</td>\n",
       "      <td>163.0</td>\n",
       "      <td>164. What does Fogg spend his first day\\r\\r\\r\\...</td>\n",
       "      <td>Putting his affairs in order</td>\n",
       "      <td>True</td>\n",
       "    </tr>\n",
       "    <tr>\n",
       "      <th>17</th>\n",
       "      <td>93</td>\n",
       "      <td>163</td>\n",
       "      <td>28</td>\n",
       "      <td>1</td>\n",
       "      <td>162.0</td>\n",
       "      <td>163. When does Fogg call for Passepartout\\r\\r\\...</td>\n",
       "      <td>The next morning</td>\n",
       "      <td>True</td>\n",
       "    </tr>\n",
       "    <tr>\n",
       "      <th>18</th>\n",
       "      <td>93</td>\n",
       "      <td>162</td>\n",
       "      <td>27</td>\n",
       "      <td>1</td>\n",
       "      <td>161.0</td>\n",
       "      <td>162. What time does Fogg arrive in London?</td>\n",
       "      <td>Ten minutes to nine</td>\n",
       "      <td>True</td>\n",
       "    </tr>\n",
       "    <tr>\n",
       "      <th>19</th>\n",
       "      <td>93</td>\n",
       "      <td>161</td>\n",
       "      <td>27</td>\n",
       "      <td>1</td>\n",
       "      <td>160.0</td>\n",
       "      <td>161. How does Fogg and his party get to\\r\\r\\r\\...</td>\n",
       "      <td>By train</td>\n",
       "      <td>True</td>\n",
       "    </tr>\n",
       "  </tbody>\n",
       "</table>\n",
       "</div>"
      ],
      "text/plain": [
       "    book_id  question_id  section_id  Gutenberg  Unnamed: 0  \\\n",
       "1        93          179          30          1       178.0   \n",
       "2        93          178          30          1       177.0   \n",
       "3        93          177          30          1       176.0   \n",
       "4        93          176          30          1       175.0   \n",
       "5        93          175          30          1       174.0   \n",
       "6        93          174          29          1       173.0   \n",
       "7        93          173          29          1       172.0   \n",
       "8        93          172          29          1       171.0   \n",
       "9        93          171          29          1       170.0   \n",
       "10       93          170          29          1       169.0   \n",
       "11       93          169          29          1       168.0   \n",
       "12       93          168          28          1       167.0   \n",
       "13       93          167          28          1       166.0   \n",
       "14       93          166          28          1       165.0   \n",
       "15       93          165          28          1       164.0   \n",
       "16       93          164          28          1       163.0   \n",
       "17       93          163          28          1       162.0   \n",
       "18       93          162          27          1       161.0   \n",
       "19       93          161          27          1       160.0   \n",
       "\n",
       "                                             question  \\\n",
       "1   179. What does Fogg get from his journey\\r\\r\\r...   \n",
       "2   178. Who says: \"That we might have\\r\\r\\r\\nmade...   \n",
       "3   177. What does Passepartout do with the\\r\\r\\r\\...   \n",
       "4   176. What does Passepartout discover on\\r\\r\\r\\...   \n",
       "5   175. What errand does Fogg send\\r\\r\\r\\nPassepa...   \n",
       "6   174. What does Fogg say to his friends at\\r\\r\\...   \n",
       "7   173. How long does Fogg have to spare\\r\\r\\r\\nb...   \n",
       "8   172. Where do Fogg's friends plan to cash\\r\\r\\...   \n",
       "9   171. What time do Fogg's friends at the\\r\\r\\r\\...   \n",
       "10  170. How many people have wagered against\\r\\r\\...   \n",
       "11  169. How has the public opinion of Phileas\\r\\r...   \n",
       "12  168. Who says: \"Yes, by all that is\\r\\r\\r\\nhol...   \n",
       "13  167. What does Aouda ask Fogg after\\r\\r\\r\\nlea...   \n",
       "14  166. What does Fogg ask Aouda for after\\r\\r\\r\\...   \n",
       "15  165. What time does Fogg go to speak with\\r\\r\\...   \n",
       "16  164. What does Fogg spend his first day\\r\\r\\r\\...   \n",
       "17  163. When does Fogg call for Passepartout\\r\\r\\...   \n",
       "18         162. What time does Fogg arrive in London?   \n",
       "19  161. How does Fogg and his party get to\\r\\r\\r\\...   \n",
       "\n",
       "                                       answer syntax  \n",
       "1                                All of these   True  \n",
       "2                                Passepartout   True  \n",
       "3   He splits it between Passepartout and Fix   True  \n",
       "4        They arrived on Saturday, not Sunday   True  \n",
       "5                        To secure a minister   True  \n",
       "6                       Here I am, gentlemen!  False  \n",
       "7                                Four seconds   True  \n",
       "8                                     Barings   True  \n",
       "9                                    8:40 p.m   True  \n",
       "10                                       Five   True  \n",
       "11                               All of these   True  \n",
       "12                                       Fogg   True  \n",
       "13                               All of these   True  \n",
       "14                            Her forgiveness   True  \n",
       "15                                   7:00 p.m   True  \n",
       "16               Putting his affairs in order   True  \n",
       "17                           The next morning   True  \n",
       "18                        Ten minutes to nine   True  \n",
       "19                                   By train   True  "
      ]
     },
     "execution_count": 19,
     "metadata": {},
     "output_type": "execute_result"
    }
   ],
   "source": [
    "df_merge[1:20]"
   ]
  },
  {
   "cell_type": "code",
   "execution_count": 20,
   "metadata": {
    "scrolled": false
   },
   "outputs": [
    {
     "data": {
      "text/html": [
       "<div>\n",
       "<style>\n",
       "    .dataframe thead tr:only-child th {\n",
       "        text-align: right;\n",
       "    }\n",
       "\n",
       "    .dataframe thead th {\n",
       "        text-align: left;\n",
       "    }\n",
       "\n",
       "    .dataframe tbody tr th {\n",
       "        vertical-align: top;\n",
       "    }\n",
       "</style>\n",
       "<table border=\"1\" class=\"dataframe\">\n",
       "  <thead>\n",
       "    <tr style=\"text-align: right;\">\n",
       "      <th></th>\n",
       "      <th>book_id</th>\n",
       "      <th>question_id</th>\n",
       "      <th>section_id</th>\n",
       "      <th>Gutenberg</th>\n",
       "      <th>Unnamed: 0</th>\n",
       "      <th>question</th>\n",
       "      <th>answer</th>\n",
       "      <th>syntax</th>\n",
       "    </tr>\n",
       "  </thead>\n",
       "  <tbody>\n",
       "    <tr>\n",
       "      <th>13000</th>\n",
       "      <td>108</td>\n",
       "      <td>41</td>\n",
       "      <td>1</td>\n",
       "      <td>1</td>\n",
       "      <td>1114.0</td>\n",
       "      <td>41. What figure becomes very clear in\\r\\r\\r\\nm...</td>\n",
       "      <td>A man</td>\n",
       "      <td>False</td>\n",
       "    </tr>\n",
       "    <tr>\n",
       "      <th>13001</th>\n",
       "      <td>108</td>\n",
       "      <td>42</td>\n",
       "      <td>1</td>\n",
       "      <td>1</td>\n",
       "      <td>1115.0</td>\n",
       "      <td>42. What does John force the narrator to\\r\\r\\r...</td>\n",
       "      <td>Take a nap</td>\n",
       "      <td>False</td>\n",
       "    </tr>\n",
       "    <tr>\n",
       "      <th>13002</th>\n",
       "      <td>108</td>\n",
       "      <td>43</td>\n",
       "      <td>1</td>\n",
       "      <td>1</td>\n",
       "      <td>1116.0</td>\n",
       "      <td>43. What does the narrator believe\\r\\r\\r\\ncult...</td>\n",
       "      <td>Lying awake during the sanctioned naptimes</td>\n",
       "      <td>False</td>\n",
       "    </tr>\n",
       "    <tr>\n",
       "      <th>13003</th>\n",
       "      <td>108</td>\n",
       "      <td>44</td>\n",
       "      <td>1</td>\n",
       "      <td>1</td>\n",
       "      <td>1117.0</td>\n",
       "      <td>44. Why does the narrator believe that the\\r\\r...</td>\n",
       "      <td>She is distracted by the wallpaper</td>\n",
       "      <td>False</td>\n",
       "    </tr>\n",
       "    <tr>\n",
       "      <th>13004</th>\n",
       "      <td>108</td>\n",
       "      <td>45</td>\n",
       "      <td>1</td>\n",
       "      <td>1</td>\n",
       "      <td>1118.0</td>\n",
       "      <td>45. Who does the narrator become afraid\\r\\r\\r\\...</td>\n",
       "      <td>John</td>\n",
       "      <td>False</td>\n",
       "    </tr>\n",
       "    <tr>\n",
       "      <th>13005</th>\n",
       "      <td>108</td>\n",
       "      <td>46</td>\n",
       "      <td>1</td>\n",
       "      <td>1</td>\n",
       "      <td>1119.0</td>\n",
       "      <td>46. What does the narrator think John is\\r\\r\\r...</td>\n",
       "      <td>The wallpaper</td>\n",
       "      <td>False</td>\n",
       "    </tr>\n",
       "    <tr>\n",
       "      <th>13006</th>\n",
       "      <td>108</td>\n",
       "      <td>47</td>\n",
       "      <td>1</td>\n",
       "      <td>1</td>\n",
       "      <td>1120.0</td>\n",
       "      <td>47. What color stains does Jennie find on\\r\\r\\...</td>\n",
       "      <td>Yellow</td>\n",
       "      <td>False</td>\n",
       "    </tr>\n",
       "    <tr>\n",
       "      <th>13007</th>\n",
       "      <td>108</td>\n",
       "      <td>48</td>\n",
       "      <td>1</td>\n",
       "      <td>1</td>\n",
       "      <td>1121.0</td>\n",
       "      <td>48. Jennie says what stains all of their\\r\\r\\r...</td>\n",
       "      <td>The wallpaper</td>\n",
       "      <td>False</td>\n",
       "    </tr>\n",
       "    <tr>\n",
       "      <th>13008</th>\n",
       "      <td>108</td>\n",
       "      <td>49</td>\n",
       "      <td>1</td>\n",
       "      <td>1</td>\n",
       "      <td>1122.0</td>\n",
       "      <td>49. The narrator believes that the\\r\\r\\r\\nwall...</td>\n",
       "      <td>An odor</td>\n",
       "      <td>False</td>\n",
       "    </tr>\n",
       "    <tr>\n",
       "      <th>13009</th>\n",
       "      <td>108</td>\n",
       "      <td>50</td>\n",
       "      <td>1</td>\n",
       "      <td>1</td>\n",
       "      <td>1123.0</td>\n",
       "      <td>50. What does the narrator think about\\r\\r\\r\\n...</td>\n",
       "      <td>Burn the house down</td>\n",
       "      <td>False</td>\n",
       "    </tr>\n",
       "  </tbody>\n",
       "</table>\n",
       "</div>"
      ],
      "text/plain": [
       "       book_id  question_id  section_id  Gutenberg  Unnamed: 0  \\\n",
       "13000      108           41           1          1      1114.0   \n",
       "13001      108           42           1          1      1115.0   \n",
       "13002      108           43           1          1      1116.0   \n",
       "13003      108           44           1          1      1117.0   \n",
       "13004      108           45           1          1      1118.0   \n",
       "13005      108           46           1          1      1119.0   \n",
       "13006      108           47           1          1      1120.0   \n",
       "13007      108           48           1          1      1121.0   \n",
       "13008      108           49           1          1      1122.0   \n",
       "13009      108           50           1          1      1123.0   \n",
       "\n",
       "                                                question  \\\n",
       "13000  41. What figure becomes very clear in\\r\\r\\r\\nm...   \n",
       "13001  42. What does John force the narrator to\\r\\r\\r...   \n",
       "13002  43. What does the narrator believe\\r\\r\\r\\ncult...   \n",
       "13003  44. Why does the narrator believe that the\\r\\r...   \n",
       "13004  45. Who does the narrator become afraid\\r\\r\\r\\...   \n",
       "13005  46. What does the narrator think John is\\r\\r\\r...   \n",
       "13006  47. What color stains does Jennie find on\\r\\r\\...   \n",
       "13007  48. Jennie says what stains all of their\\r\\r\\r...   \n",
       "13008  49. The narrator believes that the\\r\\r\\r\\nwall...   \n",
       "13009  50. What does the narrator think about\\r\\r\\r\\n...   \n",
       "\n",
       "                                           answer syntax  \n",
       "13000                                       A man  False  \n",
       "13001                                  Take a nap  False  \n",
       "13002  Lying awake during the sanctioned naptimes  False  \n",
       "13003          She is distracted by the wallpaper  False  \n",
       "13004                                        John  False  \n",
       "13005                               The wallpaper  False  \n",
       "13006                                      Yellow  False  \n",
       "13007                               The wallpaper  False  \n",
       "13008                                     An odor  False  \n",
       "13009                         Burn the house down  False  "
      ]
     },
     "execution_count": 20,
     "metadata": {},
     "output_type": "execute_result"
    }
   ],
   "source": [
    "df_merge.iloc[13000:13010]"
   ]
  },
  {
   "cell_type": "code",
   "execution_count": 21,
   "metadata": {},
   "outputs": [
    {
     "data": {
      "text/plain": [
       "book_id          int64\n",
       "question_id      int64\n",
       "section_id       int64\n",
       "Gutenberg        int64\n",
       "Unnamed: 0     float64\n",
       "question        object\n",
       "answer          object\n",
       "syntax          object\n",
       "dtype: object"
      ]
     },
     "execution_count": 21,
     "metadata": {},
     "output_type": "execute_result"
    }
   ],
   "source": [
    "df_merge.dtypes"
   ]
  },
  {
   "cell_type": "code",
   "execution_count": 22,
   "metadata": {
    "collapsed": true
   },
   "outputs": [],
   "source": [
    "pd.set_option('display.width', 200)"
   ]
  },
  {
   "cell_type": "code",
   "execution_count": 23,
   "metadata": {
    "collapsed": true
   },
   "outputs": [],
   "source": [
    "df_merge2 = pd.merge(df_merge, df_books, on=['book_id','section_id'], how='outer')"
   ]
  },
  {
   "cell_type": "code",
   "execution_count": 24,
   "metadata": {
    "scrolled": false
   },
   "outputs": [
    {
     "data": {
      "text/html": [
       "<div>\n",
       "<style>\n",
       "    .dataframe thead tr:only-child th {\n",
       "        text-align: right;\n",
       "    }\n",
       "\n",
       "    .dataframe thead th {\n",
       "        text-align: left;\n",
       "    }\n",
       "\n",
       "    .dataframe tbody tr th {\n",
       "        vertical-align: top;\n",
       "    }\n",
       "</style>\n",
       "<table border=\"1\" class=\"dataframe\">\n",
       "  <thead>\n",
       "    <tr style=\"text-align: right;\">\n",
       "      <th></th>\n",
       "      <th>book_id</th>\n",
       "      <th>question_id</th>\n",
       "      <th>section_id</th>\n",
       "      <th>Gutenberg</th>\n",
       "      <th>Unnamed: 0_x</th>\n",
       "      <th>question</th>\n",
       "      <th>answer</th>\n",
       "      <th>syntax</th>\n",
       "      <th>Unnamed: 0_y</th>\n",
       "      <th>context</th>\n",
       "      <th>tags</th>\n",
       "    </tr>\n",
       "  </thead>\n",
       "  <tbody>\n",
       "    <tr>\n",
       "      <th>0</th>\n",
       "      <td>93</td>\n",
       "      <td>180</td>\n",
       "      <td>30</td>\n",
       "      <td>1</td>\n",
       "      <td>179.0</td>\n",
       "      <td>180. How many days after returning home\\r\\r\\r\\...</td>\n",
       "      <td>Two</td>\n",
       "      <td>True</td>\n",
       "      <td>1619.0</td>\n",
       "      <td>\\r\\nIN WHICH IT IS SHOWN THAT PHILEAS FOGG GAI...</td>\n",
       "      <td>93\\30.txt</td>\n",
       "    </tr>\n",
       "    <tr>\n",
       "      <th>1</th>\n",
       "      <td>93</td>\n",
       "      <td>179</td>\n",
       "      <td>30</td>\n",
       "      <td>1</td>\n",
       "      <td>178.0</td>\n",
       "      <td>179. What does Fogg get from his journey\\r\\r\\r...</td>\n",
       "      <td>All of these</td>\n",
       "      <td>True</td>\n",
       "      <td>1619.0</td>\n",
       "      <td>\\r\\nIN WHICH IT IS SHOWN THAT PHILEAS FOGG GAI...</td>\n",
       "      <td>93\\30.txt</td>\n",
       "    </tr>\n",
       "    <tr>\n",
       "      <th>2</th>\n",
       "      <td>93</td>\n",
       "      <td>178</td>\n",
       "      <td>30</td>\n",
       "      <td>1</td>\n",
       "      <td>177.0</td>\n",
       "      <td>178. Who says: \"That we might have\\r\\r\\r\\nmade...</td>\n",
       "      <td>Passepartout</td>\n",
       "      <td>True</td>\n",
       "      <td>1619.0</td>\n",
       "      <td>\\r\\nIN WHICH IT IS SHOWN THAT PHILEAS FOGG GAI...</td>\n",
       "      <td>93\\30.txt</td>\n",
       "    </tr>\n",
       "    <tr>\n",
       "      <th>3</th>\n",
       "      <td>93</td>\n",
       "      <td>177</td>\n",
       "      <td>30</td>\n",
       "      <td>1</td>\n",
       "      <td>176.0</td>\n",
       "      <td>177. What does Passepartout do with the\\r\\r\\r\\...</td>\n",
       "      <td>He splits it between Passepartout and Fix</td>\n",
       "      <td>True</td>\n",
       "      <td>1619.0</td>\n",
       "      <td>\\r\\nIN WHICH IT IS SHOWN THAT PHILEAS FOGG GAI...</td>\n",
       "      <td>93\\30.txt</td>\n",
       "    </tr>\n",
       "    <tr>\n",
       "      <th>4</th>\n",
       "      <td>93</td>\n",
       "      <td>176</td>\n",
       "      <td>30</td>\n",
       "      <td>1</td>\n",
       "      <td>175.0</td>\n",
       "      <td>176. What does Passepartout discover on\\r\\r\\r\\...</td>\n",
       "      <td>They arrived on Saturday, not Sunday</td>\n",
       "      <td>True</td>\n",
       "      <td>1619.0</td>\n",
       "      <td>\\r\\nIN WHICH IT IS SHOWN THAT PHILEAS FOGG GAI...</td>\n",
       "      <td>93\\30.txt</td>\n",
       "    </tr>\n",
       "    <tr>\n",
       "      <th>...</th>\n",
       "      <td>...</td>\n",
       "      <td>...</td>\n",
       "      <td>...</td>\n",
       "      <td>...</td>\n",
       "      <td>...</td>\n",
       "      <td>...</td>\n",
       "      <td>...</td>\n",
       "      <td>...</td>\n",
       "      <td>...</td>\n",
       "      <td>...</td>\n",
       "      <td>...</td>\n",
       "    </tr>\n",
       "    <tr>\n",
       "      <th>16459</th>\n",
       "      <td>127</td>\n",
       "      <td>68</td>\n",
       "      <td>2</td>\n",
       "      <td>1</td>\n",
       "      <td>2767.0</td>\n",
       "      <td>68. What does Fauchelevent actually carry out ...</td>\n",
       "      <td>Jean Valjean</td>\n",
       "      <td>True</td>\n",
       "      <td>548.0</td>\n",
       "      <td>���VOLUME II.--COSETTE\\r\\n\\r\\n\\r\\n\\r\\nBOOK FIR...</td>\n",
       "      <td>127\\2.txt</td>\n",
       "    </tr>\n",
       "    <tr>\n",
       "      <th>16460</th>\n",
       "      <td>127</td>\n",
       "      <td>69</td>\n",
       "      <td>2</td>\n",
       "      <td>1</td>\n",
       "      <td>2768.0</td>\n",
       "      <td>69. Fauchelevent tells the nuns that Jean Valj...</td>\n",
       "      <td>Ultimus</td>\n",
       "      <td>True</td>\n",
       "      <td>548.0</td>\n",
       "      <td>���VOLUME II.--COSETTE\\r\\n\\r\\n\\r\\n\\r\\nBOOK FIR...</td>\n",
       "      <td>127\\2.txt</td>\n",
       "    </tr>\n",
       "    <tr>\n",
       "      <th>16461</th>\n",
       "      <td>127</td>\n",
       "      <td>70</td>\n",
       "      <td>2</td>\n",
       "      <td>1</td>\n",
       "      <td>2769.0</td>\n",
       "      <td>70. Where does Cosette enroll in school in Boo...</td>\n",
       "      <td>At the convent</td>\n",
       "      <td>True</td>\n",
       "      <td>548.0</td>\n",
       "      <td>���VOLUME II.--COSETTE\\r\\n\\r\\n\\r\\n\\r\\nBOOK FIR...</td>\n",
       "      <td>127\\2.txt</td>\n",
       "    </tr>\n",
       "    <tr>\n",
       "      <th>16462</th>\n",
       "      <td>127</td>\n",
       "      <td>71</td>\n",
       "      <td>2</td>\n",
       "      <td>1</td>\n",
       "      <td>2770.0</td>\n",
       "      <td>71. Who is Cosette’s mother in the novel?\\r\\r\\n</td>\n",
       "      <td>Fantine</td>\n",
       "      <td>True</td>\n",
       "      <td>548.0</td>\n",
       "      <td>���VOLUME II.--COSETTE\\r\\n\\r\\n\\r\\n\\r\\nBOOK FIR...</td>\n",
       "      <td>127\\2.txt</td>\n",
       "    </tr>\n",
       "    <tr>\n",
       "      <th>16463</th>\n",
       "      <td>127</td>\n",
       "      <td>72</td>\n",
       "      <td>2</td>\n",
       "      <td>1</td>\n",
       "      <td>2771.0</td>\n",
       "      <td>72. What is the name of Cosette’s father in th...</td>\n",
       "      <td>Felix Tholomyes</td>\n",
       "      <td>True</td>\n",
       "      <td>548.0</td>\n",
       "      <td>���VOLUME II.--COSETTE\\r\\n\\r\\n\\r\\n\\r\\nBOOK FIR...</td>\n",
       "      <td>127\\2.txt</td>\n",
       "    </tr>\n",
       "  </tbody>\n",
       "</table>\n",
       "<p>16464 rows × 11 columns</p>\n",
       "</div>"
      ],
      "text/plain": [
       "       book_id  question_id  section_id  Gutenberg  Unnamed: 0_x                                           question                                     answer syntax  Unnamed: 0_y  \\\n",
       "0           93          180          30          1         179.0  180. How many days after returning home\\r\\r\\r\\...                                        Two   True        1619.0   \n",
       "1           93          179          30          1         178.0  179. What does Fogg get from his journey\\r\\r\\r...                               All of these   True        1619.0   \n",
       "2           93          178          30          1         177.0  178. Who says: \"That we might have\\r\\r\\r\\nmade...                               Passepartout   True        1619.0   \n",
       "3           93          177          30          1         176.0  177. What does Passepartout do with the\\r\\r\\r\\...  He splits it between Passepartout and Fix   True        1619.0   \n",
       "4           93          176          30          1         175.0  176. What does Passepartout discover on\\r\\r\\r\\...       They arrived on Saturday, not Sunday   True        1619.0   \n",
       "...        ...          ...         ...        ...           ...                                                ...                                        ...    ...           ...   \n",
       "16459      127           68           2          1        2767.0  68. What does Fauchelevent actually carry out ...                               Jean Valjean   True         548.0   \n",
       "16460      127           69           2          1        2768.0  69. Fauchelevent tells the nuns that Jean Valj...                                    Ultimus   True         548.0   \n",
       "16461      127           70           2          1        2769.0  70. Where does Cosette enroll in school in Boo...                             At the convent   True         548.0   \n",
       "16462      127           71           2          1        2770.0    71. Who is Cosette’s mother in the novel?\\r\\r\\n                                    Fantine   True         548.0   \n",
       "16463      127           72           2          1        2771.0  72. What is the name of Cosette’s father in th...                            Felix Tholomyes   True         548.0   \n",
       "\n",
       "                                                 context       tags  \n",
       "0      \\r\\nIN WHICH IT IS SHOWN THAT PHILEAS FOGG GAI...  93\\30.txt  \n",
       "1      \\r\\nIN WHICH IT IS SHOWN THAT PHILEAS FOGG GAI...  93\\30.txt  \n",
       "2      \\r\\nIN WHICH IT IS SHOWN THAT PHILEAS FOGG GAI...  93\\30.txt  \n",
       "3      \\r\\nIN WHICH IT IS SHOWN THAT PHILEAS FOGG GAI...  93\\30.txt  \n",
       "4      \\r\\nIN WHICH IT IS SHOWN THAT PHILEAS FOGG GAI...  93\\30.txt  \n",
       "...                                                  ...        ...  \n",
       "16459  ���VOLUME II.--COSETTE\\r\\n\\r\\n\\r\\n\\r\\nBOOK FIR...  127\\2.txt  \n",
       "16460  ���VOLUME II.--COSETTE\\r\\n\\r\\n\\r\\n\\r\\nBOOK FIR...  127\\2.txt  \n",
       "16461  ���VOLUME II.--COSETTE\\r\\n\\r\\n\\r\\n\\r\\nBOOK FIR...  127\\2.txt  \n",
       "16462  ���VOLUME II.--COSETTE\\r\\n\\r\\n\\r\\n\\r\\nBOOK FIR...  127\\2.txt  \n",
       "16463  ���VOLUME II.--COSETTE\\r\\n\\r\\n\\r\\n\\r\\nBOOK FIR...  127\\2.txt  \n",
       "\n",
       "[16464 rows x 11 columns]"
      ]
     },
     "execution_count": 24,
     "metadata": {},
     "output_type": "execute_result"
    }
   ],
   "source": [
    "pd.options.display.max_rows = 10\n",
    "df_merge2"
   ]
  },
  {
   "cell_type": "raw",
   "metadata": {},
   "source": [
    "Combining "
   ]
  },
  {
   "cell_type": "code",
   "execution_count": 25,
   "metadata": {},
   "outputs": [
    {
     "data": {
      "text/plain": [
       "book_id           int64\n",
       "question_id       int64\n",
       "section_id        int64\n",
       "Gutenberg         int64\n",
       "Unnamed: 0_x    float64\n",
       "                 ...   \n",
       "answer           object\n",
       "syntax           object\n",
       "Unnamed: 0_y    float64\n",
       "context          object\n",
       "tags             object\n",
       "Length: 11, dtype: object"
      ]
     },
     "execution_count": 25,
     "metadata": {},
     "output_type": "execute_result"
    }
   ],
   "source": [
    "df_merge2.dtypes"
   ]
  },
  {
   "cell_type": "code",
   "execution_count": 26,
   "metadata": {
    "collapsed": true
   },
   "outputs": [],
   "source": [
    "#df_merge2[\"train_text\"] =  df_merge2[\"question\"].map(str) + str(' ') +  df_merge2[\"context\"]"
   ]
  },
  {
   "cell_type": "code",
   "execution_count": 27,
   "metadata": {
    "scrolled": false
   },
   "outputs": [
    {
     "name": "stdout",
     "output_type": "stream",
     "text": [
      "height has been deprecated.\n",
      "\n"
     ]
    },
    {
     "data": {
      "text/html": [
       "<div>\n",
       "<style>\n",
       "    .dataframe thead tr:only-child th {\n",
       "        text-align: right;\n",
       "    }\n",
       "\n",
       "    .dataframe thead th {\n",
       "        text-align: left;\n",
       "    }\n",
       "\n",
       "    .dataframe tbody tr th {\n",
       "        vertical-align: top;\n",
       "    }\n",
       "</style>\n",
       "<table border=\"1\" class=\"dataframe\">\n",
       "  <thead>\n",
       "    <tr style=\"text-align: right;\">\n",
       "      <th></th>\n",
       "      <th>book_id</th>\n",
       "      <th>question_id</th>\n",
       "      <th>section_id</th>\n",
       "      <th>Gutenberg</th>\n",
       "      <th>Unnamed: 0_x</th>\n",
       "      <th>question</th>\n",
       "      <th>answer</th>\n",
       "      <th>syntax</th>\n",
       "      <th>Unnamed: 0_y</th>\n",
       "      <th>context</th>\n",
       "      <th>tags</th>\n",
       "    </tr>\n",
       "  </thead>\n",
       "  <tbody>\n",
       "    <tr>\n",
       "      <th>1</th>\n",
       "      <td>93</td>\n",
       "      <td>179</td>\n",
       "      <td>30</td>\n",
       "      <td>1</td>\n",
       "      <td>178.0</td>\n",
       "      <td>179. What does Fogg get from his jou...</td>\n",
       "      <td>All of these</td>\n",
       "      <td>True</td>\n",
       "      <td>1619.0</td>\n",
       "      <td>\\r\\nIN WHICH IT IS SHOWN THAT PHILEA...</td>\n",
       "      <td>93\\30.txt</td>\n",
       "    </tr>\n",
       "    <tr>\n",
       "      <th>2</th>\n",
       "      <td>93</td>\n",
       "      <td>178</td>\n",
       "      <td>30</td>\n",
       "      <td>1</td>\n",
       "      <td>177.0</td>\n",
       "      <td>178. Who says: \"That we might have\\r...</td>\n",
       "      <td>Passepartout</td>\n",
       "      <td>True</td>\n",
       "      <td>1619.0</td>\n",
       "      <td>\\r\\nIN WHICH IT IS SHOWN THAT PHILEA...</td>\n",
       "      <td>93\\30.txt</td>\n",
       "    </tr>\n",
       "    <tr>\n",
       "      <th>3</th>\n",
       "      <td>93</td>\n",
       "      <td>177</td>\n",
       "      <td>30</td>\n",
       "      <td>1</td>\n",
       "      <td>176.0</td>\n",
       "      <td>177. What does Passepartout do with ...</td>\n",
       "      <td>He splits it between Passepartout an...</td>\n",
       "      <td>True</td>\n",
       "      <td>1619.0</td>\n",
       "      <td>\\r\\nIN WHICH IT IS SHOWN THAT PHILEA...</td>\n",
       "      <td>93\\30.txt</td>\n",
       "    </tr>\n",
       "    <tr>\n",
       "      <th>4</th>\n",
       "      <td>93</td>\n",
       "      <td>176</td>\n",
       "      <td>30</td>\n",
       "      <td>1</td>\n",
       "      <td>175.0</td>\n",
       "      <td>176. What does Passepartout discover...</td>\n",
       "      <td>They arrived on Saturday, not Sunday</td>\n",
       "      <td>True</td>\n",
       "      <td>1619.0</td>\n",
       "      <td>\\r\\nIN WHICH IT IS SHOWN THAT PHILEA...</td>\n",
       "      <td>93\\30.txt</td>\n",
       "    </tr>\n",
       "    <tr>\n",
       "      <th>5</th>\n",
       "      <td>93</td>\n",
       "      <td>175</td>\n",
       "      <td>30</td>\n",
       "      <td>1</td>\n",
       "      <td>174.0</td>\n",
       "      <td>175. What errand does Fogg send\\r\\r\\...</td>\n",
       "      <td>To secure a minister</td>\n",
       "      <td>True</td>\n",
       "      <td>1619.0</td>\n",
       "      <td>\\r\\nIN WHICH IT IS SHOWN THAT PHILEA...</td>\n",
       "      <td>93\\30.txt</td>\n",
       "    </tr>\n",
       "    <tr>\n",
       "      <th>...</th>\n",
       "      <td>...</td>\n",
       "      <td>...</td>\n",
       "      <td>...</td>\n",
       "      <td>...</td>\n",
       "      <td>...</td>\n",
       "      <td>...</td>\n",
       "      <td>...</td>\n",
       "      <td>...</td>\n",
       "      <td>...</td>\n",
       "      <td>...</td>\n",
       "      <td>...</td>\n",
       "    </tr>\n",
       "    <tr>\n",
       "      <th>95</th>\n",
       "      <td>93</td>\n",
       "      <td>85</td>\n",
       "      <td>15</td>\n",
       "      <td>1</td>\n",
       "      <td>84.0</td>\n",
       "      <td>85. What day does the Carnatic sail ...</td>\n",
       "      <td>November 7th</td>\n",
       "      <td>True</td>\n",
       "      <td>1602.0</td>\n",
       "      <td>\\r\\nIN WHICH PASSEPARTOUT FINDS OUT ...</td>\n",
       "      <td>93\\15.txt</td>\n",
       "    </tr>\n",
       "    <tr>\n",
       "      <th>96</th>\n",
       "      <td>93</td>\n",
       "      <td>84</td>\n",
       "      <td>14</td>\n",
       "      <td>1</td>\n",
       "      <td>83.0</td>\n",
       "      <td>84. Where is the typhoon that the\\r\\...</td>\n",
       "      <td>In the China Sea</td>\n",
       "      <td>True</td>\n",
       "      <td>1601.0</td>\n",
       "      <td>\\r\\nIN WHICH THE MASTER OF THE \"TANK...</td>\n",
       "      <td>93\\14.txt</td>\n",
       "    </tr>\n",
       "    <tr>\n",
       "      <th>97</th>\n",
       "      <td>93</td>\n",
       "      <td>83</td>\n",
       "      <td>14</td>\n",
       "      <td>1</td>\n",
       "      <td>82.0</td>\n",
       "      <td>83. What does Fix offer Fogg after F...</td>\n",
       "      <td>To pay for his passage</td>\n",
       "      <td>True</td>\n",
       "      <td>1601.0</td>\n",
       "      <td>\\r\\nIN WHICH THE MASTER OF THE \"TANK...</td>\n",
       "      <td>93\\14.txt</td>\n",
       "    </tr>\n",
       "    <tr>\n",
       "      <th>98</th>\n",
       "      <td>93</td>\n",
       "      <td>82</td>\n",
       "      <td>14</td>\n",
       "      <td>1</td>\n",
       "      <td>81.0</td>\n",
       "      <td>82. How many sails are left up on th...</td>\n",
       "      <td>One</td>\n",
       "      <td>True</td>\n",
       "      <td>1601.0</td>\n",
       "      <td>\\r\\nIN WHICH THE MASTER OF THE \"TANK...</td>\n",
       "      <td>93\\14.txt</td>\n",
       "    </tr>\n",
       "    <tr>\n",
       "      <th>99</th>\n",
       "      <td>93</td>\n",
       "      <td>81</td>\n",
       "      <td>14</td>\n",
       "      <td>1</td>\n",
       "      <td>80.0</td>\n",
       "      <td>81. Who refuses to go below on the\\r...</td>\n",
       "      <td>Aouda and Fogg</td>\n",
       "      <td>True</td>\n",
       "      <td>1601.0</td>\n",
       "      <td>\\r\\nIN WHICH THE MASTER OF THE \"TANK...</td>\n",
       "      <td>93\\14.txt</td>\n",
       "    </tr>\n",
       "  </tbody>\n",
       "</table>\n",
       "<p>99 rows × 11 columns</p>\n",
       "</div>"
      ],
      "text/plain": [
       "    book_id  question_id  section_id  Gutenberg  Unnamed: 0_x  \\\n",
       "1        93          179          30          1         178.0   \n",
       "2        93          178          30          1         177.0   \n",
       "3        93          177          30          1         176.0   \n",
       "4        93          176          30          1         175.0   \n",
       "5        93          175          30          1         174.0   \n",
       "..      ...          ...         ...        ...           ...   \n",
       "95       93           85          15          1          84.0   \n",
       "96       93           84          14          1          83.0   \n",
       "97       93           83          14          1          82.0   \n",
       "98       93           82          14          1          81.0   \n",
       "99       93           81          14          1          80.0   \n",
       "\n",
       "                                   question                                   answer syntax  \\\n",
       "1   179. What does Fogg get from his jou...                             All of these   True   \n",
       "2   178. Who says: \"That we might have\\r...                             Passepartout   True   \n",
       "3   177. What does Passepartout do with ...  He splits it between Passepartout an...   True   \n",
       "4   176. What does Passepartout discover...     They arrived on Saturday, not Sunday   True   \n",
       "5   175. What errand does Fogg send\\r\\r\\...                     To secure a minister   True   \n",
       "..                                      ...                                      ...    ...   \n",
       "95  85. What day does the Carnatic sail ...                             November 7th   True   \n",
       "96  84. Where is the typhoon that the\\r\\...                         In the China Sea   True   \n",
       "97  83. What does Fix offer Fogg after F...                   To pay for his passage   True   \n",
       "98  82. How many sails are left up on th...                                      One   True   \n",
       "99  81. Who refuses to go below on the\\r...                           Aouda and Fogg   True   \n",
       "\n",
       "    Unnamed: 0_y                                  context       tags  \n",
       "1         1619.0  \\r\\nIN WHICH IT IS SHOWN THAT PHILEA...  93\\30.txt  \n",
       "2         1619.0  \\r\\nIN WHICH IT IS SHOWN THAT PHILEA...  93\\30.txt  \n",
       "3         1619.0  \\r\\nIN WHICH IT IS SHOWN THAT PHILEA...  93\\30.txt  \n",
       "4         1619.0  \\r\\nIN WHICH IT IS SHOWN THAT PHILEA...  93\\30.txt  \n",
       "5         1619.0  \\r\\nIN WHICH IT IS SHOWN THAT PHILEA...  93\\30.txt  \n",
       "..           ...                                      ...        ...  \n",
       "95        1602.0  \\r\\nIN WHICH PASSEPARTOUT FINDS OUT ...  93\\15.txt  \n",
       "96        1601.0  \\r\\nIN WHICH THE MASTER OF THE \"TANK...  93\\14.txt  \n",
       "97        1601.0  \\r\\nIN WHICH THE MASTER OF THE \"TANK...  93\\14.txt  \n",
       "98        1601.0  \\r\\nIN WHICH THE MASTER OF THE \"TANK...  93\\14.txt  \n",
       "99        1601.0  \\r\\nIN WHICH THE MASTER OF THE \"TANK...  93\\14.txt  \n",
       "\n",
       "[99 rows x 11 columns]"
      ]
     },
     "execution_count": 27,
     "metadata": {},
     "output_type": "execute_result"
    }
   ],
   "source": [
    "pd.set_option('display.width', 100)\n",
    "pd.set_option('display.height', 100)\n",
    "pd.set_option('max_colwidth',40)\n",
    "pd.options.display.max_rows = 10\n",
    "df_merge2[1:100]"
   ]
  },
  {
   "cell_type": "code",
   "execution_count": 28,
   "metadata": {
    "collapsed": true
   },
   "outputs": [],
   "source": [
    "df_merge2[\"context\"] = df_merge2[\"context\"].str.replace(\"[^\\w\\. \\r \\n @-]\",'')"
   ]
  },
  {
   "cell_type": "code",
   "execution_count": 29,
   "metadata": {
    "collapsed": true
   },
   "outputs": [],
   "source": [
    "df_merge2[\"train_text\"] =  df_merge2[\"question\"].astype('str') + str(' ') +  df_merge2[\"context\"].astype('str')"
   ]
  },
  {
   "cell_type": "code",
   "execution_count": 30,
   "metadata": {
    "collapsed": true
   },
   "outputs": [],
   "source": [
    "df_model = df_merge2[[\"train_text\", \"answer\"]]"
   ]
  },
  {
   "cell_type": "code",
   "execution_count": 31,
   "metadata": {
    "scrolled": true
   },
   "outputs": [
    {
     "data": {
      "text/plain": [
       "0        180. How many days after returning h...\n",
       "1        179. What does Fogg get from his jou...\n",
       "2        178. Who says: \"That we might have\\r...\n",
       "3        177. What does Passepartout do with ...\n",
       "4        176. What does Passepartout discover...\n",
       "                          ...                   \n",
       "16459    68. What does Fauchelevent actually ...\n",
       "16460    69. Fauchelevent tells the nuns that...\n",
       "16461    70. Where does Cosette enroll in sch...\n",
       "16462    71. Who is Cosette’s mother in the n...\n",
       "16463    72. What is the name of Cosette’s fa...\n",
       "Name: train_text, Length: 16464, dtype: object"
      ]
     },
     "execution_count": 31,
     "metadata": {},
     "output_type": "execute_result"
    }
   ],
   "source": [
    "#pd.set_option('display.max_colwidth', -1) \n",
    "df_merge2[\"train_text\"]"
   ]
  },
  {
   "cell_type": "code",
   "execution_count": 32,
   "metadata": {},
   "outputs": [
    {
     "data": {
      "text/html": [
       "<div>\n",
       "<style>\n",
       "    .dataframe thead tr:only-child th {\n",
       "        text-align: right;\n",
       "    }\n",
       "\n",
       "    .dataframe thead th {\n",
       "        text-align: left;\n",
       "    }\n",
       "\n",
       "    .dataframe tbody tr th {\n",
       "        vertical-align: top;\n",
       "    }\n",
       "</style>\n",
       "<table border=\"1\" class=\"dataframe\">\n",
       "  <thead>\n",
       "    <tr style=\"text-align: right;\">\n",
       "      <th></th>\n",
       "      <th>train_text</th>\n",
       "      <th>answer</th>\n",
       "    </tr>\n",
       "  </thead>\n",
       "  <tbody>\n",
       "    <tr>\n",
       "      <th>0</th>\n",
       "      <td>180. How many days after returning h...</td>\n",
       "      <td>Two</td>\n",
       "    </tr>\n",
       "    <tr>\n",
       "      <th>1</th>\n",
       "      <td>179. What does Fogg get from his jou...</td>\n",
       "      <td>All of these</td>\n",
       "    </tr>\n",
       "    <tr>\n",
       "      <th>2</th>\n",
       "      <td>178. Who says: \"That we might have\\r...</td>\n",
       "      <td>Passepartout</td>\n",
       "    </tr>\n",
       "    <tr>\n",
       "      <th>3</th>\n",
       "      <td>177. What does Passepartout do with ...</td>\n",
       "      <td>He splits it between Passepartout an...</td>\n",
       "    </tr>\n",
       "    <tr>\n",
       "      <th>4</th>\n",
       "      <td>176. What does Passepartout discover...</td>\n",
       "      <td>They arrived on Saturday, not Sunday</td>\n",
       "    </tr>\n",
       "  </tbody>\n",
       "</table>\n",
       "</div>"
      ],
      "text/plain": [
       "                                train_text                                   answer\n",
       "0  180. How many days after returning h...                                      Two\n",
       "1  179. What does Fogg get from his jou...                             All of these\n",
       "2  178. Who says: \"That we might have\\r...                             Passepartout\n",
       "3  177. What does Passepartout do with ...  He splits it between Passepartout an...\n",
       "4  176. What does Passepartout discover...     They arrived on Saturday, not Sunday"
      ]
     },
     "execution_count": 32,
     "metadata": {},
     "output_type": "execute_result"
    }
   ],
   "source": [
    "df_model.head()"
   ]
  },
  {
   "cell_type": "code",
   "execution_count": 33,
   "metadata": {},
   "outputs": [
    {
     "name": "stderr",
     "output_type": "stream",
     "text": [
      "/home/jennifer_p/anaconda3/lib/python3.6/site-packages/ipykernel_launcher.py:1: SettingWithCopyWarning: \n",
      "A value is trying to be set on a copy of a slice from a DataFrame.\n",
      "Try using .loc[row_indexer,col_indexer] = value instead\n",
      "\n",
      "See the caveats in the documentation: http://pandas.pydata.org/pandas-docs/stable/indexing.html#indexing-view-versus-copy\n",
      "  \"\"\"Entry point for launching an IPython kernel.\n",
      "/home/jennifer_p/anaconda3/lib/python3.6/site-packages/ipykernel_launcher.py:2: SettingWithCopyWarning: \n",
      "A value is trying to be set on a copy of a slice from a DataFrame.\n",
      "Try using .loc[row_indexer,col_indexer] = value instead\n",
      "\n",
      "See the caveats in the documentation: http://pandas.pydata.org/pandas-docs/stable/indexing.html#indexing-view-versus-copy\n",
      "  \n"
     ]
    }
   ],
   "source": [
    "df_model['train_text']= df_model['train_text'].str.lower()\n",
    "df_model['answer']= df_model['answer'].str.lower()"
   ]
  },
  {
   "cell_type": "code",
   "execution_count": 34,
   "metadata": {},
   "outputs": [
    {
     "name": "stderr",
     "output_type": "stream",
     "text": [
      "/home/jennifer_p/anaconda3/lib/python3.6/site-packages/ipykernel_launcher.py:1: SettingWithCopyWarning: \n",
      "A value is trying to be set on a copy of a slice from a DataFrame.\n",
      "Try using .loc[row_indexer,col_indexer] = value instead\n",
      "\n",
      "See the caveats in the documentation: http://pandas.pydata.org/pandas-docs/stable/indexing.html#indexing-view-versus-copy\n",
      "  \"\"\"Entry point for launching an IPython kernel.\n",
      "/home/jennifer_p/anaconda3/lib/python3.6/site-packages/ipykernel_launcher.py:2: SettingWithCopyWarning: \n",
      "A value is trying to be set on a copy of a slice from a DataFrame.\n",
      "Try using .loc[row_indexer,col_indexer] = value instead\n",
      "\n",
      "See the caveats in the documentation: http://pandas.pydata.org/pandas-docs/stable/indexing.html#indexing-view-versus-copy\n",
      "  \n",
      "/home/jennifer_p/anaconda3/lib/python3.6/site-packages/ipykernel_launcher.py:3: SettingWithCopyWarning: \n",
      "A value is trying to be set on a copy of a slice from a DataFrame.\n",
      "Try using .loc[row_indexer,col_indexer] = value instead\n",
      "\n",
      "See the caveats in the documentation: http://pandas.pydata.org/pandas-docs/stable/indexing.html#indexing-view-versus-copy\n",
      "  This is separate from the ipykernel package so we can avoid doing imports until\n",
      "/home/jennifer_p/anaconda3/lib/python3.6/site-packages/ipykernel_launcher.py:4: SettingWithCopyWarning: \n",
      "A value is trying to be set on a copy of a slice from a DataFrame.\n",
      "Try using .loc[row_indexer,col_indexer] = value instead\n",
      "\n",
      "See the caveats in the documentation: http://pandas.pydata.org/pandas-docs/stable/indexing.html#indexing-view-versus-copy\n",
      "  after removing the cwd from sys.path.\n"
     ]
    }
   ],
   "source": [
    "df_model['train_text'] = df_model['train_text'].str.replace('\\\\n',' ')\n",
    "df_model['train_text'] = df_model['train_text'].str.replace('\\\\r',' ')\n",
    "df_model['train_text'] = df_model['train_text'].str.replace('\\.',' ')\n",
    "df_model['train_text'] = df_model['train_text'].str.replace('\\-',' ')"
   ]
  },
  {
   "cell_type": "code",
   "execution_count": 35,
   "metadata": {},
   "outputs": [
    {
     "data": {
      "text/html": [
       "<div>\n",
       "<style>\n",
       "    .dataframe thead tr:only-child th {\n",
       "        text-align: right;\n",
       "    }\n",
       "\n",
       "    .dataframe thead th {\n",
       "        text-align: left;\n",
       "    }\n",
       "\n",
       "    .dataframe tbody tr th {\n",
       "        vertical-align: top;\n",
       "    }\n",
       "</style>\n",
       "<table border=\"1\" class=\"dataframe\">\n",
       "  <thead>\n",
       "    <tr style=\"text-align: right;\">\n",
       "      <th></th>\n",
       "      <th>train_text</th>\n",
       "      <th>answer</th>\n",
       "    </tr>\n",
       "  </thead>\n",
       "  <tbody>\n",
       "    <tr>\n",
       "      <th>16000</th>\n",
       "      <td>149  what does the defense attorney ...</td>\n",
       "      <td>ideal</td>\n",
       "    </tr>\n",
       "    <tr>\n",
       "      <th>16001</th>\n",
       "      <td>150  what does the defense attorney ...</td>\n",
       "      <td>the truth of russia</td>\n",
       "    </tr>\n",
       "    <tr>\n",
       "      <th>16002</th>\n",
       "      <td>151  who is not sympathetic to the p...</td>\n",
       "      <td>the crowd</td>\n",
       "    </tr>\n",
       "    <tr>\n",
       "      <th>16003</th>\n",
       "      <td>152  what does the prosecutor say th...</td>\n",
       "      <td>riddles</td>\n",
       "    </tr>\n",
       "    <tr>\n",
       "      <th>16004</th>\n",
       "      <td>153  who becomes loud and angry and ...</td>\n",
       "      <td>kirillovich</td>\n",
       "    </tr>\n",
       "    <tr>\n",
       "      <th>...</th>\n",
       "      <td>...</td>\n",
       "      <td>...</td>\n",
       "    </tr>\n",
       "    <tr>\n",
       "      <th>16459</th>\n",
       "      <td>68  what does fauchelevent actually ...</td>\n",
       "      <td>jean valjean</td>\n",
       "    </tr>\n",
       "    <tr>\n",
       "      <th>16460</th>\n",
       "      <td>69  fauchelevent tells the nuns that...</td>\n",
       "      <td>ultimus</td>\n",
       "    </tr>\n",
       "    <tr>\n",
       "      <th>16461</th>\n",
       "      <td>70  where does cosette enroll in sch...</td>\n",
       "      <td>at the convent</td>\n",
       "    </tr>\n",
       "    <tr>\n",
       "      <th>16462</th>\n",
       "      <td>71  who is cosette’s mother in the n...</td>\n",
       "      <td>fantine</td>\n",
       "    </tr>\n",
       "    <tr>\n",
       "      <th>16463</th>\n",
       "      <td>72  what is the name of cosette’s fa...</td>\n",
       "      <td>felix tholomyes</td>\n",
       "    </tr>\n",
       "  </tbody>\n",
       "</table>\n",
       "<p>464 rows × 2 columns</p>\n",
       "</div>"
      ],
      "text/plain": [
       "                                    train_text               answer\n",
       "16000  149  what does the defense attorney ...                ideal\n",
       "16001  150  what does the defense attorney ...  the truth of russia\n",
       "16002  151  who is not sympathetic to the p...            the crowd\n",
       "16003  152  what does the prosecutor say th...              riddles\n",
       "16004  153  who becomes loud and angry and ...          kirillovich\n",
       "...                                        ...                  ...\n",
       "16459  68  what does fauchelevent actually ...         jean valjean\n",
       "16460  69  fauchelevent tells the nuns that...              ultimus\n",
       "16461  70  where does cosette enroll in sch...       at the convent\n",
       "16462  71  who is cosette’s mother in the n...              fantine\n",
       "16463  72  what is the name of cosette’s fa...      felix tholomyes\n",
       "\n",
       "[464 rows x 2 columns]"
      ]
     },
     "execution_count": 35,
     "metadata": {},
     "output_type": "execute_result"
    }
   ],
   "source": [
    "df_model[16000:]"
   ]
  },
  {
   "cell_type": "code",
   "execution_count": 36,
   "metadata": {},
   "outputs": [
    {
     "data": {
      "text/html": [
       "<div>\n",
       "<style>\n",
       "    .dataframe thead tr:only-child th {\n",
       "        text-align: right;\n",
       "    }\n",
       "\n",
       "    .dataframe thead th {\n",
       "        text-align: left;\n",
       "    }\n",
       "\n",
       "    .dataframe tbody tr th {\n",
       "        vertical-align: top;\n",
       "    }\n",
       "</style>\n",
       "<table border=\"1\" class=\"dataframe\">\n",
       "  <thead>\n",
       "    <tr style=\"text-align: right;\">\n",
       "      <th></th>\n",
       "      <th>train_text</th>\n",
       "      <th>answer</th>\n",
       "    </tr>\n",
       "  </thead>\n",
       "  <tbody>\n",
       "    <tr>\n",
       "      <th>16459</th>\n",
       "      <td>68  what does fauchelevent actually ...</td>\n",
       "      <td>jean valjean</td>\n",
       "    </tr>\n",
       "    <tr>\n",
       "      <th>16460</th>\n",
       "      <td>69  fauchelevent tells the nuns that...</td>\n",
       "      <td>ultimus</td>\n",
       "    </tr>\n",
       "    <tr>\n",
       "      <th>16461</th>\n",
       "      <td>70  where does cosette enroll in sch...</td>\n",
       "      <td>at the convent</td>\n",
       "    </tr>\n",
       "    <tr>\n",
       "      <th>16462</th>\n",
       "      <td>71  who is cosette’s mother in the n...</td>\n",
       "      <td>fantine</td>\n",
       "    </tr>\n",
       "    <tr>\n",
       "      <th>16463</th>\n",
       "      <td>72  what is the name of cosette’s fa...</td>\n",
       "      <td>felix tholomyes</td>\n",
       "    </tr>\n",
       "  </tbody>\n",
       "</table>\n",
       "</div>"
      ],
      "text/plain": [
       "                                    train_text           answer\n",
       "16459  68  what does fauchelevent actually ...     jean valjean\n",
       "16460  69  fauchelevent tells the nuns that...          ultimus\n",
       "16461  70  where does cosette enroll in sch...   at the convent\n",
       "16462  71  who is cosette’s mother in the n...          fantine\n",
       "16463  72  what is the name of cosette’s fa...  felix tholomyes"
      ]
     },
     "execution_count": 36,
     "metadata": {},
     "output_type": "execute_result"
    }
   ],
   "source": [
    "df_model.tail()"
   ]
  },
  {
   "cell_type": "code",
   "execution_count": 37,
   "metadata": {},
   "outputs": [
    {
     "data": {
      "text/plain": [
       "'180  how many days after returning home    are fogg and aouda married?   in which it is shown that phileas fogg gained nothing by his tour  around the world unless it were happiness      yes phileas fogg in person     the reader will remember that at five minutes past eight in the  evening  about five and twenty hours after the arrival of the  travellers in london  passepartout had been sent by his master to  engage the services of the reverend samuel wilson in a certain marriage  ceremony which was to take place the next day     passepartout went on his errand enchanted   he soon reached the  clergymans house but found him not at home   passepartout waited a  good twenty minutes and when he left the reverend gentleman it was  thirty five minutes past eight   but in what a state he was  with his  hair in disorder and without his hat he ran along the street as never  man was seen to run before overturning passers by rushing over the  sidewalk like a waterspout     in three minutes he was in saville row again and staggered back into  mr  foggs room     he could not speak     what is the matter asked mr  fogg     my master gasped passepartout  marriage  impossible      impossible    impossible  for to morrow     why so    because to morrow  is sunday    monday replied mr  fogg     no  to day is saturday     saturday  impossible    yes yes yes yes cried passepartout   you have made a mistake of  one day  we arrived twenty four hours ahead of time but there are  only ten minutes left    passepartout had seized his master by the collar and was dragging him  along with irresistible force     phileas fogg thus kidnapped without having time to think left his  house jumped into a cab promised a hundred pounds to the cabman and  having run over two dogs and overturned five carriages reached the  reform club     the clock indicated a quarter before nine when he appeared in the great  saloon     phileas fogg had accomplished the journey round the world in eighty  days    phileas fogg had won his wager of twenty thousand pounds    how was it that a man so exact and fastidious could have made this  error of a day  how came he to think that he had arrived in london on  saturday the twenty first day of december when it was really friday  the twentieth the seventy ninth day only from his departure    the cause of the error is very simple     phileas fogg had without suspecting it gained one day on his journey  and this merely because he had travelled constantly eastward he would  on the contrary have lost a day had he gone in the opposite direction  that is westward     in journeying eastward he had gone towards the sun and the days  therefore diminished for him as many times four minutes as he crossed  degrees in this direction   there are three hundred and sixty degrees  on the circumference of the earth and these three hundred and sixty  degrees multiplied by four minutes gives precisely twenty four  hours  that is the day unconsciously gained   in other words while  phileas fogg going eastward saw the sun pass the meridian eighty  times his friends in london only saw it pass the meridian seventy nine  times   this is why they awaited him at the reform club on saturday  and not sunday as mr  fogg thought     and passepartouts famous family watch which had always kept london  time would have betrayed this fact if it had marked the days as well  as the hours and the minutes    phileas fogg then had won the twenty thousand pounds but as he had  spent nearly nineteen thousand on the way the pecuniary gain was  small   his object was however to be victorious and not to win  money   he divided the one thousand pounds that remained between  passepartout and the unfortunate fix against whom he cherished no  grudge   he deducted however from passepartouts share the cost of  the gas which had burned in his room for nineteen hundred and twenty  hours for the sake of regularity     that evening mr  fogg as tranquil and phlegmatic as ever said to  aouda is our marriage still agreeable to you    mr  fogg replied she it is for me to ask that question   you were  ruined but now you are rich again     pardon me madam my fortune belongs to you   if you had not suggested  our marriage my servant would not have gone to the reverend samuel  wilsons i should not have been apprised of my error and      dear mr  fogg said the young woman     dear aouda replied phileas fogg     it need not be said that the marriage took place forty eight hours  after and that passepartout glowing and dazzling gave the bride  away   had he not saved her and was he not entitled to this honour    the next day as soon as it was light passepartout rapped vigorously  at his masters door   mr  fogg opened it and asked whats the  matter passepartout    what is it sir  why ive just this instant found out      what    that we might have made the tour of the world in only seventy eight  days     no doubt returned mr  fogg by not crossing india   but if i had  not crossed india i should not have saved aouda she would not have  been my wife and      mr  fogg quietly shut the door     phileas fogg had won his wager and had made his journey around the  world in eighty days   to do this he had employed every means of  conveyance  steamers railways carriages yachts trading vessels  sledges elephants   the eccentric gentleman had throughout displayed  all his marvellous qualities of coolness and exactitude   but what  then  what had he really gained by all this trouble  what had he  brought back from this long and weary journey    nothing say you  perhaps so nothing but a charming woman who  strange as it may appear made him the happiest of men    truly would you not for less than that make the tour around the world                  '"
      ]
     },
     "execution_count": 37,
     "metadata": {},
     "output_type": "execute_result"
    }
   ],
   "source": [
    "df_model.iloc[0,0]"
   ]
  },
  {
   "cell_type": "code",
   "execution_count": 38,
   "metadata": {},
   "outputs": [
    {
     "data": {
      "text/plain": [
       "'two'"
      ]
     },
     "execution_count": 38,
     "metadata": {},
     "output_type": "execute_result"
    }
   ],
   "source": [
    "df_model.iloc[0,1]"
   ]
  },
  {
   "cell_type": "code",
   "execution_count": 39,
   "metadata": {
    "collapsed": true
   },
   "outputs": [],
   "source": [
    "df_model.to_csv('df_model_4-16-18.csv')"
   ]
  },
  {
   "cell_type": "markdown",
   "metadata": {},
   "source": [
    "## Figuring out the breaks for the train|test|dev split"
   ]
  },
  {
   "cell_type": "code",
   "execution_count": 40,
   "metadata": {},
   "outputs": [
    {
     "data": {
      "text/plain": [
       "9877.8"
      ]
     },
     "execution_count": 40,
     "metadata": {},
     "output_type": "execute_result"
    }
   ],
   "source": [
    "16463*0.6"
   ]
  },
  {
   "cell_type": "code",
   "execution_count": 41,
   "metadata": {},
   "outputs": [
    {
     "data": {
      "text/html": [
       "<div>\n",
       "<style>\n",
       "    .dataframe thead tr:only-child th {\n",
       "        text-align: right;\n",
       "    }\n",
       "\n",
       "    .dataframe thead th {\n",
       "        text-align: left;\n",
       "    }\n",
       "\n",
       "    .dataframe tbody tr th {\n",
       "        vertical-align: top;\n",
       "    }\n",
       "</style>\n",
       "<table border=\"1\" class=\"dataframe\">\n",
       "  <thead>\n",
       "    <tr style=\"text-align: right;\">\n",
       "      <th></th>\n",
       "      <th>book_id</th>\n",
       "      <th>question_id</th>\n",
       "      <th>section_id</th>\n",
       "      <th>Gutenberg</th>\n",
       "      <th>Unnamed: 0_x</th>\n",
       "      <th>question</th>\n",
       "      <th>answer</th>\n",
       "      <th>syntax</th>\n",
       "      <th>Unnamed: 0_y</th>\n",
       "      <th>context</th>\n",
       "      <th>tags</th>\n",
       "      <th>train_text</th>\n",
       "    </tr>\n",
       "  </thead>\n",
       "  <tbody>\n",
       "    <tr>\n",
       "      <th>9718</th>\n",
       "      <td>85</td>\n",
       "      <td>179</td>\n",
       "      <td>30</td>\n",
       "      <td>1</td>\n",
       "      <td>4759.0</td>\n",
       "      <td>179. What did Gilbert Blythe do to m...</td>\n",
       "      <td>He withdrew his application to teach...</td>\n",
       "      <td>True</td>\n",
       "      <td>1414.0</td>\n",
       "      <td>\\r\\n\\r\\nMARILLA went to town the nex...</td>\n",
       "      <td>85\\30.txt</td>\n",
       "      <td>179. What did Gilbert Blythe do to m...</td>\n",
       "    </tr>\n",
       "    <tr>\n",
       "      <th>9719</th>\n",
       "      <td>85</td>\n",
       "      <td>180</td>\n",
       "      <td>30</td>\n",
       "      <td>1</td>\n",
       "      <td>4760.0</td>\n",
       "      <td>180. Who did Anne meet on her way ba...</td>\n",
       "      <td>Gilbert Blythe</td>\n",
       "      <td>False</td>\n",
       "      <td>1414.0</td>\n",
       "      <td>\\r\\n\\r\\nMARILLA went to town the nex...</td>\n",
       "      <td>85\\30.txt</td>\n",
       "      <td>180. Who did Anne meet on her way ba...</td>\n",
       "    </tr>\n",
       "  </tbody>\n",
       "</table>\n",
       "</div>"
      ],
      "text/plain": [
       "      book_id  question_id  section_id  Gutenberg  Unnamed: 0_x  \\\n",
       "9718       85          179          30          1        4759.0   \n",
       "9719       85          180          30          1        4760.0   \n",
       "\n",
       "                                     question                                   answer syntax  \\\n",
       "9718  179. What did Gilbert Blythe do to m...  He withdrew his application to teach...   True   \n",
       "9719  180. Who did Anne meet on her way ba...                           Gilbert Blythe  False   \n",
       "\n",
       "      Unnamed: 0_y                                  context       tags  \\\n",
       "9718        1414.0  \\r\\n\\r\\nMARILLA went to town the nex...  85\\30.txt   \n",
       "9719        1414.0  \\r\\n\\r\\nMARILLA went to town the nex...  85\\30.txt   \n",
       "\n",
       "                                   train_text  \n",
       "9718  179. What did Gilbert Blythe do to m...  \n",
       "9719  180. Who did Anne meet on her way ba...  "
      ]
     },
     "execution_count": 41,
     "metadata": {},
     "output_type": "execute_result"
    }
   ],
   "source": [
    "df_merge2[9718:9720]"
   ]
  },
  {
   "cell_type": "code",
   "execution_count": 42,
   "metadata": {},
   "outputs": [
    {
     "data": {
      "text/plain": [
       "54.87222222222222"
      ]
     },
     "execution_count": 42,
     "metadata": {},
     "output_type": "execute_result"
    }
   ],
   "source": [
    "9877/180"
   ]
  },
  {
   "cell_type": "code",
   "execution_count": 43,
   "metadata": {},
   "outputs": [
    {
     "data": {
      "text/plain": [
       "9720"
      ]
     },
     "execution_count": 43,
     "metadata": {},
     "output_type": "execute_result"
    }
   ],
   "source": [
    "54*180"
   ]
  },
  {
   "cell_type": "code",
   "execution_count": 44,
   "metadata": {},
   "outputs": [
    {
     "data": {
      "text/plain": [
       "3292.6000000000004"
      ]
     },
     "execution_count": 44,
     "metadata": {},
     "output_type": "execute_result"
    }
   ],
   "source": [
    "16463*0.2"
   ]
  },
  {
   "cell_type": "code",
   "execution_count": 45,
   "metadata": {},
   "outputs": [
    {
     "data": {
      "text/plain": [
       "13011"
      ]
     },
     "execution_count": 45,
     "metadata": {},
     "output_type": "execute_result"
    }
   ],
   "source": [
    "9719+3292"
   ]
  },
  {
   "cell_type": "code",
   "execution_count": 46,
   "metadata": {},
   "outputs": [
    {
     "data": {
      "text/plain": [
       "72.28333333333333"
      ]
     },
     "execution_count": 46,
     "metadata": {},
     "output_type": "execute_result"
    }
   ],
   "source": [
    "13011/180"
   ]
  },
  {
   "cell_type": "code",
   "execution_count": 47,
   "metadata": {},
   "outputs": [
    {
     "data": {
      "text/plain": [
       "12960"
      ]
     },
     "execution_count": 47,
     "metadata": {},
     "output_type": "execute_result"
    }
   ],
   "source": [
    "72*180"
   ]
  },
  {
   "cell_type": "code",
   "execution_count": 48,
   "metadata": {},
   "outputs": [
    {
     "data": {
      "text/html": [
       "<div>\n",
       "<style>\n",
       "    .dataframe thead tr:only-child th {\n",
       "        text-align: right;\n",
       "    }\n",
       "\n",
       "    .dataframe thead th {\n",
       "        text-align: left;\n",
       "    }\n",
       "\n",
       "    .dataframe tbody tr th {\n",
       "        vertical-align: top;\n",
       "    }\n",
       "</style>\n",
       "<table border=\"1\" class=\"dataframe\">\n",
       "  <thead>\n",
       "    <tr style=\"text-align: right;\">\n",
       "      <th></th>\n",
       "      <th>book_id</th>\n",
       "      <th>question_id</th>\n",
       "      <th>section_id</th>\n",
       "      <th>Gutenberg</th>\n",
       "      <th>Unnamed: 0_x</th>\n",
       "      <th>question</th>\n",
       "      <th>answer</th>\n",
       "      <th>syntax</th>\n",
       "      <th>Unnamed: 0_y</th>\n",
       "      <th>context</th>\n",
       "      <th>tags</th>\n",
       "      <th>train_text</th>\n",
       "    </tr>\n",
       "  </thead>\n",
       "  <tbody>\n",
       "    <tr>\n",
       "      <th>12989</th>\n",
       "      <td>106</td>\n",
       "      <td>180</td>\n",
       "      <td>22</td>\n",
       "      <td>1</td>\n",
       "      <td>1880.0</td>\n",
       "      <td>180. What does Tom threaten to do if...</td>\n",
       "      <td>not allow Huck to be in his gang</td>\n",
       "      <td>False</td>\n",
       "      <td>118.0</td>\n",
       "      <td>CHAPTER XXXIV\\r\\n\\r\\nHUCK said Tom w...</td>\n",
       "      <td>106\\22.txt</td>\n",
       "      <td>180. What does Tom threaten to do if...</td>\n",
       "    </tr>\n",
       "    <tr>\n",
       "      <th>12990</th>\n",
       "      <td>108</td>\n",
       "      <td>1</td>\n",
       "      <td>1</td>\n",
       "      <td>1</td>\n",
       "      <td>1074.0</td>\n",
       "      <td>1. Why does the unnamed protagonist\\...</td>\n",
       "      <td>Because it is haunted</td>\n",
       "      <td>False</td>\n",
       "      <td>126.0</td>\n",
       "      <td>\\r\\nIt is very seldom that mere ordi...</td>\n",
       "      <td>108\\1.txt</td>\n",
       "      <td>1. Why does the unnamed protagonist\\...</td>\n",
       "    </tr>\n",
       "  </tbody>\n",
       "</table>\n",
       "</div>"
      ],
      "text/plain": [
       "       book_id  question_id  section_id  Gutenberg  Unnamed: 0_x  \\\n",
       "12989      106          180          22          1        1880.0   \n",
       "12990      108            1           1          1        1074.0   \n",
       "\n",
       "                                      question                            answer syntax  \\\n",
       "12989  180. What does Tom threaten to do if...  not allow Huck to be in his gang  False   \n",
       "12990  1. Why does the unnamed protagonist\\...             Because it is haunted  False   \n",
       "\n",
       "       Unnamed: 0_y                                  context        tags  \\\n",
       "12989         118.0  CHAPTER XXXIV\\r\\n\\r\\nHUCK said Tom w...  106\\22.txt   \n",
       "12990         126.0  \\r\\nIt is very seldom that mere ordi...   108\\1.txt   \n",
       "\n",
       "                                    train_text  \n",
       "12989  180. What does Tom threaten to do if...  \n",
       "12990  1. Why does the unnamed protagonist\\...  "
      ]
     },
     "execution_count": 48,
     "metadata": {},
     "output_type": "execute_result"
    }
   ],
   "source": [
    "df_merge2[12989:12991]"
   ]
  },
  {
   "cell_type": "markdown",
   "metadata": {},
   "source": [
    "## Partitioning Data"
   ]
  },
  {
   "cell_type": "code",
   "execution_count": 1,
   "metadata": {
    "collapsed": true
   },
   "outputs": [],
   "source": [
    "import pandas as pd \n",
    "import numpy as np\n",
    "#word manipulation\n",
    "from nltk.tokenize import word_tokenize  \n",
    "\n",
    "df_model = pd.read_csv('df_model_4-16-18.csv',encoding='utf-8')"
   ]
  },
  {
   "cell_type": "code",
   "execution_count": 2,
   "metadata": {},
   "outputs": [
    {
     "data": {
      "text/html": [
       "<div>\n",
       "<style>\n",
       "    .dataframe thead tr:only-child th {\n",
       "        text-align: right;\n",
       "    }\n",
       "\n",
       "    .dataframe thead th {\n",
       "        text-align: left;\n",
       "    }\n",
       "\n",
       "    .dataframe tbody tr th {\n",
       "        vertical-align: top;\n",
       "    }\n",
       "</style>\n",
       "<table border=\"1\" class=\"dataframe\">\n",
       "  <thead>\n",
       "    <tr style=\"text-align: right;\">\n",
       "      <th></th>\n",
       "      <th>Unnamed: 0</th>\n",
       "      <th>train_text</th>\n",
       "      <th>answer</th>\n",
       "    </tr>\n",
       "  </thead>\n",
       "  <tbody>\n",
       "    <tr>\n",
       "      <th>0</th>\n",
       "      <td>0</td>\n",
       "      <td>180  how many days after returning home    are...</td>\n",
       "      <td>two</td>\n",
       "    </tr>\n",
       "    <tr>\n",
       "      <th>1</th>\n",
       "      <td>1</td>\n",
       "      <td>179  what does fogg get from his journey    ar...</td>\n",
       "      <td>all of these</td>\n",
       "    </tr>\n",
       "    <tr>\n",
       "      <th>2</th>\n",
       "      <td>2</td>\n",
       "      <td>178  who says: \"that we might have    made the...</td>\n",
       "      <td>passepartout</td>\n",
       "    </tr>\n",
       "    <tr>\n",
       "      <th>3</th>\n",
       "      <td>3</td>\n",
       "      <td>177  what does passepartout do with the    rem...</td>\n",
       "      <td>he splits it between passepartout and fix</td>\n",
       "    </tr>\n",
       "    <tr>\n",
       "      <th>4</th>\n",
       "      <td>4</td>\n",
       "      <td>176  what does passepartout discover on    his...</td>\n",
       "      <td>they arrived on saturday, not sunday</td>\n",
       "    </tr>\n",
       "  </tbody>\n",
       "</table>\n",
       "</div>"
      ],
      "text/plain": [
       "   Unnamed: 0                                         train_text  \\\n",
       "0           0  180  how many days after returning home    are...   \n",
       "1           1  179  what does fogg get from his journey    ar...   \n",
       "2           2  178  who says: \"that we might have    made the...   \n",
       "3           3  177  what does passepartout do with the    rem...   \n",
       "4           4  176  what does passepartout discover on    his...   \n",
       "\n",
       "                                      answer  \n",
       "0                                        two  \n",
       "1                               all of these  \n",
       "2                               passepartout  \n",
       "3  he splits it between passepartout and fix  \n",
       "4       they arrived on saturday, not sunday  "
      ]
     },
     "execution_count": 2,
     "metadata": {},
     "output_type": "execute_result"
    }
   ],
   "source": [
    "df_model.head()"
   ]
  },
  {
   "cell_type": "code",
   "execution_count": 8,
   "metadata": {},
   "outputs": [],
   "source": [
    "df_train_data = df_model.iloc[0:9719,1]\n",
    "df_train_labels = df_model.iloc[0:9719,2]"
   ]
  },
  {
   "cell_type": "code",
   "execution_count": 9,
   "metadata": {
    "collapsed": true
   },
   "outputs": [],
   "source": [
    "#to combat this error:  'Mix of label input types (string and number)'\n",
    "df_train_labels = df_train_labels.astype(str)"
   ]
  },
  {
   "cell_type": "code",
   "execution_count": 10,
   "metadata": {},
   "outputs": [
    {
     "data": {
      "text/plain": [
       "(9719,)"
      ]
     },
     "execution_count": 10,
     "metadata": {},
     "output_type": "execute_result"
    }
   ],
   "source": [
    "df_train_data.shape"
   ]
  },
  {
   "cell_type": "code",
   "execution_count": 11,
   "metadata": {},
   "outputs": [
    {
     "data": {
      "text/plain": [
       "0    180  how many days after returning home    are...\n",
       "1    179  what does fogg get from his journey    ar...\n",
       "2    178  who says: \"that we might have    made the...\n",
       "3    177  what does passepartout do with the    rem...\n",
       "4    176  what does passepartout discover on    his...\n",
       "Name: train_text, dtype: object"
      ]
     },
     "execution_count": 11,
     "metadata": {},
     "output_type": "execute_result"
    }
   ],
   "source": [
    "df_train_data.head()"
   ]
  },
  {
   "cell_type": "code",
   "execution_count": 12,
   "metadata": {},
   "outputs": [
    {
     "data": {
      "text/plain": [
       "0    180  how many days after returning home    are...\n",
       "1    179  what does fogg get from his journey    ar...\n",
       "2    178  who says: \"that we might have    made the...\n",
       "Name: train_text, dtype: object"
      ]
     },
     "execution_count": 12,
     "metadata": {},
     "output_type": "execute_result"
    }
   ],
   "source": [
    "df_train_data.iloc[0:3]"
   ]
  },
  {
   "cell_type": "code",
   "execution_count": 13,
   "metadata": {},
   "outputs": [
    {
     "data": {
      "text/plain": [
       "0                                          two\n",
       "1                                 all of these\n",
       "2                                 passepartout\n",
       "3    he splits it between passepartout and fix\n",
       "4         they arrived on saturday, not sunday\n",
       "Name: answer, dtype: object"
      ]
     },
     "execution_count": 13,
     "metadata": {},
     "output_type": "execute_result"
    }
   ],
   "source": [
    "df_train_labels.head()"
   ]
  },
  {
   "cell_type": "code",
   "execution_count": 14,
   "metadata": {
    "collapsed": true
   },
   "outputs": [],
   "source": [
    "df_test_data = df_model.iloc[9720:12989,1]\n",
    "df_test_labels = df_model.iloc[9720:12989,2]\n",
    "df_test_labels = df_test_labels.astype(str)"
   ]
  },
  {
   "cell_type": "code",
   "execution_count": 15,
   "metadata": {},
   "outputs": [
    {
     "data": {
      "text/plain": [
       "(3269,)"
      ]
     },
     "execution_count": 15,
     "metadata": {},
     "output_type": "execute_result"
    }
   ],
   "source": [
    "df_test_data.shape"
   ]
  },
  {
   "cell_type": "code",
   "execution_count": 16,
   "metadata": {
    "collapsed": true
   },
   "outputs": [],
   "source": [
    "df_dev_data = df_model.iloc[12990:,1]\n",
    "df_dev_labels = df_model.iloc[12990:,2]\n",
    "df_dev_labels = df_test_labels.astype(str)"
   ]
  },
  {
   "cell_type": "code",
   "execution_count": 17,
   "metadata": {},
   "outputs": [
    {
     "data": {
      "text/plain": [
       "(3474,)"
      ]
     },
     "execution_count": 17,
     "metadata": {},
     "output_type": "execute_result"
    }
   ],
   "source": [
    "df_dev_data.shape"
   ]
  },
  {
   "cell_type": "code",
   "execution_count": 18,
   "metadata": {
    "collapsed": true
   },
   "outputs": [],
   "source": [
    "df_train_data.fillna(\"\", inplace=True)  "
   ]
  },
  {
   "cell_type": "code",
   "execution_count": 19,
   "metadata": {
    "collapsed": true
   },
   "outputs": [],
   "source": [
    "df_test_data.fillna(\"\", inplace=True)  \n",
    "df_dev_data.fillna(\"\", inplace = True)"
   ]
  },
  {
   "cell_type": "markdown",
   "metadata": {},
   "source": [
    "# Building Model"
   ]
  },
  {
   "cell_type": "code",
   "execution_count": 20,
   "metadata": {},
   "outputs": [
    {
     "data": {
      "text/plain": [
       "2"
      ]
     },
     "execution_count": 20,
     "metadata": {},
     "output_type": "execute_result"
    }
   ],
   "source": [
    "1+1"
   ]
  },
  {
   "cell_type": "code",
   "execution_count": 21,
   "metadata": {},
   "outputs": [
    {
     "name": "stdout",
     "output_type": "stream",
     "text": [
      "With the TFIDF leveraged, the vocabulary size shrinks to : 61922\n",
      "\n"
     ]
    }
   ],
   "source": [
    "from sklearn.feature_extraction.text import *\n",
    "tfidf_vectorizer = TfidfVectorizer()\n",
    "tfidf_train_vec = tfidf_vectorizer.fit_transform(df_train_data)\n",
    "df_test_vec = tfidf_vectorizer.transform(df_test_data)\n",
    "\n",
    "#vocab size\n",
    "print (\"With the TFIDF leveraged, the vocabulary size shrinks to : \" + str(tfidf_train_vec.shape[1]) + \"\\n\")\n"
   ]
  },
  {
   "cell_type": "code",
   "execution_count": 22,
   "metadata": {},
   "outputs": [],
   "source": [
    "from sklearn.linear_model import LogisticRegression\n",
    "#Model with no preprocessing \n",
    "tfidf_LR_model = LogisticRegression(penalty=\"l2\", C = 100)\n",
    "tfidf_LR_model.fit(tfidf_train_vec, df_train_labels)\n",
    "\n",
    "#makes predictions on the dev dataset with the model I just built\n",
    "tfidf_dev_pred_labels = tfidf_LR_model.predict(df_test_vec)\n",
    "tfidf_dev_pred_probs = tfidf_LR_model.predict_proba(df_test_vec)"
   ]
  },
  {
   "cell_type": "code",
   "execution_count": 23,
   "metadata": {
    "collapsed": true
   },
   "outputs": [],
   "source": [
    "import pickle\n",
    "# save the model to disk\n",
    "filename = 'finalized_model_post_midpoint.sav'\n",
    "pickle.dump(tfidf_LR_model, open(filename, 'wb'))"
   ]
  },
  {
   "cell_type": "code",
   "execution_count": 24,
   "metadata": {
    "collapsed": true
   },
   "outputs": [],
   "source": [
    "from sklearn.linear_model import LogisticRegression\n",
    "#Model with no preprocessing \n",
    "tfidf_LR_model2 = LogisticRegression(penalty=\"l2\", C = 1)\n",
    "tfidf_LR_model2.fit(tfidf_train_vec, df_train_labels)\n",
    "\n",
    "#makes predictions on the dev dataset with the model I just built\n",
    "tfidf_dev_pred_labels2 = tfidf_LR_model2.predict(df_test_vec)\n",
    "tfidf_dev_pred_probs2 = tfidf_LR_model2.predict_proba(df_test_vec)"
   ]
  },
  {
   "cell_type": "code",
   "execution_count": 25,
   "metadata": {
    "collapsed": true
   },
   "outputs": [],
   "source": [
    "import pickle\n",
    "# save the model to disk\n",
    "filename = 'finalized_model_post_midpoint2.sav'\n",
    "pickle.dump(tfidf_LR_model2, open(filename, 'wb'))"
   ]
  },
  {
   "cell_type": "code",
   "execution_count": 26,
   "metadata": {
    "collapsed": true
   },
   "outputs": [],
   "source": [
    "from sklearn.linear_model import LogisticRegression\n",
    "#Model with no preprocessing \n",
    "tfidf_LR_model3 = LogisticRegression(penalty=\"l2\", C = 0.1)\n",
    "tfidf_LR_model3.fit(tfidf_train_vec, df_train_labels)\n",
    "\n",
    "#makes predictions on the dev dataset with the model I just built\n",
    "tfidf_dev_pred_labels3 = tfidf_LR_model3.predict(df_test_vec)\n",
    "tfidf_dev_pred_probs3 = tfidf_LR_model3.predict_proba(df_test_vec)"
   ]
  },
  {
   "cell_type": "code",
   "execution_count": 27,
   "metadata": {
    "collapsed": true
   },
   "outputs": [],
   "source": [
    "import pickle\n",
    "# save the model to disk\n",
    "filename = 'finalized_model_post_midpoint3.sav'\n",
    "pickle.dump(tfidf_LR_model3, open(filename, 'wb'))"
   ]
  },
  {
   "cell_type": "code",
   "execution_count": null,
   "metadata": {
    "collapsed": true
   },
   "outputs": [],
   "source": [
    "# SK-learn libraries for feature extraction from text.\n",
    "from sklearn.feature_extraction.text import *\n",
    "##################################################\n",
    "#create n grams\n",
    "#default CountVectorizer options \n",
    "#singleGram \n",
    "vectorizer = CountVectorizer() #decode_error=\"replace\")#strip_accents= 'unicode', encoding='utf-8',\n",
    "train_vec = vectorizer.fit_transform(df_test_data)#.values.astype('U') #str), 'U'\n",
    "#train_vec.shape\n",
    "#train_array = train_vec.toarray()\n",
    "#print train_array [1:20,]\n",
    "test_vec = vectorizer.transform(df_dev_data)\n",
    "#print test_vec.shape"
   ]
  },
  {
   "cell_type": "code",
   "execution_count": null,
   "metadata": {
    "collapsed": true
   },
   "outputs": [],
   "source": [
    "1+1"
   ]
  },
  {
   "cell_type": "code",
   "execution_count": null,
   "metadata": {},
   "outputs": [],
   "source": [
    "from sklearn.linear_model import LogisticRegression\n",
    "from sklearn.grid_search import GridSearchCV\n",
    "##################################################\n",
    "#Build LR model\n",
    "#fit a logistic regression model and find the optimal value for the regularization strength C using l2 regularization.\n",
    "#LR Model\n",
    "regularization_c = {'C': [0.001, 0.01, 0.1 ]} #0.0001, ,0.25, 0.5, 0.75, 0.9, 0.99,1]} #5,10,100]} #added 0.25 and 0.75 after seeing that 0.5 performed well, dropped above 1 at that point too\n",
    "LR_model = LogisticRegression(penalty=\"l2\")\n",
    "grid = GridSearchCV(estimator=LR_model, param_grid=regularization_c, scoring = \"f1_weighted\")\n",
    "grid.fit(train_vec, df_test_labels)\n",
    "#summarize the results of the grid search\n",
    "print \"Logistic Regression best f1 score for training data: \" + str(grid.best_score_)\n",
    "print \"Logistic Regression best regularization parameter: \"+ str(grid.best_estimator_.C)\n"
   ]
  },
  {
   "cell_type": "code",
   "execution_count": null,
   "metadata": {
    "collapsed": true
   },
   "outputs": [],
   "source": [
    "took 15 hrs to run model on local laptop (i7, 12gb ram)"
   ]
  },
  {
   "cell_type": "code",
   "execution_count": null,
   "metadata": {
    "collapsed": true
   },
   "outputs": [],
   "source": [
    "import pickle\n",
    "# save the model to disk\n",
    "filename = 'finalized_model_post_midpoint.sav'\n",
    "pickle.dump(LR_model, open(filename, 'wb'))"
   ]
  }
 ],
 "metadata": {
  "anaconda-cloud": {},
  "kernelspec": {
   "display_name": "Python 3",
   "language": "python",
   "name": "python3"
  },
  "language_info": {
   "codemirror_mode": {
    "name": "ipython",
    "version": 3
   },
   "file_extension": ".py",
   "mimetype": "text/x-python",
   "name": "python",
   "nbconvert_exporter": "python",
   "pygments_lexer": "ipython3",
   "version": "3.6.4"
  }
 },
 "nbformat": 4,
 "nbformat_minor": 1
}
