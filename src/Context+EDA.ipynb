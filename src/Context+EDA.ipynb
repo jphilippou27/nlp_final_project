{
 "cells": [
  {
   "cell_type": "code",
   "execution_count": 4,
   "metadata": {},
   "outputs": [],
   "source": [
    "import pandas as pd \n",
    "import numpy as np\n",
    "#word manipulation\n",
    "from nltk.tokenize import word_tokenize  \n",
    "\n",
    "df_books = pd.read_csv('master_context.csv', '\\t',encoding='utf-8')"
   ]
  },
  {
   "cell_type": "code",
   "execution_count": 5,
   "metadata": {},
   "outputs": [
    {
     "data": {
      "text/html": [
       "<div>\n",
       "<style>\n",
       "    .dataframe thead tr:only-child th {\n",
       "        text-align: right;\n",
       "    }\n",
       "\n",
       "    .dataframe thead th {\n",
       "        text-align: left;\n",
       "    }\n",
       "\n",
       "    .dataframe tbody tr th {\n",
       "        vertical-align: top;\n",
       "    }\n",
       "</style>\n",
       "<table border=\"1\" class=\"dataframe\">\n",
       "  <thead>\n",
       "    <tr style=\"text-align: right;\">\n",
       "      <th></th>\n",
       "      <th>Unnamed: 0</th>\n",
       "      <th>context</th>\n",
       "      <th>tags</th>\n",
       "      <th>book_id</th>\n",
       "      <th>section_id</th>\n",
       "    </tr>\n",
       "  </thead>\n",
       "  <tbody>\n",
       "    <tr>\n",
       "      <th>0</th>\n",
       "      <td>0</td>\n",
       "      <td>\\r\\n\\r\\nIt is a truth universally acknowledged...</td>\n",
       "      <td>100\\1.txt</td>\n",
       "      <td>100</td>\n",
       "      <td>1</td>\n",
       "    </tr>\n",
       "    <tr>\n",
       "      <th>1</th>\n",
       "      <td>1</td>\n",
       "      <td>\\r\\n\\r\\nThe next day opened a new scene at Lon...</td>\n",
       "      <td>100\\10.txt</td>\n",
       "      <td>100</td>\n",
       "      <td>10</td>\n",
       "    </tr>\n",
       "    <tr>\n",
       "      <th>2</th>\n",
       "      <td>2</td>\n",
       "      <td>\\r\\n\\r\\nThe discussion of Mr. Collins's offer ...</td>\n",
       "      <td>100\\11.txt</td>\n",
       "      <td>100</td>\n",
       "      <td>11</td>\n",
       "    </tr>\n",
       "    <tr>\n",
       "      <th>3</th>\n",
       "      <td>3</td>\n",
       "      <td>\\r\\n\\r\\nElizabeth was sitting with her mother ...</td>\n",
       "      <td>100\\12.txt</td>\n",
       "      <td>100</td>\n",
       "      <td>12</td>\n",
       "    </tr>\n",
       "    <tr>\n",
       "      <th>4</th>\n",
       "      <td>4</td>\n",
       "      <td>\\r\\n\\r\\nAfter a week spent in professions of l...</td>\n",
       "      <td>100\\13.txt</td>\n",
       "      <td>100</td>\n",
       "      <td>13</td>\n",
       "    </tr>\n",
       "  </tbody>\n",
       "</table>\n",
       "</div>"
      ],
      "text/plain": [
       "   Unnamed: 0                                            context        tags  \\\n",
       "0           0  \\r\\n\\r\\nIt is a truth universally acknowledged...   100\\1.txt   \n",
       "1           1  \\r\\n\\r\\nThe next day opened a new scene at Lon...  100\\10.txt   \n",
       "2           2  \\r\\n\\r\\nThe discussion of Mr. Collins's offer ...  100\\11.txt   \n",
       "3           3  \\r\\n\\r\\nElizabeth was sitting with her mother ...  100\\12.txt   \n",
       "4           4  \\r\\n\\r\\nAfter a week spent in professions of l...  100\\13.txt   \n",
       "\n",
       "   book_id  section_id  \n",
       "0      100           1  \n",
       "1      100          10  \n",
       "2      100          11  \n",
       "3      100          12  \n",
       "4      100          13  "
      ]
     },
     "execution_count": 5,
     "metadata": {},
     "output_type": "execute_result"
    }
   ],
   "source": [
    "df_books.head()"
   ]
  },
  {
   "cell_type": "code",
   "execution_count": 6,
   "metadata": {
    "collapsed": true
   },
   "outputs": [],
   "source": [
    "df_books['context_len'] = df_books['context'].str.split().apply(len)"
   ]
  },
  {
   "cell_type": "code",
   "execution_count": 7,
   "metadata": {},
   "outputs": [
    {
     "data": {
      "text/html": [
       "<div>\n",
       "<style>\n",
       "    .dataframe thead tr:only-child th {\n",
       "        text-align: right;\n",
       "    }\n",
       "\n",
       "    .dataframe thead th {\n",
       "        text-align: left;\n",
       "    }\n",
       "\n",
       "    .dataframe tbody tr th {\n",
       "        vertical-align: top;\n",
       "    }\n",
       "</style>\n",
       "<table border=\"1\" class=\"dataframe\">\n",
       "  <thead>\n",
       "    <tr style=\"text-align: right;\">\n",
       "      <th></th>\n",
       "      <th>Unnamed: 0</th>\n",
       "      <th>context</th>\n",
       "      <th>tags</th>\n",
       "      <th>book_id</th>\n",
       "      <th>section_id</th>\n",
       "      <th>context_len</th>\n",
       "    </tr>\n",
       "  </thead>\n",
       "  <tbody>\n",
       "    <tr>\n",
       "      <th>0</th>\n",
       "      <td>0</td>\n",
       "      <td>\\r\\n\\r\\nIt is a truth universally acknowledged...</td>\n",
       "      <td>100\\1.txt</td>\n",
       "      <td>100</td>\n",
       "      <td>1</td>\n",
       "      <td>1643</td>\n",
       "    </tr>\n",
       "    <tr>\n",
       "      <th>1</th>\n",
       "      <td>1</td>\n",
       "      <td>\\r\\n\\r\\nThe next day opened a new scene at Lon...</td>\n",
       "      <td>100\\10.txt</td>\n",
       "      <td>100</td>\n",
       "      <td>10</td>\n",
       "      <td>3552</td>\n",
       "    </tr>\n",
       "    <tr>\n",
       "      <th>2</th>\n",
       "      <td>2</td>\n",
       "      <td>\\r\\n\\r\\nThe discussion of Mr. Collins's offer ...</td>\n",
       "      <td>100\\11.txt</td>\n",
       "      <td>100</td>\n",
       "      <td>11</td>\n",
       "      <td>3710</td>\n",
       "    </tr>\n",
       "    <tr>\n",
       "      <th>3</th>\n",
       "      <td>3</td>\n",
       "      <td>\\r\\n\\r\\nElizabeth was sitting with her mother ...</td>\n",
       "      <td>100\\12.txt</td>\n",
       "      <td>100</td>\n",
       "      <td>12</td>\n",
       "      <td>3536</td>\n",
       "    </tr>\n",
       "    <tr>\n",
       "      <th>4</th>\n",
       "      <td>4</td>\n",
       "      <td>\\r\\n\\r\\nAfter a week spent in professions of l...</td>\n",
       "      <td>100\\13.txt</td>\n",
       "      <td>100</td>\n",
       "      <td>13</td>\n",
       "      <td>3834</td>\n",
       "    </tr>\n",
       "  </tbody>\n",
       "</table>\n",
       "</div>"
      ],
      "text/plain": [
       "   Unnamed: 0                                            context        tags  \\\n",
       "0           0  \\r\\n\\r\\nIt is a truth universally acknowledged...   100\\1.txt   \n",
       "1           1  \\r\\n\\r\\nThe next day opened a new scene at Lon...  100\\10.txt   \n",
       "2           2  \\r\\n\\r\\nThe discussion of Mr. Collins's offer ...  100\\11.txt   \n",
       "3           3  \\r\\n\\r\\nElizabeth was sitting with her mother ...  100\\12.txt   \n",
       "4           4  \\r\\n\\r\\nAfter a week spent in professions of l...  100\\13.txt   \n",
       "\n",
       "   book_id  section_id  context_len  \n",
       "0      100           1         1643  \n",
       "1      100          10         3552  \n",
       "2      100          11         3710  \n",
       "3      100          12         3536  \n",
       "4      100          13         3834  "
      ]
     },
     "execution_count": 7,
     "metadata": {},
     "output_type": "execute_result"
    }
   ],
   "source": [
    "df_books.head()"
   ]
  },
  {
   "cell_type": "code",
   "execution_count": 8,
   "metadata": {},
   "outputs": [
    {
     "data": {
      "text/plain": [
       "6213.5436201780412"
      ]
     },
     "execution_count": 8,
     "metadata": {},
     "output_type": "execute_result"
    }
   ],
   "source": [
    "np.average(df_books['context'].str.split().apply(len))"
   ]
  },
  {
   "cell_type": "code",
   "execution_count": 9,
   "metadata": {},
   "outputs": [
    {
     "name": "stdout",
     "output_type": "stream",
     "text": [
      "book_id              12      35       77           79           83   \\\n",
      "context_len  1633.666667  6196.3  2198.25  3692.533333  5256.444444   \n",
      "\n",
      "book_id              84      85           86      87           88   \\\n",
      "context_len  4858.916667  3399.8  2980.555556  5701.6  1214.102041   \n",
      "\n",
      "book_id          ...          165     166          167          168     171  \\\n",
      "context_len      ...       8417.2  4151.5  6940.615385  7629.566667  8044.1   \n",
      "\n",
      "book_id          172           173          174     175           178  \n",
      "context_len  15199.4  25881.888889  4454.655172  8078.7  10043.566667  \n",
      "\n",
      "[1 rows x 90 columns]\n"
     ]
    }
   ],
   "source": [
    "table = pd.pivot_table(df_books,columns ='book_id', values = 'context_len', aggfunc=np.mean)\n",
    "#table2 =  table.div()                   \n",
    "print (table)"
   ]
  },
  {
   "cell_type": "code",
   "execution_count": 10,
   "metadata": {
    "collapsed": true
   },
   "outputs": [],
   "source": [
    "table = table.transpose()"
   ]
  },
  {
   "cell_type": "code",
   "execution_count": 11,
   "metadata": {},
   "outputs": [
    {
     "data": {
      "text/plain": [
       "Text(0.5,1,'Average Context Length by Book')"
      ]
     },
     "execution_count": 11,
     "metadata": {},
     "output_type": "execute_result"
    },
    {
     "data": {
      "image/png": "[encoded data removed]",
      "text/plain": [
       "<matplotlib.figure.Figure at 0x7f9a260a0240>"
      ]
     },
     "metadata": {},
     "output_type": "display_data"
    }
   ],
   "source": [
    "import matplotlib\n",
    "import matplotlib.pyplot as plt\n",
    "%matplotlib inline\n",
    "\n",
    "table = pd.DataFrame(table)\n",
    "plt.bar(table.index,  table['context_len'])\n",
    "plt.xlabel('Book ID')\n",
    "plt.ylabel(\"Average Length of Context\")\n",
    "plt.title(\"Average Context Length by Book\")"
   ]
  },
  {
   "cell_type": "code",
   "execution_count": 12,
   "metadata": {},
   "outputs": [
    {
     "data": {
      "text/html": [
       "<div>\n",
       "<style>\n",
       "    .dataframe thead tr:only-child th {\n",
       "        text-align: right;\n",
       "    }\n",
       "\n",
       "    .dataframe thead th {\n",
       "        text-align: left;\n",
       "    }\n",
       "\n",
       "    .dataframe tbody tr th {\n",
       "        vertical-align: top;\n",
       "    }\n",
       "</style>\n",
       "<table border=\"1\" class=\"dataframe\">\n",
       "  <thead>\n",
       "    <tr style=\"text-align: right;\">\n",
       "      <th></th>\n",
       "      <th>Unnamed: 0</th>\n",
       "      <th>context</th>\n",
       "      <th>tags</th>\n",
       "      <th>book_id</th>\n",
       "      <th>section_id</th>\n",
       "      <th>context_len</th>\n",
       "    </tr>\n",
       "  </thead>\n",
       "  <tbody>\n",
       "    <tr>\n",
       "      <th>207</th>\n",
       "      <td>207</td>\n",
       "      <td>CHAPTER XVI\\r\\n\\r\\n�She has come to stay with ...</td>\n",
       "      <td>111\\30.txt</td>\n",
       "      <td>111</td>\n",
       "      <td>30</td>\n",
       "      <td>47828</td>\n",
       "    </tr>\n",
       "    <tr>\n",
       "      <th>420</th>\n",
       "      <td>420</td>\n",
       "      <td>���Chapter 49. Hayd��e\\r\\n\\r\\nIt will be recol...</td>\n",
       "      <td>120\\10.txt</td>\n",
       "      <td>120</td>\n",
       "      <td>10</td>\n",
       "      <td>45267</td>\n",
       "    </tr>\n",
       "    <tr>\n",
       "      <th>436</th>\n",
       "      <td>436</td>\n",
       "      <td>���VOLUME TWO\\r\\n\\r\\n20009m\\r\\n\\r\\n\\r\\n20011m\\...</td>\n",
       "      <td>120\\7.txt</td>\n",
       "      <td>120</td>\n",
       "      <td>7</td>\n",
       "      <td>56455</td>\n",
       "    </tr>\n",
       "    <tr>\n",
       "      <th>498</th>\n",
       "      <td>498</td>\n",
       "      <td>���PART II\\r\\n\\r\\n\\r\\n\\r\\n\\r\\nBook IV. Lacerat...</td>\n",
       "      <td>124\\3.txt</td>\n",
       "      <td>124</td>\n",
       "      <td>3</td>\n",
       "      <td>76972</td>\n",
       "    </tr>\n",
       "    <tr>\n",
       "      <th>499</th>\n",
       "      <td>499</td>\n",
       "      <td>���PART III\\r\\n\\r\\n\\r\\n\\r\\n\\r\\nBook VII. Alyos...</td>\n",
       "      <td>124\\4.txt</td>\n",
       "      <td>124</td>\n",
       "      <td>4</td>\n",
       "      <td>53647</td>\n",
       "    </tr>\n",
       "    <tr>\n",
       "      <th>500</th>\n",
       "      <td>500</td>\n",
       "      <td>���Book IX. The Preliminary Investigation\\r\\n\\...</td>\n",
       "      <td>124\\5.txt</td>\n",
       "      <td>124</td>\n",
       "      <td>5</td>\n",
       "      <td>51328</td>\n",
       "    </tr>\n",
       "    <tr>\n",
       "      <th>501</th>\n",
       "      <td>501</td>\n",
       "      <td>���Book XI. Ivan\\r\\n\\r\\n\\r\\n\\r\\nChapter I. At ...</td>\n",
       "      <td>124\\6.txt</td>\n",
       "      <td>124</td>\n",
       "      <td>6</td>\n",
       "      <td>43413</td>\n",
       "    </tr>\n",
       "    <tr>\n",
       "      <th>547</th>\n",
       "      <td>547</td>\n",
       "      <td>���VOLUME I.--FANTINE.\\r\\n\\r\\n\\r\\n\\r\\nPREFACE\\...</td>\n",
       "      <td>127\\1.txt</td>\n",
       "      <td>127</td>\n",
       "      <td>1</td>\n",
       "      <td>120469</td>\n",
       "    </tr>\n",
       "    <tr>\n",
       "      <th>548</th>\n",
       "      <td>548</td>\n",
       "      <td>���VOLUME II.--COSETTE\\r\\n\\r\\n\\r\\n\\r\\nBOOK FIR...</td>\n",
       "      <td>127\\2.txt</td>\n",
       "      <td>127</td>\n",
       "      <td>2</td>\n",
       "      <td>103733</td>\n",
       "    </tr>\n",
       "    <tr>\n",
       "      <th>549</th>\n",
       "      <td>549</td>\n",
       "      <td>���VOLUME III--MARIUS.\\r\\n\\r\\nEnlarge\\r\\n\\r\\n\\...</td>\n",
       "      <td>127\\3.txt</td>\n",
       "      <td>127</td>\n",
       "      <td>3</td>\n",
       "      <td>92053</td>\n",
       "    </tr>\n",
       "    <tr>\n",
       "      <th>550</th>\n",
       "      <td>550</td>\n",
       "      <td>���VOLUME IV.--SAINT-DENIS.\\r\\n\\r\\nEnlarge\\r\\n...</td>\n",
       "      <td>127\\4.txt</td>\n",
       "      <td>127</td>\n",
       "      <td>4</td>\n",
       "      <td>130109</td>\n",
       "    </tr>\n",
       "    <tr>\n",
       "      <th>551</th>\n",
       "      <td>551</td>\n",
       "      <td>VOLUME V--JEAN VALJEAN\\r\\n\\r\\nEnlarge\\r\\n\\r\\n\\...</td>\n",
       "      <td>127\\5.txt</td>\n",
       "      <td>127</td>\n",
       "      <td>5</td>\n",
       "      <td>114514</td>\n",
       "    </tr>\n",
       "  </tbody>\n",
       "</table>\n",
       "</div>"
      ],
      "text/plain": [
       "     Unnamed: 0                                            context  \\\n",
       "207         207  CHAPTER XVI\\r\\n\\r\\n�She has come to stay with ...   \n",
       "420         420  ���Chapter 49. Hayd��e\\r\\n\\r\\nIt will be recol...   \n",
       "436         436  ���VOLUME TWO\\r\\n\\r\\n20009m\\r\\n\\r\\n\\r\\n20011m\\...   \n",
       "498         498  ���PART II\\r\\n\\r\\n\\r\\n\\r\\n\\r\\nBook IV. Lacerat...   \n",
       "499         499  ���PART III\\r\\n\\r\\n\\r\\n\\r\\n\\r\\nBook VII. Alyos...   \n",
       "500         500  ���Book IX. The Preliminary Investigation\\r\\n\\...   \n",
       "501         501  ���Book XI. Ivan\\r\\n\\r\\n\\r\\n\\r\\nChapter I. At ...   \n",
       "547         547  ���VOLUME I.--FANTINE.\\r\\n\\r\\n\\r\\n\\r\\nPREFACE\\...   \n",
       "548         548  ���VOLUME II.--COSETTE\\r\\n\\r\\n\\r\\n\\r\\nBOOK FIR...   \n",
       "549         549  ���VOLUME III--MARIUS.\\r\\n\\r\\nEnlarge\\r\\n\\r\\n\\...   \n",
       "550         550  ���VOLUME IV.--SAINT-DENIS.\\r\\n\\r\\nEnlarge\\r\\n...   \n",
       "551         551  VOLUME V--JEAN VALJEAN\\r\\n\\r\\nEnlarge\\r\\n\\r\\n\\...   \n",
       "\n",
       "           tags  book_id  section_id  context_len  \n",
       "207  111\\30.txt      111          30        47828  \n",
       "420  120\\10.txt      120          10        45267  \n",
       "436   120\\7.txt      120           7        56455  \n",
       "498   124\\3.txt      124           3        76972  \n",
       "499   124\\4.txt      124           4        53647  \n",
       "500   124\\5.txt      124           5        51328  \n",
       "501   124\\6.txt      124           6        43413  \n",
       "547   127\\1.txt      127           1       120469  \n",
       "548   127\\2.txt      127           2       103733  \n",
       "549   127\\3.txt      127           3        92053  \n",
       "550   127\\4.txt      127           4       130109  \n",
       "551   127\\5.txt      127           5       114514  "
      ]
     },
     "execution_count": 12,
     "metadata": {},
     "output_type": "execute_result"
    }
   ],
   "source": [
    "df_books[df_books['context_len']>40000]"
   ]
  },
  {
   "cell_type": "code",
   "execution_count": 13,
   "metadata": {
    "collapsed": true
   },
   "outputs": [],
   "source": [
    "df_books_clipped = df_books[df_books['context_len']<75000]"
   ]
  },
  {
   "cell_type": "code",
   "execution_count": 14,
   "metadata": {},
   "outputs": [
    {
     "data": {
      "text/plain": [
       "5855.8493150684935"
      ]
     },
     "execution_count": 14,
     "metadata": {},
     "output_type": "execute_result"
    }
   ],
   "source": [
    "np.average(df_books_clipped['context'].str.split().apply(len))"
   ]
  },
  {
   "cell_type": "code",
   "execution_count": 15,
   "metadata": {},
   "outputs": [
    {
     "ename": "NameError",
     "evalue": "name 'df_merge2' is not defined",
     "output_type": "error",
     "traceback": [
      "\u001b[0;31m---------------------------------------------------------------------------\u001b[0m",
      "\u001b[0;31mNameError\u001b[0m                                 Traceback (most recent call last)",
      "\u001b[0;32m<ipython-input-15-2b623f1f0f53>\u001b[0m in \u001b[0;36m<module>\u001b[0;34m()\u001b[0m\n\u001b[0;32m----> 1\u001b[0;31m \u001b[0mdf_merge2\u001b[0m\u001b[0;34m[\u001b[0m\u001b[0;34m\"question\"\u001b[0m\u001b[0;34m]\u001b[0m \u001b[0;34m=\u001b[0m \u001b[0mdf_merge2\u001b[0m\u001b[0;34m[\u001b[0m\u001b[0;34m\"question\"\u001b[0m\u001b[0;34m]\u001b[0m\u001b[0;34m.\u001b[0m\u001b[0mstr\u001b[0m\u001b[0;34m.\u001b[0m\u001b[0mreplace\u001b[0m\u001b[0;34m(\u001b[0m\u001b[0;34m\"[^\\w\\. \\r \\n @-]\"\u001b[0m\u001b[0;34m,\u001b[0m\u001b[0;34m''\u001b[0m\u001b[0;34m)\u001b[0m\u001b[0;34m\u001b[0m\u001b[0m\n\u001b[0m\u001b[1;32m      2\u001b[0m \u001b[0mdf_merge2\u001b[0m\u001b[0;34m[\u001b[0m\u001b[0;34m'question'\u001b[0m\u001b[0;34m]\u001b[0m \u001b[0;34m=\u001b[0m \u001b[0mdf_merge2\u001b[0m\u001b[0;34m[\u001b[0m\u001b[0;34m'question'\u001b[0m\u001b[0;34m]\u001b[0m\u001b[0;34m.\u001b[0m\u001b[0mastype\u001b[0m\u001b[0;34m(\u001b[0m\u001b[0;34m'str'\u001b[0m\u001b[0;34m)\u001b[0m\u001b[0;34m\u001b[0m\u001b[0m\n\u001b[1;32m      3\u001b[0m \u001b[0mdf_merge2\u001b[0m\u001b[0;34m[\u001b[0m\u001b[0;34m'tokens'\u001b[0m\u001b[0;34m]\u001b[0m \u001b[0;34m=\u001b[0m \u001b[0mdf_merge2\u001b[0m\u001b[0;34m[\u001b[0m\u001b[0;34m'question'\u001b[0m\u001b[0;34m]\u001b[0m\u001b[0;34m.\u001b[0m\u001b[0mapply\u001b[0m\u001b[0;34m(\u001b[0m\u001b[0mword_tokenize\u001b[0m\u001b[0;34m)\u001b[0m\u001b[0;34m\u001b[0m\u001b[0m\n\u001b[1;32m      4\u001b[0m \u001b[0mdf_merge2\u001b[0m\u001b[0;34m[\u001b[0m\u001b[0;34m'tokens'\u001b[0m\u001b[0;34m]\u001b[0m \u001b[0;34m=\u001b[0m \u001b[0mdf_merge2\u001b[0m\u001b[0;34m[\u001b[0m\u001b[0;34m'tokens'\u001b[0m\u001b[0;34m]\u001b[0m\u001b[0;34m.\u001b[0m\u001b[0mastype\u001b[0m\u001b[0;34m(\u001b[0m\u001b[0;34m'str'\u001b[0m\u001b[0;34m)\u001b[0m\u001b[0;34m\u001b[0m\u001b[0m\n\u001b[1;32m      5\u001b[0m \u001b[0mdf_merge2\u001b[0m\u001b[0;34m[\u001b[0m\u001b[0;34m'tokens2'\u001b[0m\u001b[0;34m]\u001b[0m \u001b[0;34m=\u001b[0m \u001b[0mdf_merge2\u001b[0m\u001b[0;34m[\u001b[0m\u001b[0;34m'tokens'\u001b[0m\u001b[0;34m]\u001b[0m\u001b[0;34m.\u001b[0m\u001b[0mstr\u001b[0m\u001b[0;34m.\u001b[0m\u001b[0mreplace\u001b[0m\u001b[0;34m(\u001b[0m\u001b[0;34m'\\d+'\u001b[0m\u001b[0;34m,\u001b[0m \u001b[0;34m''\u001b[0m\u001b[0;34m)\u001b[0m\u001b[0;34m\u001b[0m\u001b[0m\n",
      "\u001b[0;31mNameError\u001b[0m: name 'df_merge2' is not defined"
     ]
    }
   ],
   "source": [
    "df_merge2[\"question\"] = df_merge2[\"question\"].str.replace(\"[^\\w\\. \\r \\n @-]\",'')\n",
    "df_merge2['question'] = df_merge2['question'].astype('str')\n",
    "df_merge2['tokens'] = df_merge2['question'].apply(word_tokenize)\n",
    "df_merge2['tokens'] = df_merge2['tokens'].astype('str')\n",
    "df_merge2['tokens2'] = df_merge2['tokens'].str.replace('\\d+', '')\n",
    "df_merge2['tokens2'] = df_merge2['tokens2'].str.lower()"
   ]
  },
  {
   "cell_type": "code",
   "execution_count": 55,
   "metadata": {},
   "outputs": [
    {
     "data": {
      "text/plain": [
       "5892     4\n",
       "1147     3\n",
       "2225     3\n",
       "1841     3\n",
       "1177     3\n",
       "4120     3\n",
       "4462     2\n",
       "1313     2\n",
       "8054     2\n",
       "840      2\n",
       "2563     2\n",
       "2408     2\n",
       "1797     2\n",
       "1157     2\n",
       "5766     2\n",
       "7249     2\n",
       "5202     2\n",
       "3637     2\n",
       "2180     2\n",
       "2743     2\n",
       "777      2\n",
       "3046     2\n",
       "5896     2\n",
       "4303     2\n",
       "3119     2\n",
       "5423     2\n",
       "3117     2\n",
       "2597     2\n",
       "3116     2\n",
       "3393     2\n",
       "        ..\n",
       "19824    1\n",
       "3442     1\n",
       "7540     1\n",
       "10828    1\n",
       "7132     1\n",
       "7311     1\n",
       "1374     1\n",
       "5468     1\n",
       "3520     1\n",
       "9563     1\n",
       "998      1\n",
       "2166     1\n",
       "9526     1\n",
       "916      1\n",
       "7058     1\n",
       "5436     1\n",
       "5595     1\n",
       "9677     1\n",
       "3397     1\n",
       "5446     1\n",
       "8340     1\n",
       "1353     1\n",
       "3466     1\n",
       "9550     1\n",
       "5455     1\n",
       "3544     1\n",
       "7508     1\n",
       "9488     1\n",
       "7513     1\n",
       "3691     1\n",
       "Name: context, Length: 1553, dtype: int64"
      ]
     },
     "execution_count": 55,
     "metadata": {},
     "output_type": "execute_result"
    }
   ],
   "source": [
    "context_length_dist = df_books_clipped['context'].str.split().apply(len).value_counts()\n",
    "context_length_dist"
   ]
  },
  {
   "cell_type": "code",
   "execution_count": 56,
   "metadata": {
    "collapsed": true
   },
   "outputs": [],
   "source": [
    "context_length_dist = pd.DataFrame(context_length_dist)"
   ]
  },
  {
   "cell_type": "code",
   "execution_count": 57,
   "metadata": {},
   "outputs": [
    {
     "data": {
      "text/plain": [
       "Int64Index([5892, 1147, 2225, 1841, 1177, 4120, 4462, 1313, 8054,  840,\n",
       "            ...\n",
       "            8340, 1353, 3466, 9550, 5455, 3544, 7508, 9488, 7513, 3691],\n",
       "           dtype='int64', length=1553)"
      ]
     },
     "execution_count": 57,
     "metadata": {},
     "output_type": "execute_result"
    }
   ],
   "source": [
    "context_length_dist.index"
   ]
  },
  {
   "cell_type": "code",
   "execution_count": 58,
   "metadata": {},
   "outputs": [
    {
     "data": {
      "text/html": [
       "<div>\n",
       "<style>\n",
       "    .dataframe thead tr:only-child th {\n",
       "        text-align: right;\n",
       "    }\n",
       "\n",
       "    .dataframe thead th {\n",
       "        text-align: left;\n",
       "    }\n",
       "\n",
       "    .dataframe tbody tr th {\n",
       "        vertical-align: top;\n",
       "    }\n",
       "</style>\n",
       "<table border=\"1\" class=\"dataframe\">\n",
       "  <thead>\n",
       "    <tr style=\"text-align: right;\">\n",
       "      <th></th>\n",
       "      <th>context</th>\n",
       "    </tr>\n",
       "  </thead>\n",
       "  <tbody>\n",
       "    <tr>\n",
       "      <th>5892</th>\n",
       "      <td>4</td>\n",
       "    </tr>\n",
       "    <tr>\n",
       "      <th>1147</th>\n",
       "      <td>3</td>\n",
       "    </tr>\n",
       "    <tr>\n",
       "      <th>2225</th>\n",
       "      <td>3</td>\n",
       "    </tr>\n",
       "    <tr>\n",
       "      <th>1841</th>\n",
       "      <td>3</td>\n",
       "    </tr>\n",
       "    <tr>\n",
       "      <th>1177</th>\n",
       "      <td>3</td>\n",
       "    </tr>\n",
       "  </tbody>\n",
       "</table>\n",
       "</div>"
      ],
      "text/plain": [
       "      context\n",
       "5892        4\n",
       "1147        3\n",
       "2225        3\n",
       "1841        3\n",
       "1177        3"
      ]
     },
     "execution_count": 58,
     "metadata": {},
     "output_type": "execute_result"
    }
   ],
   "source": [
    "context_length_dist.head()"
   ]
  },
  {
   "cell_type": "code",
   "execution_count": 59,
   "metadata": {},
   "outputs": [
    {
     "data": {
      "text/plain": [
       "5892     4\n",
       "1147     3\n",
       "2225     3\n",
       "1841     3\n",
       "1177     3\n",
       "4120     3\n",
       "4462     2\n",
       "1313     2\n",
       "8054     2\n",
       "840      2\n",
       "2563     2\n",
       "2408     2\n",
       "1797     2\n",
       "1157     2\n",
       "5766     2\n",
       "7249     2\n",
       "5202     2\n",
       "3637     2\n",
       "2180     2\n",
       "2743     2\n",
       "777      2\n",
       "3046     2\n",
       "5896     2\n",
       "4303     2\n",
       "3119     2\n",
       "5423     2\n",
       "3117     2\n",
       "2597     2\n",
       "3116     2\n",
       "3393     2\n",
       "        ..\n",
       "19824    1\n",
       "3442     1\n",
       "7540     1\n",
       "10828    1\n",
       "7132     1\n",
       "7311     1\n",
       "1374     1\n",
       "5468     1\n",
       "3520     1\n",
       "9563     1\n",
       "998      1\n",
       "2166     1\n",
       "9526     1\n",
       "916      1\n",
       "7058     1\n",
       "5436     1\n",
       "5595     1\n",
       "9677     1\n",
       "3397     1\n",
       "5446     1\n",
       "8340     1\n",
       "1353     1\n",
       "3466     1\n",
       "9550     1\n",
       "5455     1\n",
       "3544     1\n",
       "7508     1\n",
       "9488     1\n",
       "7513     1\n",
       "3691     1\n",
       "Name: context, Length: 1553, dtype: int64"
      ]
     },
     "execution_count": 59,
     "metadata": {},
     "output_type": "execute_result"
    }
   ],
   "source": [
    "context_length_dist['context']"
   ]
  },
  {
   "cell_type": "code",
   "execution_count": 46,
   "metadata": {},
   "outputs": [
    {
     "data": {
      "text/plain": [
       "Text(0.5,1,'Distribution of Context Length')"
      ]
     },
     "execution_count": 46,
     "metadata": {},
     "output_type": "execute_result"
    },
    {
     "data": {
      "image/png": "[encoded data removed]",
      "text/plain": [
       "<matplotlib.figure.Figure at 0x7f9a1a1e2358>"
      ]
     },
     "metadata": {},
     "output_type": "display_data"
    }
   ],
   "source": [
    "import matplotlib\n",
    "import matplotlib.pyplot as plt\n",
    "%matplotlib inline\n",
    "\n",
    "plt.bar(context_length_dist.index, list(context_length_dist['context'])[:])\n",
    "plt.xlabel('Context Length (words)')\n",
    "plt.ylabel(\"Book Count\")\n",
    "plt.title(\"Distribution of Context Length\")"
   ]
  },
  {
   "cell_type": "code",
   "execution_count": 68,
   "metadata": {},
   "outputs": [
    {
     "data": {
      "text/plain": [
       "Text(0.5,1,'Distribution of Context Length')"
      ]
     },
     "execution_count": 68,
     "metadata": {},
     "output_type": "execute_result"
    },
    {
     "data": {
      "image/png": "[encoded data removed]",
      "text/plain": [
       "<matplotlib.figure.Figure at 0x7f9a16b90908>"
      ]
     },
     "metadata": {},
     "output_type": "display_data"
    }
   ],
   "source": [
    "#fig, axs = plt.subplots(1, 2, sharey=True, tight_layout=True)\n",
    "\n",
    "n_bins = 30\n",
    "# We can set the number of bins with the `bins` kwarg\n",
    "plt.hist(context_length_dist.index, bins=n_bins, edgecolor = 'black')\n",
    "plt.xlabel('Length of Passages')\n",
    "plt.ylabel(\"Count of Sections\")\n",
    "plt.title(\"Distribution of Context Length\")\n",
    "#axs[1].hist(list(context_length_dist['context'])[:], bins=n_bins)"
   ]
  },
  {
   "cell_type": "code",
   "execution_count": null,
   "metadata": {
    "collapsed": true
   },
   "outputs": [],
   "source": []
  }
 ],
 "metadata": {
  "anaconda-cloud": {},
  "kernelspec": {
   "display_name": "Python 3",
   "language": "python",
   "name": "python3"
  },
  "language_info": {
   "codemirror_mode": {
    "name": "ipython",
    "version": 3
   },
   "file_extension": ".py",
   "mimetype": "text/x-python",
   "name": "python",
   "nbconvert_exporter": "python",
   "pygments_lexer": "ipython3",
   "version": "3.6.3"
  }
 },
 "nbformat": 4,
 "nbformat_minor": 1
}
