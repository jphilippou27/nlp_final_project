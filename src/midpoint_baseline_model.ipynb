{
 "cells": [
  {
   "cell_type": "markdown",
   "metadata": {},
   "source": [
    "# Building and Exploring the dataset"
   ]
  },
  {
   "cell_type": "code",
   "execution_count": 3,
   "metadata": {
    "collapsed": false
   },
   "outputs": [
    {
     "data": {
      "text/html": [
       "<div>\n",
       "<style>\n",
       "    .dataframe thead tr:only-child th {\n",
       "        text-align: right;\n",
       "    }\n",
       "\n",
       "    .dataframe thead th {\n",
       "        text-align: left;\n",
       "    }\n",
       "\n",
       "    .dataframe tbody tr th {\n",
       "        vertical-align: top;\n",
       "    }\n",
       "</style>\n",
       "<table border=\"1\" class=\"dataframe\">\n",
       "  <thead>\n",
       "    <tr style=\"text-align: right;\">\n",
       "      <th></th>\n",
       "      <th>Unnamed: 0</th>\n",
       "      <th>context</th>\n",
       "      <th>tags</th>\n",
       "      <th>book_id</th>\n",
       "      <th>section_id</th>\n",
       "    </tr>\n",
       "  </thead>\n",
       "  <tbody>\n",
       "    <tr>\n",
       "      <th>0</th>\n",
       "      <td>0</td>\n",
       "      <td>\\r\\n\\r\\nIt is a truth universally acknowledged...</td>\n",
       "      <td>100\\1.txt</td>\n",
       "      <td>100</td>\n",
       "      <td>1</td>\n",
       "    </tr>\n",
       "    <tr>\n",
       "      <th>1</th>\n",
       "      <td>1</td>\n",
       "      <td>\\r\\n\\r\\nThe next day opened a new scene at Lon...</td>\n",
       "      <td>100\\10.txt</td>\n",
       "      <td>100</td>\n",
       "      <td>10</td>\n",
       "    </tr>\n",
       "    <tr>\n",
       "      <th>2</th>\n",
       "      <td>2</td>\n",
       "      <td>\\r\\n\\r\\nThe discussion of Mr. Collins's offer ...</td>\n",
       "      <td>100\\11.txt</td>\n",
       "      <td>100</td>\n",
       "      <td>11</td>\n",
       "    </tr>\n",
       "    <tr>\n",
       "      <th>3</th>\n",
       "      <td>3</td>\n",
       "      <td>\\r\\n\\r\\nElizabeth was sitting with her mother ...</td>\n",
       "      <td>100\\12.txt</td>\n",
       "      <td>100</td>\n",
       "      <td>12</td>\n",
       "    </tr>\n",
       "    <tr>\n",
       "      <th>4</th>\n",
       "      <td>4</td>\n",
       "      <td>\\r\\n\\r\\nAfter a week spent in professions of l...</td>\n",
       "      <td>100\\13.txt</td>\n",
       "      <td>100</td>\n",
       "      <td>13</td>\n",
       "    </tr>\n",
       "  </tbody>\n",
       "</table>\n",
       "</div>"
      ],
      "text/plain": [
       "   Unnamed: 0                                            context        tags  \\\n",
       "0           0  \\r\\n\\r\\nIt is a truth universally acknowledged...   100\\1.txt   \n",
       "1           1  \\r\\n\\r\\nThe next day opened a new scene at Lon...  100\\10.txt   \n",
       "2           2  \\r\\n\\r\\nThe discussion of Mr. Collins's offer ...  100\\11.txt   \n",
       "3           3  \\r\\n\\r\\nElizabeth was sitting with her mother ...  100\\12.txt   \n",
       "4           4  \\r\\n\\r\\nAfter a week spent in professions of l...  100\\13.txt   \n",
       "\n",
       "   book_id  section_id  \n",
       "0      100           1  \n",
       "1      100          10  \n",
       "2      100          11  \n",
       "3      100          12  \n",
       "4      100          13  "
      ]
     },
     "execution_count": 3,
     "metadata": {},
     "output_type": "execute_result"
    }
   ],
   "source": [
    "df_books.head()"
   ]
  },
  {
   "cell_type": "code",
   "execution_count": 4,
   "metadata": {
    "collapsed": false
   },
   "outputs": [
    {
     "data": {
      "text/html": [
       "<div>\n",
       "<style>\n",
       "    .dataframe thead tr:only-child th {\n",
       "        text-align: right;\n",
       "    }\n",
       "\n",
       "    .dataframe thead th {\n",
       "        text-align: left;\n",
       "    }\n",
       "\n",
       "    .dataframe tbody tr th {\n",
       "        vertical-align: top;\n",
       "    }\n",
       "</style>\n",
       "<table border=\"1\" class=\"dataframe\">\n",
       "  <thead>\n",
       "    <tr style=\"text-align: right;\">\n",
       "      <th></th>\n",
       "      <th>question_id</th>\n",
       "      <th>question</th>\n",
       "      <th>answer</th>\n",
       "      <th>book_id</th>\n",
       "    </tr>\n",
       "  </thead>\n",
       "  <tbody>\n",
       "    <tr>\n",
       "      <th>0</th>\n",
       "      <td>0</td>\n",
       "      <td>1. Where is Alice when she sees the White\\r\\r\\...</td>\n",
       "      <td>On a riverbank.</td>\n",
       "      <td>77</td>\n",
       "    </tr>\n",
       "    <tr>\n",
       "      <th>1</th>\n",
       "      <td>1</td>\n",
       "      <td>2. Who is Alice with before her adventures\\r\\r...</td>\n",
       "      <td>Her sister.</td>\n",
       "      <td>77</td>\n",
       "    </tr>\n",
       "    <tr>\n",
       "      <th>2</th>\n",
       "      <td>2</td>\n",
       "      <td>3. What is the rabbit looking at when\\r\\r\\nAli...</td>\n",
       "      <td>His watch.</td>\n",
       "      <td>77</td>\n",
       "    </tr>\n",
       "    <tr>\n",
       "      <th>3</th>\n",
       "      <td>3</td>\n",
       "      <td>4. What does Alice pick up while falling\\r\\r\\n...</td>\n",
       "      <td>An empty jar.</td>\n",
       "      <td>77</td>\n",
       "    </tr>\n",
       "    <tr>\n",
       "      <th>4</th>\n",
       "      <td>4</td>\n",
       "      <td>5. Alice does NOT think she might end up\\r\\r\\n...</td>\n",
       "      <td>America.</td>\n",
       "      <td>77</td>\n",
       "    </tr>\n",
       "  </tbody>\n",
       "</table>\n",
       "</div>"
      ],
      "text/plain": [
       "   question_id                                           question  \\\n",
       "0            0  1. Where is Alice when she sees the White\\r\\r\\...   \n",
       "1            1  2. Who is Alice with before her adventures\\r\\r...   \n",
       "2            2  3. What is the rabbit looking at when\\r\\r\\nAli...   \n",
       "3            3  4. What does Alice pick up while falling\\r\\r\\n...   \n",
       "4            4  5. Alice does NOT think she might end up\\r\\r\\n...   \n",
       "\n",
       "            answer   book_id  \n",
       "0  On a riverbank.        77  \n",
       "1      Her sister.        77  \n",
       "2       His watch.        77  \n",
       "3    An empty jar.        77  \n",
       "4         America.        77  "
      ]
     },
     "execution_count": 4,
     "metadata": {},
     "output_type": "execute_result"
    }
   ],
   "source": [
    "df_questions.head()"
   ]
  },
  {
   "cell_type": "code",
   "execution_count": 38,
   "metadata": {
    "collapsed": false
   },
   "outputs": [],
   "source": [
    "import pandas as pd \n",
    "import numpy as np\n",
    "#word manipulation\n",
    "from nltk.tokenize import word_tokenize  \n",
    "\n",
    "df_crosswalk = pd.read_csv('C:\\\\Users\\\\Jennifer\\\\Documents\\\\Berkeley\\\\W266\\\\Final Project\\\\Final-dataset\\\\midpoint_crosswalk.csv')\n",
    "df_books = pd.read_csv('C:\\\\Users\\\\Jennifer\\\\Documents\\\\Berkeley\\\\W266\\\\Final Project\\\\Final-dataset\\\\midpoint_context_fv.csv', '\\t',encoding='utf-8')\n",
    "df_questions = pd.read_csv('C:\\\\Users\\\\Jennifer\\\\Documents\\\\Berkeley\\\\W266\\\\Final Project\\\\Final-dataset\\\\midpoint_questions_fv.csv', '\\t',encoding='utf-8')\n",
    "\n",
    "df_merge = pd.merge(df_crosswalk, df_questions, on=['book_id','question_id'], how='outer')\n",
    "df_merge2 = pd.merge(df_merge, df_books, on=['book_id','section_id'], how='outer')\n",
    "\n",
    "df_merge2[\"train_text\"] = df_merge2[\"question\"].map(str) +str(' ') +  df_merge2[\"context\"]"
   ]
  },
  {
   "cell_type": "code",
   "execution_count": 39,
   "metadata": {
    "collapsed": false
   },
   "outputs": [],
   "source": [
    "df_model = df_merge2[[\"train_text\", \"answer\"]]"
   ]
  },
  {
   "cell_type": "code",
   "execution_count": 40,
   "metadata": {
    "collapsed": false
   },
   "outputs": [
    {
     "data": {
      "text/html": [
       "<div>\n",
       "<style>\n",
       "    .dataframe thead tr:only-child th {\n",
       "        text-align: right;\n",
       "    }\n",
       "\n",
       "    .dataframe thead th {\n",
       "        text-align: left;\n",
       "    }\n",
       "\n",
       "    .dataframe tbody tr th {\n",
       "        vertical-align: top;\n",
       "    }\n",
       "</style>\n",
       "<table border=\"1\" class=\"dataframe\">\n",
       "  <thead>\n",
       "    <tr style=\"text-align: right;\">\n",
       "      <th></th>\n",
       "      <th>train_text</th>\n",
       "      <th>answer</th>\n",
       "    </tr>\n",
       "  </thead>\n",
       "  <tbody>\n",
       "    <tr>\n",
       "      <th>0</th>\n",
       "      <td>2. Who is Marmee? CHAPTER ONE\\r\\n\\r\\nPLAYING P...</td>\n",
       "      <td>the mother</td>\n",
       "    </tr>\n",
       "    <tr>\n",
       "      <th>1</th>\n",
       "      <td>3. Marmee\\r\\r\\nreceives a letter from her husb...</td>\n",
       "      <td>serving in the army</td>\n",
       "    </tr>\n",
       "    <tr>\n",
       "      <th>2</th>\n",
       "      <td>4. What does each girl find under her\\r\\r\\npil...</td>\n",
       "      <td>a book</td>\n",
       "    </tr>\n",
       "    <tr>\n",
       "      <th>3</th>\n",
       "      <td>5. What is the name of the family's long\\r\\r\\n...</td>\n",
       "      <td>Hannah</td>\n",
       "    </tr>\n",
       "    <tr>\n",
       "      <th>4</th>\n",
       "      <td>6. What is the last name of the family\\r\\r\\nth...</td>\n",
       "      <td>Hummel</td>\n",
       "    </tr>\n",
       "  </tbody>\n",
       "</table>\n",
       "</div>"
      ],
      "text/plain": [
       "                                          train_text               answer\n",
       "0  2. Who is Marmee? CHAPTER ONE\\r\\n\\r\\nPLAYING P...           the mother\n",
       "1  3. Marmee\\r\\r\\nreceives a letter from her husb...  serving in the army\n",
       "2  4. What does each girl find under her\\r\\r\\npil...               a book\n",
       "3  5. What is the name of the family's long\\r\\r\\n...               Hannah\n",
       "4  6. What is the last name of the family\\r\\r\\nth...               Hummel"
      ]
     },
     "execution_count": 40,
     "metadata": {},
     "output_type": "execute_result"
    }
   ],
   "source": [
    "df_model.head()"
   ]
  },
  {
   "cell_type": "code",
   "execution_count": 41,
   "metadata": {
    "collapsed": false
   },
   "outputs": [
    {
     "data": {
      "text/plain": [
       "u'2. Who is Marmee? CHAPTER ONE\\r\\n\\r\\nPLAYING PILGRIMS\\r\\n\\r\\n\"Christmas won\\'t be Christmas without any presents,\" grumbled Jo, lying\\r\\non the rug.\\r\\n\\r\\n\"It\\'s so dreadful to be poor!\" sighed Meg, looking down at her old\\r\\ndress.\\r\\n\\r\\n\"I don\\'t think it\\'s fair for some girls to have plenty of pretty\\r\\nthings, and other girls nothing at all,\" added little Amy, with an\\r\\ninjured sniff.\\r\\n\\r\\n\"We\\'ve got Father and Mother, and each other,\" said Beth contentedly\\r\\nfrom her corner.\\r\\n\\r\\nThe four young faces on which the firelight shone brightened at the\\r\\ncheerful words, but darkened again as Jo said sadly, \"We haven\\'t got\\r\\nFather, and shall not have him for a long time.\" She didn\\'t say\\r\\n\"perhaps never,\" but each silently added it, thinking of Father far\\r\\naway, where the fighting was.\\r\\n\\r\\nNobody spoke for a minute; then Meg said in an altered tone, \"You know\\r\\nthe reason Mother proposed not having any presents this Christmas was\\r\\nbecause it is going to be a hard winter for everyone; and she thinks we\\r\\nought not to spend money for pleasure, when our men are suffering so in\\r\\nthe army.  We can\\'t do much, but we can make our little sacrifices, and\\r\\nought to do it gladly.  But I am afraid I don\\'t,\" and Meg shook her\\r\\nhead, as she thought regretfully of all the pretty things she wanted.\\r\\n\\r\\n\"But I don\\'t think the little we should spend would do any good.  We\\'ve\\r\\neach got a dollar, and the army wouldn\\'t be much helped by our giving\\r\\nthat.  I agree not to expect anything from Mother or you, but I do want\\r\\nto buy _Undine and Sintran_ for myself.  I\\'ve wanted it so long,\" said\\r\\nJo, who was a bookworm.\\r\\n\\r\\n\"I planned to spend mine in new music,\" said Beth, with a little sigh,\\r\\nwhich no one heard but the hearth brush and kettle-holder.\\r\\n\\r\\n\"I shall get a nice box of Faber\\'s drawing pencils; I really need\\r\\nthem,\" said Amy decidedly.\\r\\n\\r\\n\"Mother didn\\'t say anything about our money, and she won\\'t wish us to\\r\\ngive up everything.  Let\\'s each buy what we want, and have a little\\r\\nfun; I\\'m sure we work hard enough to earn it,\" cried Jo, examining the\\r\\nheels of her shoes in a gentlemanly manner.\\r\\n\\r\\n\"I know I do--teaching those tiresome children nearly all day, when I\\'m\\r\\nlonging to enjoy myself at home,\" began Meg, in the complaining tone\\r\\nagain.\\r\\n\\r\\n\"You don\\'t have half such a hard time as I do,\" said Jo. \"How would you\\r\\nlike to be shut up for hours with a nervous, fussy old lady, who keeps\\r\\nyou trotting, is never satisfied, and worries you till you\\'re ready to\\r\\nfly out the window or cry?\"\\r\\n\\r\\n\"It\\'s naughty to fret, but I do think washing dishes and keeping things\\r\\ntidy is the worst work in the world.  It makes me cross, and my hands\\r\\nget so stiff, I can\\'t practice well at all.\" And Beth looked at her\\r\\nrough hands with a sigh that any one could hear that time.\\r\\n\\r\\n\"I don\\'t believe any of you suffer as I do,\" cried Amy, \"for you don\\'t\\r\\nhave to go to school with impertinent girls, who plague you if you\\r\\ndon\\'t know your lessons, and laugh at your dresses, and label your\\r\\nfather if he isn\\'t rich, and insult you when your nose isn\\'t nice.\"\\r\\n\\r\\n\"If you mean libel, I\\'d say so, and not talk about labels, as if Papa\\r\\nwas a pickle bottle,\" advised Jo, laughing.\\r\\n\\r\\n\"I know what I mean, and you needn\\'t be statirical about it. It\\'s\\r\\nproper to use good words, and improve your vocabilary,\" returned Amy,\\r\\nwith dignity.\\r\\n\\r\\n\"Don\\'t peck at one another, children.  Don\\'t you wish we had the money\\r\\nPapa lost when we were little, Jo?  Dear me! How happy and good we\\'d\\r\\nbe, if we had no worries!\" said Meg, who could remember better times.\\r\\n\\r\\n\"You said the other day you thought we were a deal happier than the\\r\\nKing children, for they were fighting and fretting all the time, in\\r\\nspite of their money.\"\\r\\n\\r\\n\"So I did, Beth.  Well, I think we are.  For though we do have to work,\\r\\nwe make fun of ourselves, and are a pretty jolly set, as Jo would say.\"\\r\\n\\r\\n\"Jo does use such slang words!\" observed Amy, with a reproving look at\\r\\nthe long figure stretched on the rug.\\r\\n\\r\\nJo immediately sat up, put her hands in her pockets, and began to\\r\\nwhistle.\\r\\n\\r\\n\"Don\\'t, Jo.  It\\'s so boyish!\"\\r\\n\\r\\n\"That\\'s why I do it.\"\\r\\n\\r\\n\"I detest rude, unladylike girls!\"\\r\\n\\r\\n\"I hate affected, niminy-piminy chits!\"\\r\\n\\r\\n\"Birds in their little nests agree,\" sang Beth, the peacemaker, with\\r\\nsuch a funny face that both sharp voices softened to a laugh, and the\\r\\n\"pecking\" ended for that time.\\r\\n\\r\\n\"Really, girls, you are both to be blamed,\" said Meg, beginning to\\r\\nlecture in her elder-sisterly fashion. \"You are old enough to leave off\\r\\nboyish tricks, and to behave better, Josephine.  It didn\\'t matter so\\r\\nmuch when you were a little girl, but now you are so tall, and turn up\\r\\nyour hair, you should remember that you are a young lady.\"\\r\\n\\r\\n\"I\\'m not!   And if turning up my hair makes me one, I\\'ll wear it in two\\r\\ntails till I\\'m twenty,\" cried Jo, pulling off her net, and shaking down\\r\\na chestnut mane.  \"I hate to think I\\'ve got to grow up, and be Miss\\r\\nMarch, and wear long gowns, and look as prim as a China Aster!  It\\'s\\r\\nbad enough to be a girl, anyway, when I like boy\\'s games and work and\\r\\nmanners!  I can\\'t get over my disappointment in not being a boy.  And\\r\\nit\\'s worse than ever now, for I\\'m dying to go and fight with Papa. And\\r\\nI can only stay home and knit, like a poky old woman!\"\\r\\n\\r\\nAnd Jo shook the blue army sock till the needles rattled like\\r\\ncastanets, and her ball bounded across the room.\\r\\n\\r\\n\"Poor Jo!  It\\'s too bad, but it can\\'t be helped.  So you must try to be\\r\\ncontented with making your name boyish, and playing brother to us\\r\\ngirls,\" said Beth, stroking the rough head with a hand that all the\\r\\ndish washing and dusting in the world could not make ungentle in its\\r\\ntouch.\\r\\n\\r\\n\"As for you, Amy,\" continued Meg, \"you are altogether too particular\\r\\nand prim.  Your airs are funny now, but you\\'ll grow up an affected\\r\\nlittle goose, if you don\\'t take care. I like your nice manners and\\r\\nrefined ways of speaking, when you don\\'t try to be elegant.  But your\\r\\nabsurd words are as bad as Jo\\'s slang.\"\\r\\n\\r\\n\"If Jo is a tomboy and Amy a goose, what am I, please?\" asked Beth,\\r\\nready to share the lecture.\\r\\n\\r\\n\"You\\'re a dear, and nothing else,\" answered Meg warmly, and no one\\r\\ncontradicted her, for the \\'Mouse\\' was the pet of the family.\\r\\n\\r\\nAs young readers like to know \\'how people look\\', we will take this\\r\\nmoment to give them a little sketch of the four sisters, who sat\\r\\nknitting away in the twilight, while the December snow fell quietly\\r\\nwithout, and the fire crackled cheerfully within.  It was a comfortable\\r\\nroom, though the carpet was faded and the furniture very plain, for a\\r\\ngood picture or two hung on the walls, books filled the recesses,\\r\\nchrysanthemums and Christmas roses bloomed in the windows, and a\\r\\npleasant atmosphere of home peace pervaded it.\\r\\n\\r\\nMargaret, the eldest of the four, was sixteen, and very pretty, being\\r\\nplump and fair, with large eyes, plenty of soft brown hair, a sweet\\r\\nmouth, and white hands, of which she was rather vain. Fifteen-year-old\\r\\nJo was very tall, thin, and brown, and reminded one of a colt, for she\\r\\nnever seemed to know what to do with her long limbs, which were very\\r\\nmuch in her way.  She had a decided mouth, a comical nose, and sharp,\\r\\ngray eyes, which appeared to see everything, and were by turns fierce,\\r\\nfunny, or thoughtful.  Her long, thick hair was her one beauty, but it\\r\\nwas usually bundled into a net, to be out of her way.  Round shoulders\\r\\nhad Jo, big hands and feet, a flyaway look to her clothes, and the\\r\\nuncomfortable appearance of a girl who was rapidly shooting up into a\\r\\nwoman and didn\\'t like it. Elizabeth, or Beth, as everyone called her,\\r\\nwas a rosy, smooth-haired, bright-eyed girl of thirteen, with a shy\\r\\nmanner, a timid voice, and a peaceful expression which was seldom\\r\\ndisturbed.  Her father called her \\'Little Miss Tranquility\\', and the\\r\\nname suited her excellently, for she seemed to live in a happy world of\\r\\nher own, only venturing out to meet the few whom she trusted and loved.\\r\\nAmy, though the youngest, was a most important person, in her own\\r\\nopinion at least.  A regular snow maiden, with blue eyes, and yellow\\r\\nhair curling on her shoulders, pale and slender, and always carrying\\r\\nherself like a young lady mindful of her manners.  What the characters\\r\\nof the four sisters were we will leave to be found out.\\r\\n\\r\\nThe clock struck six and, having swept up the hearth, Beth put a pair\\r\\nof slippers down to warm.  Somehow the sight of the old shoes had a\\r\\ngood effect upon the girls, for Mother was coming, and everyone\\r\\nbrightened to welcome her.  Meg stopped lecturing, and lighted the\\r\\nlamp, Amy got out of the easy chair without being asked, and Jo forgot\\r\\nhow tired she was as she sat up to hold the slippers nearer to the\\r\\nblaze.\\r\\n\\r\\n\"They are quite worn out.  Marmee must have a new pair.\"\\r\\n\\r\\n\"I thought I\\'d get her some with my dollar,\" said Beth.\\r\\n\\r\\n\"No, I shall!\" cried Amy.\\r\\n\\r\\n\"I\\'m the oldest,\" began Meg, but Jo cut in with a decided, \"I\\'m the man\\r\\nof the family now Papa is away, and I shall provide the slippers, for\\r\\nhe told me to take special care of Mother while he was gone.\"\\r\\n\\r\\n\"I\\'ll tell you what we\\'ll do,\" said Beth, \"let\\'s each get her something\\r\\nfor Christmas, and not get anything for ourselves.\"\\r\\n\\r\\n\"That\\'s like you, dear!  What will we get?\" exclaimed Jo.\\r\\n\\r\\nEveryone thought soberly for a minute, then Meg announced, as if the\\r\\nidea was suggested by the sight of her own pretty hands, \"I shall give\\r\\nher a nice pair of gloves.\"\\r\\n\\r\\n\"Army shoes, best to be had,\" cried Jo.\\r\\n\\r\\n\"Some handkerchiefs, all hemmed,\" said Beth.\\r\\n\\r\\n\"I\\'ll get a little bottle of cologne.  She likes it, and it won\\'t cost\\r\\nmuch, so I\\'ll have some left to buy my pencils,\" added Amy.\\r\\n\\r\\n\"How will we give the things?\" asked Meg.\\r\\n\\r\\n\"Put them on the table, and bring her in and see her open the bundles.\\r\\nDon\\'t you remember how we used to do on our birthdays?\" answered Jo.\\r\\n\\r\\n\"I used to be so frightened when it was my turn to sit in the chair\\r\\nwith the crown on, and see you all come marching round to give the\\r\\npresents, with a kiss.  I liked the things and the kisses, but it was\\r\\ndreadful to have you sit looking at me while I opened the bundles,\"\\r\\nsaid Beth, who was toasting her face and the bread for tea at the same\\r\\ntime.\\r\\n\\r\\n\"Let Marmee think we are getting things for ourselves, and then\\r\\nsurprise her.  We must go shopping tomorrow afternoon, Meg. There is so\\r\\nmuch to do about the play for Christmas night,\" said Jo, marching up\\r\\nand down, with her hands behind her back, and her nose in the air.\\r\\n\\r\\n\"I don\\'t mean to act any more after this time.  I\\'m getting too old for\\r\\nsuch things,\" observed Meg, who was as much a child as ever about\\r\\n\\'dressing-up\\' frolics.\\r\\n\\r\\n\"You won\\'t stop, I know, as long as you can trail round in a white gown\\r\\nwith your hair down, and wear gold-paper jewelry. You are the best\\r\\nactress we\\'ve got, and there\\'ll be an end of everything if you quit the\\r\\nboards,\" said Jo.  \"We ought to rehearse tonight.  Come here, Amy, and\\r\\ndo the fainting scene, for you are as stiff as a poker in that.\"\\r\\n\\r\\n\"I can\\'t help it.  I never saw anyone faint, and I don\\'t choose to make\\r\\nmyself all black and blue, tumbling flat as you do.  If I can go down\\r\\neasily, I\\'ll drop.  If I can\\'t, I shall fall into a chair and be\\r\\ngraceful.  I don\\'t care if Hugo does come at me with a pistol,\"\\r\\nreturned Amy, who was not gifted with dramatic power, but was chosen\\r\\nbecause she was small enough to be borne out shrieking by the villain\\r\\nof the piece.\\r\\n\\r\\n\"Do it this way.  Clasp your hands so, and stagger across the room,\\r\\ncrying frantically, \\'Roderigo! Save me! Save me!\\'\" and away went Jo,\\r\\nwith a melodramatic scream which was truly thrilling.\\r\\n\\r\\nAmy followed, but she poked her hands out stiffly before her, and\\r\\njerked herself along as if she went by machinery, and her \"Ow!\" was\\r\\nmore suggestive of pins being run into her than of fear and anguish.\\r\\nJo gave a despairing groan, and Meg laughed outright, while Beth let\\r\\nher bread burn as she watched the fun with interest. \"It\\'s no use!  Do\\r\\nthe best you can when the time comes, and if the audience laughs, don\\'t\\r\\nblame me.  Come on, Meg.\"\\r\\n\\r\\nThen things went smoothly, for Don Pedro defied the world in a speech\\r\\nof two pages without a single break.  Hagar, the witch, chanted an\\r\\nawful incantation over her kettleful of simmering toads, with weird\\r\\neffect.  Roderigo rent his chains asunder manfully, and Hugo died in\\r\\nagonies of remorse and arsenic, with a wild, \"Ha! Ha!\"\\r\\n\\r\\n\"It\\'s the best we\\'ve had yet,\" said Meg, as the dead villain sat up and\\r\\nrubbed his elbows.\\r\\n\\r\\n\"I don\\'t see how you can write and act such splendid things, Jo.\\r\\nYou\\'re a regular Shakespeare!\" exclaimed Beth, who firmly believed that\\r\\nher sisters were gifted with wonderful genius in all things.\\r\\n\\r\\n\"Not quite,\" replied Jo modestly.  \"I do think _The Witches Curse, an\\r\\nOperatic Tragedy_ is rather a nice thing, but I\\'d like to try\\r\\n_Macbeth_, if we only had a trapdoor for Banquo.  I always wanted to do\\r\\nthe killing part.  \\'Is that a dagger that I see before me?\" muttered\\r\\nJo, rolling her eyes and clutching at the air, as she had seen a famous\\r\\ntragedian do.\\r\\n\\r\\n\"No, it\\'s the toasting fork, with Mother\\'s shoe on it instead of the\\r\\nbread.  Beth\\'s stage-struck!\" cried Meg, and the rehearsal ended in a\\r\\ngeneral burst of laughter.\\r\\n\\r\\n\"Glad to find you so merry, my girls,\" said a cheery voice at the door,\\r\\nand actors and audience turned to welcome a tall, motherly lady with a\\r\\n\\'can I help you\\' look about her which was truly delightful. She was not\\r\\nelegantly dressed, but a noble-looking woman, and the girls thought the\\r\\ngray cloak and unfashionable bonnet covered the most splendid mother in\\r\\nthe world.\\r\\n\\r\\n\"Well, dearies, how have you got on today?  There was so much to do,\\r\\ngetting the boxes ready to go tomorrow, that I didn\\'t come home to\\r\\ndinner.  Has anyone called, Beth?  How is your cold, Meg?  Jo, you look\\r\\ntired to death.  Come and kiss me, baby.\"\\r\\n\\r\\nWhile making these maternal inquiries Mrs. March got her wet things\\r\\noff, her warm slippers on, and sitting down in the easy chair, drew Amy\\r\\nto her lap, preparing to enjoy the happiest hour of her busy day.  The\\r\\ngirls flew about, trying to make things comfortable, each in her own\\r\\nway.  Meg arranged the tea table, Jo brought wood and set chairs,\\r\\ndropping, over-turning, and clattering everything she touched.  Beth\\r\\ntrotted to and fro between parlor kitchen, quiet and busy, while Amy\\r\\ngave directions to everyone, as she sat with her hands folded.\\r\\n\\r\\nAs they gathered about the table, Mrs. March said, with a particularly\\r\\nhappy face, \"I\\'ve got a treat for you after supper.\"\\r\\n\\r\\nA quick, bright smile went round like a streak of sunshine. Beth\\r\\nclapped her hands, regardless of the biscuit she held, and Jo tossed up\\r\\nher napkin, crying, \"A letter!  A letter!  Three cheers for Father!\"\\r\\n\\r\\n\"Yes, a nice long letter.  He is well, and thinks he shall get through\\r\\nthe cold season better than we feared.  He sends all sorts of loving\\r\\nwishes for Christmas, and an especial message to you girls,\" said Mrs.\\r\\nMarch, patting her pocket as if she had got a treasure there.\\r\\n\\r\\n\"Hurry and get done!  Don\\'t stop to quirk your little finger and simper\\r\\nover your plate, Amy,\" cried Jo, choking on her tea and dropping her\\r\\nbread, butter side down, on the carpet in her haste to get at the treat.\\r\\n\\r\\nBeth ate no more, but crept away to sit in her shadowy corner and brood\\r\\nover the delight to come, till the others were ready.\\r\\n\\r\\n\"I think it was so splendid in Father to go as chaplain when he was too\\r\\nold to be drafted, and not strong enough for a soldier,\" said Meg\\r\\nwarmly.\\r\\n\\r\\n\"Don\\'t I wish I could go as a drummer, a vivan--what\\'s its name?  Or a\\r\\nnurse, so I could be near him and help him,\" exclaimed Jo, with a groan.\\r\\n\\r\\n\"It must be very disagreeable to sleep in a tent, and eat all sorts of\\r\\nbad-tasting things, and drink out of a tin mug,\" sighed Amy.\\r\\n\\r\\n\"When will he come home, Marmee?\" asked Beth, with a little quiver in\\r\\nher voice.\\r\\n\\r\\n\"Not for many months, dear, unless he is sick.  He will stay and do his\\r\\nwork faithfully as long as he can, and we won\\'t ask for him back a\\r\\nminute sooner than he can be spared.  Now come and hear the letter.\"\\r\\n\\r\\nThey all drew to the fire, Mother in the big chair with Beth at her\\r\\nfeet, Meg and Amy perched on either arm of the chair, and Jo leaning on\\r\\nthe back, where no one would see any sign of emotion if the letter\\r\\nshould happen to be touching.  Very few letters were written in those\\r\\nhard times that were not touching, especially those which fathers sent\\r\\nhome.  In this one little was said of the hardships endured, the\\r\\ndangers faced, or the homesickness conquered. It was a cheerful,\\r\\nhopeful letter, full of lively descriptions of camp life, marches, and\\r\\nmilitary news, and only at the end did the writer\\'s heart over-flow\\r\\nwith fatherly love and longing for the little girls at home.\\r\\n\\r\\n\"Give them all of my dear love and a kiss.  Tell them I think of them\\r\\nby day, pray for them by night, and find my best comfort in their\\r\\naffection at all times.  A year seems very long to wait before I see\\r\\nthem, but remind them that while we wait we may all work, so that these\\r\\nhard days need not be wasted.  I know they will remember all I said to\\r\\nthem, that they will be loving children to you, will do their duty\\r\\nfaithfully, fight their bosom enemies bravely, and conquer themselves\\r\\nso beautifully that when I come back to them I may be fonder and\\r\\nprouder than ever of my little women.\" Everybody sniffed when they came\\r\\nto that part.  Jo wasn\\'t ashamed of the great tear that dropped off the\\r\\nend of her nose, and Amy never minded the rumpling of her curls as she\\r\\nhid her face on her mother\\'s shoulder and sobbed out, \"I am a selfish\\r\\ngirl!  But I\\'ll truly try to be better, so he mayn\\'t be disappointed in\\r\\nme by-and-by.\"\\r\\n\\r\\n\"We all will,\" cried Meg.  \"I think too much of my looks and hate to\\r\\nwork, but won\\'t any more, if I can help it.\"\\r\\n\\r\\n\"I\\'ll try and be what he loves to call me, \\'a little woman\\' and not be\\r\\nrough and wild, but do my duty here instead of wanting to be somewhere\\r\\nelse,\" said Jo, thinking that keeping her temper at home was a much\\r\\nharder task than facing a rebel or two down South.\\r\\n\\r\\nBeth said nothing, but wiped away her tears with the blue army sock and\\r\\nbegan to knit with all her might, losing no time in doing the duty that\\r\\nlay nearest her, while she resolved in her quiet little soul to be all\\r\\nthat Father hoped to find her when the year brought round the happy\\r\\ncoming home.\\r\\n\\r\\nMrs. March broke the silence that followed Jo\\'s words, by saying in her\\r\\ncheery voice, \"Do you remember how you used to play Pilgrims Progress\\r\\nwhen you were little things?  Nothing delighted you more than to have\\r\\nme tie my piece bags on your backs for burdens, give you hats and\\r\\nsticks and rolls of paper, and let you travel through the house from\\r\\nthe cellar, which was the City of Destruction, up, up, to the housetop,\\r\\nwhere you had all the lovely things you could collect to make a\\r\\nCelestial City.\"\\r\\n\\r\\n\"What fun it was, especially going by the lions, fighting Apollyon, and\\r\\npassing through the valley where the hob-goblins were,\" said Jo.\\r\\n\\r\\n\"I liked the place where the bundles fell off and tumbled downstairs,\"\\r\\nsaid Meg.\\r\\n\\r\\n\"I don\\'t remember much about it, except that I was afraid of the cellar\\r\\nand the dark entry, and always liked the cake and milk we had up at the\\r\\ntop.  If I wasn\\'t too old for such things, I\\'d rather like to play it\\r\\nover again,\" said Amy, who began to talk of renouncing childish things\\r\\nat the mature age of twelve.\\r\\n\\r\\n\"We never are too old for this, my dear, because it is a play we are\\r\\nplaying all the time in one way or another.  Our burdens are here, our\\r\\nroad is before us, and the longing for goodness and happiness is the\\r\\nguide that leads us through many troubles and mistakes to the peace\\r\\nwhich is a true Celestial City.  Now, my little pilgrims, suppose you\\r\\nbegin again, not in play, but in earnest, and see how far on you can\\r\\nget before Father comes home.\"\\r\\n\\r\\n\"Really, Mother?  Where are our bundles?\" asked Amy, who was a very\\r\\nliteral young lady.\\r\\n\\r\\n\"Each of you told what your burden was just now, except Beth. I rather\\r\\nthink she hasn\\'t got any,\" said her mother.\\r\\n\\r\\n\"Yes, I have.  Mine is dishes and dusters, and envying girls with nice\\r\\npianos, and being afraid of people.\"\\r\\n\\r\\nBeth\\'s bundle was such a funny one that everybody wanted to laugh, but\\r\\nnobody did, for it would have hurt her feelings very much.\\r\\n\\r\\n\"Let us do it,\" said Meg thoughtfully.  \"It is only another name for\\r\\ntrying to be good, and the story may help us, for though we do want to\\r\\nbe good, it\\'s hard work and we forget, and don\\'t do our best.\"\\r\\n\\r\\n\"We were in the Slough of Despond tonight, and Mother came and pulled\\r\\nus out as Help did in the book.  We ought to have our roll of\\r\\ndirections, like Christian.  What shall we do about that?\" asked Jo,\\r\\ndelighted with the fancy which lent a little romance to the very dull\\r\\ntask of doing her duty.\\r\\n\\r\\n\"Look under your pillows Christmas morning, and you will find your\\r\\nguidebook,\" replied Mrs. March.\\r\\n\\r\\nThey talked over the new plan while old Hannah cleared the table, then\\r\\nout came the four little work baskets, and the needles flew as the\\r\\ngirls made sheets for Aunt March.  It was uninteresting sewing, but\\r\\ntonight no one grumbled.  They adopted Jo\\'s plan of dividing the long\\r\\nseams into four parts, and calling the quarters Europe, Asia, Africa,\\r\\nand America, and in that way got on capitally, especially when they\\r\\ntalked about the different countries as they stitched their way through\\r\\nthem.\\r\\n\\r\\nAt nine they stopped work, and sang, as usual, before they went to bed.\\r\\nNo one but Beth could get much music out of the old piano, but she had\\r\\na way of softly touching the yellow keys and making a pleasant\\r\\naccompaniment to the simple songs they sang.  Meg had a voice like a\\r\\nflute, and she and her mother led the little choir.  Amy chirped like a\\r\\ncricket, and Jo wandered through the airs at her own sweet will, always\\r\\ncoming out at the wrong place with a croak or a quaver that spoiled the\\r\\nmost pensive tune.  They had always done this from the time they could\\r\\nlisp...\\r\\n\\r\\n    Crinkle, crinkle, \\'ittle \\'tar,\\r\\n\\r\\nand it had become a household custom, for the mother was a born singer.\\r\\nThe first sound in the morning was her voice as she went about the\\r\\nhouse singing like a lark, and the last sound at night was the same\\r\\ncheery sound, for the girls never grew too old for that familiar\\r\\nlullaby.\\r\\n\\r\\n\\r\\n\\r\\nCHAPTER TWO\\r\\n\\r\\nA MERRY CHRISTMAS\\r\\n\\r\\nJo was the first to wake in the gray dawn of Christmas morning. No\\r\\nstockings hung at the fireplace, and for a moment she felt as much\\r\\ndisappointed as she did long ago, when her little sock fell down\\r\\nbecause it was crammed so full of goodies.  Then she remembered her\\r\\nmother\\'s promise and, slipping her hand under her pillow, drew out a\\r\\nlittle crimson-covered book.  She knew it very well, for it was that\\r\\nbeautiful old story of the best life ever lived, and Jo felt that it\\r\\nwas a true guidebook for any pilgrim going on a long journey.  She woke\\r\\nMeg with a \"Merry Christmas,\" and bade her see what was under her\\r\\npillow.  A green-covered book appeared, with the same picture inside,\\r\\nand a few words written by their mother, which made their one present\\r\\nvery precious in their eyes.  Presently Beth and Amy woke to rummage\\r\\nand find their little books also, one dove-colored, the other blue, and\\r\\nall sat looking at and talking about them, while the east grew rosy\\r\\nwith the coming day.\\r\\n\\r\\nIn spite of her small vanities, Margaret had a sweet and pious nature,\\r\\nwhich unconsciously influenced her sisters, especially Jo, who loved\\r\\nher very tenderly, and obeyed her because her advice was so gently\\r\\ngiven.\\r\\n\\r\\n\"Girls,\" said Meg seriously, looking from the tumbled head beside her\\r\\nto the two little night-capped ones in the room beyond, \"Mother wants\\r\\nus to read and love and mind these books, and we must begin at once.\\r\\nWe used to be faithful about it, but since Father went away and all\\r\\nthis war trouble unsettled us, we have neglected many things.  You can\\r\\ndo as you please, but I shall keep my book on the table here and read a\\r\\nlittle every morning as soon as I wake, for I know it will do me good\\r\\nand help me through the day.\"\\r\\n\\r\\nThen she opened her new book and began to read.  Jo put her arm round\\r\\nher and, leaning cheek to cheek, read also, with the quiet expression\\r\\nso seldom seen on her restless face.\\r\\n\\r\\n\"How good Meg is!  Come, Amy, let\\'s do as they do.  I\\'ll help you with\\r\\nthe hard words, and they\\'ll explain things if we don\\'t understand,\"\\r\\nwhispered Beth, very much impressed by the pretty books and her\\r\\nsisters\\' example.\\r\\n\\r\\n\"I\\'m glad mine is blue,\" said Amy.  and then the rooms were very still\\r\\nwhile the pages were softly turned, and the winter sunshine crept in to\\r\\ntouch the bright heads and serious faces with a Christmas greeting.\\r\\n\\r\\n\"Where is Mother?\" asked Meg, as she and Jo ran down to thank her for\\r\\ntheir gifts, half an hour later.\\r\\n\\r\\n\"Goodness only knows.  Some poor creeter came a-beggin\\', and your ma\\r\\nwent straight off to see what was needed.  There never was such a woman\\r\\nfor givin\\' away vittles and drink, clothes and firin\\',\" replied Hannah,\\r\\nwho had lived with the family since Meg was born, and was considered by\\r\\nthem all more as a friend than a servant.\\r\\n\\r\\n\"She will be back soon, I think, so fry your cakes, and have everything\\r\\nready,\" said Meg, looking over the presents which were collected in a\\r\\nbasket and kept under the sofa, ready to be produced at the proper\\r\\ntime.  \"Why, where is Amy\\'s bottle of cologne?\" she added, as the\\r\\nlittle flask did not appear.\\r\\n\\r\\n\"She took it out a minute ago, and went off with it to put a ribbon on\\r\\nit, or some such notion,\" replied Jo, dancing about the room to take\\r\\nthe first stiffness off the new army slippers.\\r\\n\\r\\n\"How nice my handkerchiefs look, don\\'t they?  Hannah washed and ironed\\r\\nthem for me, and I marked them all myself,\" said Beth, looking proudly\\r\\nat the somewhat uneven letters which had cost her such labor.\\r\\n\\r\\n\"Bless the child!  She\\'s gone and put \\'Mother\\' on them instead of \\'M.\\r\\nMarch\\'.  How funny!\" cried Jo, taking one up.\\r\\n\\r\\n\"Isn\\'t that right?  I thought it was better to do it so, because Meg\\'s\\r\\ninitials are M.M., and I don\\'t want anyone to use these but Marmee,\"\\r\\nsaid Beth, looking troubled.\\r\\n\\r\\n\"It\\'s all right, dear, and a very pretty idea, quite sensible too, for\\r\\nno one can ever mistake now.  It will please her very much, I know,\"\\r\\nsaid Meg, with a frown for Jo and a smile for Beth.\\r\\n\\r\\n\"There\\'s Mother.  Hide the basket, quick!\" cried Jo, as a door slammed\\r\\nand steps sounded in the hall.\\r\\n\\r\\nAmy came in hastily, and looked rather abashed when she saw her sisters\\r\\nall waiting for her.\\r\\n\\r\\n\"Where have you been, and what are you hiding behind you?\" asked Meg,\\r\\nsurprised to see, by her hood and cloak, that lazy Amy had been out so\\r\\nearly.\\r\\n\\r\\n\"Don\\'t laugh at me, Jo!  I didn\\'t mean anyone should know till the time\\r\\ncame.  I only meant to change the little bottle for a big one, and I\\r\\ngave all my money to get it, and I\\'m truly trying not to be selfish any\\r\\nmore.\"\\r\\n\\r\\nAs she spoke, Amy showed the handsome flask which replaced the cheap\\r\\none, and looked so earnest and humble in her little effort to forget\\r\\nherself that Meg hugged her on the spot, and Jo pronounced her \\'a\\r\\ntrump\\', while Beth ran to the window, and picked her finest rose to\\r\\nornament the stately bottle.\\r\\n\\r\\n\"You see I felt ashamed of my present, after reading and talking about\\r\\nbeing good this morning, so I ran round the corner and changed it the\\r\\nminute I was up, and I\\'m so glad, for mine is the handsomest now.\"\\r\\n\\r\\nAnother bang of the street door sent the basket under the sofa, and the\\r\\ngirls to the table, eager for breakfast.\\r\\n\\r\\n\"Merry Christmas, Marmee!  Many of them!  Thank you for our books.  We\\r\\nread some, and mean to every day,\" they all cried in chorus.\\r\\n\\r\\n\"Merry Christmas, little daughters!  I\\'m glad you began at once, and\\r\\nhope you will keep on.  But I want to say one word before we sit down.\\r\\nNot far away from here lies a poor woman with a little newborn baby.\\r\\nSix children are huddled into one bed to keep from freezing, for they\\r\\nhave no fire.  There is nothing to eat over there, and the oldest boy\\r\\ncame to tell me they were suffering hunger and cold.  My girls, will\\r\\nyou give them your breakfast as a Christmas present?\"\\r\\n\\r\\nThey were all unusually hungry, having waited nearly an hour, and for a\\r\\nminute no one spoke, only a minute, for Jo exclaimed impetuously, \"I\\'m\\r\\nso glad you came before we began!\"\\r\\n\\r\\n\"May I go and help carry the things to the poor little children?\" asked\\r\\nBeth eagerly.\\r\\n\\r\\n\"I shall take the cream and the muffings,\" added Amy, heroically giving\\r\\nup the article she most liked.\\r\\n\\r\\nMeg was already covering the buckwheats, and piling the bread into one\\r\\nbig plate.\\r\\n\\r\\n\"I thought you\\'d do it,\" said Mrs. March, smiling as if satisfied. \"You\\r\\nshall all go and help me, and when we come back we will have bread and\\r\\nmilk for breakfast, and make it up at dinnertime.\"\\r\\n\\r\\nThey were soon ready, and the procession set out.  Fortunately it was\\r\\nearly, and they went through back streets, so few people saw them, and\\r\\nno one laughed at the queer party.\\r\\n\\r\\nA poor, bare, miserable room it was, with broken windows, no fire,\\r\\nragged bedclothes, a sick mother, wailing baby, and a group of pale,\\r\\nhungry children cuddled under one old quilt, trying to keep warm.\\r\\n\\r\\nHow the big eyes stared and the blue lips smiled as the girls went in.\\r\\n\\r\\n\"Ach, mein Gott!  It is good angels come to us!\" said the poor woman,\\r\\ncrying for joy.\\r\\n\\r\\n\"Funny angels in hoods and mittens,\" said Jo, and set them to laughing.\\r\\n\\r\\nIn a few minutes it really did seem as if kind spirits had been at work\\r\\nthere.  Hannah, who had carried wood, made a fire, and stopped up the\\r\\nbroken panes with old hats and her own cloak.  Mrs. March gave the\\r\\nmother tea and gruel, and comforted her with promises of help, while\\r\\nshe dressed the little baby as tenderly as if it had been her own.  The\\r\\ngirls meantime spread the table, set the children round the fire, and\\r\\nfed them like so many hungry birds, laughing, talking, and trying to\\r\\nunderstand the funny broken English.\\r\\n\\r\\n\"Das ist gut!\"  \"Die Engel-kinder!\" cried the poor things as they ate\\r\\nand warmed their purple hands at the comfortable blaze. The girls had\\r\\nnever been called angel children before, and thought it very agreeable,\\r\\nespecially Jo, who had been considered a \\'Sancho\\' ever since she was\\r\\nborn.  That was a very happy breakfast, though they didn\\'t get any of\\r\\nit.  And when they went away, leaving comfort behind, I think there\\r\\nwere not in all the city four merrier people than the hungry little\\r\\ngirls who gave away their breakfasts and contented themselves with\\r\\nbread and milk on Christmas morning.\\r\\n\\r\\n\"That\\'s loving our neighbor better than ourselves, and I like it,\" said\\r\\nMeg, as they set out their presents while their mother was upstairs\\r\\ncollecting clothes for the poor Hummels.\\r\\n\\r\\nNot a very splendid show, but there was a great deal of love done up in\\r\\nthe few little bundles, and the tall vase of red roses, white\\r\\nchrysanthemums, and trailing vines, which stood in the middle, gave\\r\\nquite an elegant air to the table.\\r\\n\\r\\n\"She\\'s coming!  Strike up, Beth!  Open the door, Amy!  Three cheers for\\r\\nMarmee!\" cried Jo, prancing about while Meg went to conduct Mother to\\r\\nthe seat of honor.\\r\\n\\r\\nBeth played her gayest march, Amy threw open the door, and Meg enacted\\r\\nescort with great dignity.  Mrs. March was both surprised and touched,\\r\\nand smiled with her eyes full as she examined her presents and read the\\r\\nlittle notes which accompanied them.  The slippers went on at once, a\\r\\nnew handkerchief was slipped into her pocket, well scented with Amy\\'s\\r\\ncologne, the rose was fastened in her bosom, and the nice gloves were\\r\\npronounced a perfect fit.\\r\\n\\r\\nThere was a good deal of laughing and kissing and explaining, in the\\r\\nsimple, loving fashion which makes these home festivals so pleasant at\\r\\nthe time, so sweet to remember long afterward, and then all fell to\\r\\nwork.\\r\\n\\r\\nThe morning charities and ceremonies took so much time that the rest of\\r\\nthe day was devoted to preparations for the evening festivities.  Being\\r\\nstill too young to go often to the theater, and not rich enough to\\r\\nafford any great outlay for private performances, the girls put their\\r\\nwits to work, and necessity being the mother of invention, made\\r\\nwhatever they needed.  Very clever were some of their productions,\\r\\npasteboard guitars, antique lamps made of old-fashioned butter boats\\r\\ncovered with silver paper, gorgeous robes of old cotton, glittering\\r\\nwith tin spangles from a pickle factory, and armor covered with the\\r\\nsame useful diamond shaped bits left in sheets when the lids of\\r\\npreserve pots were cut out.  The big chamber was the scene of many\\r\\ninnocent revels.\\r\\n\\r\\nNo gentleman were admitted, so Jo played male parts to her heart\\'s\\r\\ncontent and took immense satisfaction in a pair of russet leather boots\\r\\ngiven her by a friend, who knew a lady who knew an actor.  These boots,\\r\\nan old foil, and a slashed doublet once used by an artist for some\\r\\npicture, were Jo\\'s chief treasures and appeared on all occasions.  The\\r\\nsmallness of the company made it necessary for the two principal actors\\r\\nto take several parts apiece, and they certainly deserved some credit\\r\\nfor the hard work they did in learning three or four different parts,\\r\\nwhisking in and out of various costumes, and managing the stage\\r\\nbesides.  It was excellent drill for their memories, a harmless\\r\\namusement, and employed many hours which otherwise would have been\\r\\nidle, lonely, or spent in less profitable society.\\r\\n\\r\\nOn Christmas night, a dozen girls piled onto the bed which was the\\r\\ndress circle, and sat before the blue and yellow chintz curtains in a\\r\\nmost flattering state of expectancy.  There was a good deal of rustling\\r\\nand whispering behind the curtain, a trifle of lamp smoke, and an\\r\\noccasional giggle from Amy, who was apt to get hysterical in the\\r\\nexcitement of the moment.  Presently a bell sounded, the curtains flew\\r\\napart, and the _operatic tragedy_ began.\\r\\n\\r\\n\"A gloomy wood,\" according to the one playbill, was represented by a\\r\\nfew shrubs in pots, green baize on the floor, and a cave in the\\r\\ndistance.  This cave was made with a clothes horse for a roof, bureaus\\r\\nfor walls, and in it was a small furnace in full blast, with a black\\r\\npot on it and an old witch bending over it.  The stage was dark and the\\r\\nglow of the furnace had a fine effect, especially as real steam issued\\r\\nfrom the kettle when the witch took off the cover.  A moment was\\r\\nallowed for the first thrill to subside, then Hugo, the villain,\\r\\nstalked in with a clanking sword at his side, a slouching hat, black\\r\\nbeard, mysterious cloak, and the boots.  After pacing to and fro in\\r\\nmuch agitation, he struck his forehead, and burst out in a wild strain,\\r\\nsinging of his hatred for Roderigo, his love for Zara, and his pleasing\\r\\nresolution to kill the one and win the other. The gruff tones of Hugo\\'s\\r\\nvoice, with an occasional shout when his feelings overcame him, were\\r\\nvery impressive, and the audience applauded the moment he paused for\\r\\nbreath.  Bowing with the air of one accustomed to public praise, he\\r\\nstole to the cavern and ordered Hagar to come forth with a commanding,\\r\\n\"What ho, minion! I need thee!\"\\r\\n\\r\\nOut came Meg, with gray horsehair hanging about her face, a red and\\r\\nblack robe, a staff, and cabalistic signs upon her cloak.  Hugo\\r\\ndemanded a potion to make Zara adore him, and one to destroy Roderigo.\\r\\nHagar, in a fine dramatic melody, promised both, and proceeded to call\\r\\nup the spirit who would bring the love philter.\\r\\n\\r\\n    Hither, hither, from thy home,\\r\\n    Airy sprite, I bid thee come!\\r\\n    Born of roses, fed on dew,\\r\\n    Charms and potions canst thou brew?\\r\\n    Bring me here, with elfin speed,\\r\\n    The fragrant philter which I need.\\r\\n    Make it sweet and swift and strong,\\r\\n    Spirit, answer now my song!\\r\\n\\r\\nA soft strain of music sounded, and then at the back of the cave\\r\\nappeared a little figure in cloudy white, with glittering wings, golden\\r\\nhair, and a garland of roses on its head.  Waving a wand, it sang...\\r\\n\\r\\n    Hither I come,\\r\\n    From my airy home,\\r\\n    Afar in the silver moon.\\r\\n    Take the magic spell,\\r\\n    And use it well,\\r\\n    Or its power will vanish soon!\\r\\n\\r\\nAnd dropping a small, gilded bottle at the witch\\'s feet, the spirit\\r\\nvanished.  Another chant from Hagar produced another apparition, not a\\r\\nlovely one, for with a bang an ugly black imp appeared and, having\\r\\ncroaked a reply, tossed a dark bottle at Hugo and disappeared with a\\r\\nmocking laugh.  Having warbled his thanks and put the potions in his\\r\\nboots, Hugo departed, and Hagar informed the audience that as he had\\r\\nkilled a few of her friends in times past, she had cursed him, and\\r\\nintends to thwart his plans, and be revenged on him.  Then the curtain\\r\\nfell, and the audience reposed and ate candy while discussing the\\r\\nmerits of the play.\\r\\n\\r\\nA good deal of hammering went on before the curtain rose again, but\\r\\nwhen it became evident what a masterpiece of stage carpentery had been\\r\\ngot up, no one murmured at the delay.  It was truly superb. A tower\\r\\nrose to the ceiling, halfway up appeared a window with a lamp burning\\r\\nin it, and behind the white curtain appeared Zara in a lovely blue and\\r\\nsilver dress, waiting for Roderigo.  He came in gorgeous array, with\\r\\nplumed cap, red cloak, chestnut lovelocks, a guitar, and the boots, of\\r\\ncourse.  Kneeling at the foot of the tower, he sang a serenade in\\r\\nmelting tones.  Zara replied and, after a musical dialogue, consented\\r\\nto fly.  Then came the grand effect of the play.  Roderigo produced a\\r\\nrope ladder, with five steps to it, threw up one end, and invited Zara\\r\\nto descend.  Timidly she crept from her lattice, put her hand on\\r\\nRoderigo\\'s shoulder, and was about to leap gracefully down when \"Alas!\\r\\nAlas for Zara!\" she forgot her train.  It caught in the window, the\\r\\ntower tottered, leaned forward, fell with a crash, and buried the\\r\\nunhappy lovers in the ruins.\\r\\n\\r\\nA universal shriek arose as the russet boots waved wildly from the\\r\\nwreck and a golden head emerged, exclaiming, \"I told you so!  I told\\r\\nyou so!\"  With wonderful presence of mind, Don Pedro, the cruel sire,\\r\\nrushed in, dragged out his daughter, with a hasty aside...\\r\\n\\r\\n\"Don\\'t laugh!  Act as if it was all right!\" and, ordering Roderigo up,\\r\\nbanished him from the kingdom with wrath and scorn. Though decidedly\\r\\nshaken by the fall from the tower upon him, Roderigo defied the old\\r\\ngentleman and refused to stir.  This dauntless example fired Zara.  She\\r\\nalso defied her sire, and he ordered them both to the deepest dungeons\\r\\nof the castle.  A stout little retainer came in with chains and led\\r\\nthem away, looking very much frightened and evidently forgetting the\\r\\nspeech he ought to have made.\\r\\n\\r\\nAct third was the castle hall, and here Hagar appeared, having come to\\r\\nfree the lovers and finish Hugo.  She hears him coming and hides, sees\\r\\nhim put the potions into two cups of wine and bid the timid little\\r\\nservant, \"Bear them to the captives in their cells, and tell them I\\r\\nshall come anon.\"  The servant takes Hugo aside to tell him something,\\r\\nand Hagar changes the cups for two others which are harmless.\\r\\nFerdinando, the \\'minion\\', carries them away, and Hagar puts back the\\r\\ncup which holds the poison meant for Roderigo. Hugo, getting thirsty\\r\\nafter a long warble, drinks it, loses his wits, and after a good deal\\r\\nof clutching and stamping, falls flat and dies, while Hagar informs him\\r\\nwhat she has done in a song of exquisite power and melody.\\r\\n\\r\\nThis was a truly thrilling scene, though some persons might have\\r\\nthought that the sudden tumbling down of a quantity of long red hair\\r\\nrather marred the effect of the villain\\'s death.  He was called before\\r\\nthe curtain, and with great propriety appeared, leading Hagar, whose\\r\\nsinging was considered more wonderful than all the rest of the\\r\\nperformance put together.\\r\\n\\r\\nAct fourth displayed the despairing Roderigo on the point of stabbing\\r\\nhimself because he has been told that Zara has deserted him. Just as\\r\\nthe dagger is at his heart, a lovely song is sung under his window,\\r\\ninforming him that Zara is true but in danger, and he can save her if\\r\\nhe will.  A key is thrown in, which unlocks the door, and in a spasm of\\r\\nrapture he tears off his chains and rushes away to find and rescue his\\r\\nlady love.\\r\\n\\r\\nAct fifth opened with a stormy scene between Zara and Don Pedro. He\\r\\nwishes her to go into a convent, but she won\\'t hear of it, and after a\\r\\ntouching appeal, is about to faint when Roderigo dashes in and demands\\r\\nher hand.  Don Pedro refuses, because he is not rich. They shout and\\r\\ngesticulate tremendously but cannot agree, and Rodrigo is about to bear\\r\\naway the exhausted Zara, when the timid servant enters with a letter\\r\\nand a bag from Hagar, who has mysteriously disappeared.  The latter\\r\\ninforms the party that she bequeaths untold wealth to the young pair\\r\\nand an awful doom to Don Pedro, if he doesn\\'t make them happy.  The bag\\r\\nis opened, and several quarts of tin money shower down upon the stage\\r\\ntill it is quite glorified with the glitter.  This entirely softens the\\r\\nstern sire.  He consents without a murmur, all join in a joyful chorus,\\r\\nand the curtain falls upon the lovers kneeling to receive Don Pedro\\'s\\r\\nblessing in attitudes of the most romantic grace.\\r\\n\\r\\nTumultuous applause followed but received an unexpected check, for the\\r\\ncot bed, on which the dress circle was built, suddenly shut up and\\r\\nextinguished the enthusiastic audience.  Roderigo and Don Pedro flew to\\r\\nthe rescue, and all were taken out unhurt, though many were speechless\\r\\nwith laughter.  The excitement had hardly subsided when Hannah\\r\\nappeared, with \"Mrs. March\\'s compliments, and would the ladies walk\\r\\ndown to supper.\"\\r\\n\\r\\nThis was a surprise even to the actors, and when they saw the table,\\r\\nthey looked at one another in rapturous amazement.  It was like Marmee\\r\\nto get up a little treat for them, but anything so fine as this was\\r\\nunheard of since the departed days of plenty.  There was ice cream,\\r\\nactually two dishes of it, pink and white, and cake and fruit and\\r\\ndistracting French bonbons and, in the middle of the table, four great\\r\\nbouquets of hot house flowers.\\r\\n\\r\\nIt quite took their breath away, and they stared first at the table and\\r\\nthen at their mother, who looked as if she enjoyed it immensely.\\r\\n\\r\\n\"Is it fairies?\" asked Amy.\\r\\n\\r\\n\"Santa Claus,\" said Beth.\\r\\n\\r\\n\"Mother did it.\" And Meg smiled her sweetest, in spite of her gray\\r\\nbeard and white eyebrows.\\r\\n\\r\\n\"Aunt March had a good fit and sent the supper,\" cried Jo, with a\\r\\nsudden inspiration.\\r\\n\\r\\n\"All wrong.  Old Mr. Laurence sent it,\" replied Mrs. March.\\r\\n\\r\\n\"The Laurence boy\\'s grandfather! What in the world put such a thing\\r\\ninto his head?  We don\\'t know him!\" exclaimed Meg.\\r\\n\\r\\n\"Hannah told one of his servants about your breakfast party. He is an\\r\\nodd old gentleman, but that pleased him.  He knew my father years ago,\\r\\nand he sent me a polite note this afternoon, saying he hoped I would\\r\\nallow him to express his friendly feeling toward my children by sending\\r\\nthem a few trifles in honor of the day.  I could not refuse, and so you\\r\\nhave a little feast at night to make up for the bread-and-milk\\r\\nbreakfast.\"\\r\\n\\r\\n\"That boy put it into his head, I know he did!  He\\'s a capital fellow,\\r\\nand I wish we could get acquainted.  He looks as if he\\'d like to know\\r\\nus but he\\'s bashful, and Meg is so prim she won\\'t let me speak to him\\r\\nwhen we pass,\" said Jo, as the plates went round, and the ice began to\\r\\nmelt out of sight, with ohs and ahs of satisfaction.\\r\\n\\r\\n\"You mean the people who live in the big house next door, don\\'t you?\"\\r\\nasked one of the girls.  \"My mother knows old Mr. Laurence, but says\\r\\nhe\\'s very proud and doesn\\'t like to mix with his neighbors. He keeps\\r\\nhis grandson shut up, when he isn\\'t riding or walking with his tutor,\\r\\nand makes him study very hard.  We invited him to our party, but he\\r\\ndidn\\'t come.  Mother says he\\'s very nice, though he never speaks to us\\r\\ngirls.\"\\r\\n\\r\\n\"Our cat ran away once, and he brought her back, and we talked over the\\r\\nfence, and were getting on capitally, all about cricket, and so on,\\r\\nwhen he saw Meg coming, and walked off.  I mean to know him some day,\\r\\nfor he needs fun, I\\'m sure he does,\" said Jo decidedly.\\r\\n\\r\\n\"I like his manners, and he looks like a little gentleman, so I\\'ve no\\r\\nobjection to your knowing him, if a proper opportunity comes. He\\r\\nbrought the flowers himself, and I should have asked him in, if I had\\r\\nbeen sure what was going on upstairs.  He looked so wistful as he went\\r\\naway, hearing the frolic and evidently having none of his own.\"\\r\\n\\r\\n\"It\\'s a mercy you didn\\'t, Mother!\" laughed Jo, looking at her boots.\\r\\n\"But we\\'ll have another play sometime that he can see.  Perhaps he\\'ll\\r\\nhelp act.  Wouldn\\'t that be jolly?\"\\r\\n\\r\\n\"I never had such a fine bouquet before!  How pretty it is!\" And Meg\\r\\nexamined her flowers with great interest.\\r\\n\\r\\n\"They are lovely.  But Beth\\'s roses are sweeter to me,\" said Mrs.\\r\\nMarch, smelling the half-dead posy in her belt.\\r\\n\\r\\nBeth nestled up to her, and whispered softly, \"I wish I could send my\\r\\nbunch to Father.  I\\'m afraid he isn\\'t having such a merry Christmas as\\r\\nwe are.\"'"
      ]
     },
     "execution_count": 41,
     "metadata": {},
     "output_type": "execute_result"
    }
   ],
   "source": [
    "df_model.iloc[0,0]"
   ]
  },
  {
   "cell_type": "code",
   "execution_count": 42,
   "metadata": {
    "collapsed": false
   },
   "outputs": [
    {
     "data": {
      "text/plain": [
       "u'the mother'"
      ]
     },
     "execution_count": 42,
     "metadata": {},
     "output_type": "execute_result"
    }
   ],
   "source": [
    "df_model.iloc[0,1]"
   ]
  },
  {
   "cell_type": "code",
   "execution_count": 43,
   "metadata": {
    "collapsed": false
   },
   "outputs": [],
   "source": [
    "df_train_data = df_model.iloc[0:4000,0]\n",
    "df_train_labels = df_model.iloc[0:4000,1]"
   ]
  },
  {
   "cell_type": "code",
   "execution_count": 44,
   "metadata": {
    "collapsed": false
   },
   "outputs": [
    {
     "data": {
      "text/plain": [
       "(4000L,)"
      ]
     },
     "execution_count": 44,
     "metadata": {},
     "output_type": "execute_result"
    }
   ],
   "source": [
    "df_train_data.shape"
   ]
  },
  {
   "cell_type": "code",
   "execution_count": 45,
   "metadata": {
    "collapsed": false
   },
   "outputs": [
    {
     "data": {
      "text/plain": [
       "0    2. Who is Marmee? CHAPTER ONE\\r\\n\\r\\nPLAYING P...\n",
       "1    3. Marmee\\r\\r\\nreceives a letter from her husb...\n",
       "2    4. What does each girl find under her\\r\\r\\npil...\n",
       "3    5. What is the name of the family's long\\r\\r\\n...\n",
       "4    6. What is the last name of the family\\r\\r\\nth...\n",
       "Name: train_text, dtype: object"
      ]
     },
     "execution_count": 45,
     "metadata": {},
     "output_type": "execute_result"
    }
   ],
   "source": [
    "df_train_data.head()"
   ]
  },
  {
   "cell_type": "code",
   "execution_count": 46,
   "metadata": {
    "collapsed": false
   },
   "outputs": [
    {
     "data": {
      "text/plain": [
       "0             the mother\n",
       "1    serving in the army\n",
       "2                 a book\n",
       "3                 Hannah\n",
       "4                 Hummel\n",
       "Name: answer, dtype: object"
      ]
     },
     "execution_count": 46,
     "metadata": {},
     "output_type": "execute_result"
    }
   ],
   "source": [
    "df_train_labels.head()"
   ]
  },
  {
   "cell_type": "code",
   "execution_count": 47,
   "metadata": {
    "collapsed": true
   },
   "outputs": [],
   "source": [
    "df_test_data = df_model.iloc[4000:,0]\n",
    "df_test_labels = df_model.iloc[4000:,1]"
   ]
  },
  {
   "cell_type": "code",
   "execution_count": 48,
   "metadata": {
    "collapsed": false
   },
   "outputs": [
    {
     "data": {
      "text/plain": [
       "(1277L,)"
      ]
     },
     "execution_count": 48,
     "metadata": {},
     "output_type": "execute_result"
    }
   ],
   "source": [
    "df_test_data.shape"
   ]
  },
  {
   "cell_type": "code",
   "execution_count": 56,
   "metadata": {
    "collapsed": false
   },
   "outputs": [
    {
     "ename": "ValueError",
     "evalue": "np.nan is an invalid document, expected byte or unicode string.",
     "output_type": "error",
     "traceback": [
      "\u001b[0;31m---------------------------------------------------------------------------\u001b[0m",
      "\u001b[0;31mValueError\u001b[0m                                Traceback (most recent call last)",
      "\u001b[0;32m<ipython-input-56-38adc2f79fe0>\u001b[0m in \u001b[0;36m<module>\u001b[0;34m()\u001b[0m\n\u001b[1;32m      6\u001b[0m \u001b[1;31m#singleGram\u001b[0m\u001b[1;33m\u001b[0m\u001b[1;33m\u001b[0m\u001b[0m\n\u001b[1;32m      7\u001b[0m \u001b[0mvectorizer\u001b[0m \u001b[1;33m=\u001b[0m \u001b[0mCountVectorizer\u001b[0m\u001b[1;33m(\u001b[0m\u001b[1;33m)\u001b[0m \u001b[1;31m#decode_error=\"replace\")#strip_accents= 'unicode', encoding='utf-8',\u001b[0m\u001b[1;33m\u001b[0m\u001b[0m\n\u001b[0;32m----> 8\u001b[0;31m \u001b[0mtrain_vec\u001b[0m \u001b[1;33m=\u001b[0m \u001b[0mvectorizer\u001b[0m\u001b[1;33m.\u001b[0m\u001b[0mfit_transform\u001b[0m\u001b[1;33m(\u001b[0m\u001b[0mdf_train_data\u001b[0m\u001b[1;33m)\u001b[0m\u001b[1;31m#.values.astype('U') #str), 'U'\u001b[0m\u001b[1;33m\u001b[0m\u001b[0m\n\u001b[0m\u001b[1;32m      9\u001b[0m \u001b[1;31m#train_vec.shape\u001b[0m\u001b[1;33m\u001b[0m\u001b[1;33m\u001b[0m\u001b[0m\n\u001b[1;32m     10\u001b[0m \u001b[1;31m#train_array = train_vec.toarray()\u001b[0m\u001b[1;33m\u001b[0m\u001b[1;33m\u001b[0m\u001b[0m\n",
      "\u001b[0;32mC:\\Users\\Jennifer\\Anaconda2\\lib\\site-packages\\sklearn\\feature_extraction\\text.pyc\u001b[0m in \u001b[0;36mfit_transform\u001b[0;34m(self, raw_documents, y)\u001b[0m\n\u001b[1;32m    867\u001b[0m \u001b[1;33m\u001b[0m\u001b[0m\n\u001b[1;32m    868\u001b[0m         vocabulary, X = self._count_vocab(raw_documents,\n\u001b[0;32m--> 869\u001b[0;31m                                           self.fixed_vocabulary_)\n\u001b[0m\u001b[1;32m    870\u001b[0m \u001b[1;33m\u001b[0m\u001b[0m\n\u001b[1;32m    871\u001b[0m         \u001b[1;32mif\u001b[0m \u001b[0mself\u001b[0m\u001b[1;33m.\u001b[0m\u001b[0mbinary\u001b[0m\u001b[1;33m:\u001b[0m\u001b[1;33m\u001b[0m\u001b[0m\n",
      "\u001b[0;32mC:\\Users\\Jennifer\\Anaconda2\\lib\\site-packages\\sklearn\\feature_extraction\\text.pyc\u001b[0m in \u001b[0;36m_count_vocab\u001b[0;34m(self, raw_documents, fixed_vocab)\u001b[0m\n\u001b[1;32m    790\u001b[0m         \u001b[1;32mfor\u001b[0m \u001b[0mdoc\u001b[0m \u001b[1;32min\u001b[0m \u001b[0mraw_documents\u001b[0m\u001b[1;33m:\u001b[0m\u001b[1;33m\u001b[0m\u001b[0m\n\u001b[1;32m    791\u001b[0m             \u001b[0mfeature_counter\u001b[0m \u001b[1;33m=\u001b[0m \u001b[1;33m{\u001b[0m\u001b[1;33m}\u001b[0m\u001b[1;33m\u001b[0m\u001b[0m\n\u001b[0;32m--> 792\u001b[0;31m             \u001b[1;32mfor\u001b[0m \u001b[0mfeature\u001b[0m \u001b[1;32min\u001b[0m \u001b[0manalyze\u001b[0m\u001b[1;33m(\u001b[0m\u001b[0mdoc\u001b[0m\u001b[1;33m)\u001b[0m\u001b[1;33m:\u001b[0m\u001b[1;33m\u001b[0m\u001b[0m\n\u001b[0m\u001b[1;32m    793\u001b[0m                 \u001b[1;32mtry\u001b[0m\u001b[1;33m:\u001b[0m\u001b[1;33m\u001b[0m\u001b[0m\n\u001b[1;32m    794\u001b[0m                     \u001b[0mfeature_idx\u001b[0m \u001b[1;33m=\u001b[0m \u001b[0mvocabulary\u001b[0m\u001b[1;33m[\u001b[0m\u001b[0mfeature\u001b[0m\u001b[1;33m]\u001b[0m\u001b[1;33m\u001b[0m\u001b[0m\n",
      "\u001b[0;32mC:\\Users\\Jennifer\\Anaconda2\\lib\\site-packages\\sklearn\\feature_extraction\\text.pyc\u001b[0m in \u001b[0;36m<lambda>\u001b[0;34m(doc)\u001b[0m\n\u001b[1;32m    264\u001b[0m \u001b[1;33m\u001b[0m\u001b[0m\n\u001b[1;32m    265\u001b[0m             return lambda doc: self._word_ngrams(\n\u001b[0;32m--> 266\u001b[0;31m                 tokenize(preprocess(self.decode(doc))), stop_words)\n\u001b[0m\u001b[1;32m    267\u001b[0m \u001b[1;33m\u001b[0m\u001b[0m\n\u001b[1;32m    268\u001b[0m         \u001b[1;32melse\u001b[0m\u001b[1;33m:\u001b[0m\u001b[1;33m\u001b[0m\u001b[0m\n",
      "\u001b[0;32mC:\\Users\\Jennifer\\Anaconda2\\lib\\site-packages\\sklearn\\feature_extraction\\text.pyc\u001b[0m in \u001b[0;36mdecode\u001b[0;34m(self, doc)\u001b[0m\n\u001b[1;32m    117\u001b[0m \u001b[1;33m\u001b[0m\u001b[0m\n\u001b[1;32m    118\u001b[0m         \u001b[1;32mif\u001b[0m \u001b[0mdoc\u001b[0m \u001b[1;32mis\u001b[0m \u001b[0mnp\u001b[0m\u001b[1;33m.\u001b[0m\u001b[0mnan\u001b[0m\u001b[1;33m:\u001b[0m\u001b[1;33m\u001b[0m\u001b[0m\n\u001b[0;32m--> 119\u001b[0;31m             raise ValueError(\"np.nan is an invalid document, expected byte or \"\n\u001b[0m\u001b[1;32m    120\u001b[0m                              \"unicode string.\")\n\u001b[1;32m    121\u001b[0m \u001b[1;33m\u001b[0m\u001b[0m\n",
      "\u001b[0;31mValueError\u001b[0m: np.nan is an invalid document, expected byte or unicode string."
     ]
    }
   ],
   "source": [
    "# SK-learn libraries for feature extraction from text.\n",
    "from sklearn.feature_extraction.text import *\n",
    "##################################################\n",
    "#create n grams\n",
    "#default CountVectorizer options \n",
    "#singleGram \n",
    "vectorizer = CountVectorizer() #decode_error=\"replace\")#strip_accents= 'unicode', encoding='utf-8',\n",
    "train_vec = vectorizer.fit_transform(df_train_data)#.values.astype('U') #str), 'U'\n",
    "#train_vec.shape\n",
    "#train_array = train_vec.toarray()\n",
    "#print train_array [1:20,]\n",
    "test_vec = vectorizer.transform(df_test_data)\n",
    "#print test_vec.shape"
   ]
  },
  {
   "cell_type": "code",
   "execution_count": null,
   "metadata": {
    "collapsed": true
   },
   "outputs": [],
   "source": [
    "from sklearn.linear_model import LogisticRegression\n",
    "##################################################\n",
    "#Build LR model\n",
    "#fit a logistic regression model and find the optimal value for the regularization strength C using l2 regularization.\n",
    "#LR Model\n",
    "regularization_c = {'C': [0.0001, 0.001, 0.01, 0.1 ]} #,0.25, 0.5, 0.75, 0.9, 0.99,1]} #5,10,100]} #added 0.25 and 0.75 after seeing that 0.5 performed well, dropped above 1 at that point too\n",
    "LR_model = LogisticRegression(penalty=\"l2\")\n",
    "grid = GridSearchCV(estimator=LR_model, param_grid=regularization_c, scoring = \"f1_weighted\")\n",
    "grid.fit(train_vec, train_labels)\n",
    "#summarize the results of the grid search\n",
    "print \"Logistic Regression best f1 score for training data: \" + str(grid.best_score_)\n",
    "print \"Logistic Regression best regularization parameter: \"+ str(grid.best_estimator_.C)\n"
   ]
  },
  {
   "cell_type": "markdown",
   "metadata": {},
   "source": [
    "# Trying different encodings - to see what piece is breaking the tokenizer"
   ]
  },
  {
   "cell_type": "code",
   "execution_count": 68,
   "metadata": {
    "collapsed": true
   },
   "outputs": [],
   "source": [
    "df_questions2 = pd.read_csv('C:\\\\Users\\\\Jennifer\\\\Documents\\\\Berkeley\\\\W266\\\\Final Project\\\\Final-dataset\\\\midpoint_questions.csv', '\\t',encoding='utf-8')"
   ]
  },
  {
   "cell_type": "code",
   "execution_count": 70,
   "metadata": {
    "collapsed": false
   },
   "outputs": [
    {
     "data": {
      "text/html": [
       "<div>\n",
       "<style>\n",
       "    .dataframe thead tr:only-child th {\n",
       "        text-align: right;\n",
       "    }\n",
       "\n",
       "    .dataframe thead th {\n",
       "        text-align: left;\n",
       "    }\n",
       "\n",
       "    .dataframe tbody tr th {\n",
       "        vertical-align: top;\n",
       "    }\n",
       "</style>\n",
       "<table border=\"1\" class=\"dataframe\">\n",
       "  <thead>\n",
       "    <tr style=\"text-align: right;\">\n",
       "      <th></th>\n",
       "      <th>question_id</th>\n",
       "      <th>question</th>\n",
       "      <th>answer</th>\n",
       "      <th>book_id</th>\n",
       "    </tr>\n",
       "  </thead>\n",
       "  <tbody>\n",
       "    <tr>\n",
       "      <th>0</th>\n",
       "      <td>0</td>\n",
       "      <td>1. Where is Alice when she sees the White\\r\\r\\...</td>\n",
       "      <td>On a riverbank.</td>\n",
       "      <td>77</td>\n",
       "    </tr>\n",
       "    <tr>\n",
       "      <th>1</th>\n",
       "      <td>1</td>\n",
       "      <td>2. Who is Alice with before her adventures\\r\\r...</td>\n",
       "      <td>Her sister.</td>\n",
       "      <td>77</td>\n",
       "    </tr>\n",
       "    <tr>\n",
       "      <th>2</th>\n",
       "      <td>2</td>\n",
       "      <td>3. What is the rabbit looking at when\\r\\r\\nAli...</td>\n",
       "      <td>His watch.</td>\n",
       "      <td>77</td>\n",
       "    </tr>\n",
       "    <tr>\n",
       "      <th>3</th>\n",
       "      <td>3</td>\n",
       "      <td>4. What does Alice pick up while falling\\r\\r\\n...</td>\n",
       "      <td>An empty jar.</td>\n",
       "      <td>77</td>\n",
       "    </tr>\n",
       "    <tr>\n",
       "      <th>4</th>\n",
       "      <td>4</td>\n",
       "      <td>5. Alice does NOT think she might end up\\r\\r\\n...</td>\n",
       "      <td>America.</td>\n",
       "      <td>77</td>\n",
       "    </tr>\n",
       "  </tbody>\n",
       "</table>\n",
       "</div>"
      ],
      "text/plain": [
       "   question_id                                           question  \\\n",
       "0            0  1. Where is Alice when she sees the White\\r\\r\\...   \n",
       "1            1  2. Who is Alice with before her adventures\\r\\r...   \n",
       "2            2  3. What is the rabbit looking at when\\r\\r\\nAli...   \n",
       "3            3  4. What does Alice pick up while falling\\r\\r\\n...   \n",
       "4            4  5. Alice does NOT think she might end up\\r\\r\\n...   \n",
       "\n",
       "            answer  book_id  \n",
       "0  On a riverbank.       77  \n",
       "1      Her sister.       77  \n",
       "2       His watch.       77  \n",
       "3    An empty jar.       77  \n",
       "4         America.       77  "
      ]
     },
     "execution_count": 70,
     "metadata": {},
     "output_type": "execute_result"
    }
   ],
   "source": [
    "df_questions2.head()"
   ]
  },
  {
   "cell_type": "code",
   "execution_count": 71,
   "metadata": {
    "collapsed": true
   },
   "outputs": [],
   "source": [
    "df_questions3 = df_questions2.iloc[:,1]"
   ]
  },
  {
   "cell_type": "code",
   "execution_count": 73,
   "metadata": {
    "collapsed": true
   },
   "outputs": [],
   "source": [
    "vectorizer = CountVectorizer()\n",
    "train_vec = vectorizer.fit_transform(df_questions3).toarray()\n",
    "#this runs....so the merging of this & th content is the problem; later switche context_builder.py to utf-8, still no luck"
   ]
  },
  {
   "cell_type": "code",
   "execution_count": 63,
   "metadata": {
    "collapsed": true
   },
   "outputs": [],
   "source": [
    "df_crosswalk = pd.read_csv('C:\\\\Users\\\\Jennifer\\\\Documents\\\\Berkeley\\\\W266\\\\Final Project\\\\Final-dataset\\\\midpoint_crosswalk.csv')"
   ]
  },
  {
   "cell_type": "code",
   "execution_count": 64,
   "metadata": {
    "collapsed": true
   },
   "outputs": [],
   "source": [
    "df_books = pd.read_csv('C:\\\\Users\\\\Jennifer\\\\Documents\\\\Berkeley\\\\W266\\\\Final Project\\\\Final-dataset\\\\midpoint_context.csv', '\\t')"
   ]
  },
  {
   "cell_type": "code",
   "execution_count": null,
   "metadata": {
    "collapsed": true
   },
   "outputs": [],
   "source": []
  },
  {
   "cell_type": "code",
   "execution_count": null,
   "metadata": {
    "collapsed": true
   },
   "outputs": [],
   "source": [
    "https://stackoverflow.com/questions/39303912/tfidfvectorizer-in-scikit-learn-valueerror-np-nan-is-an-invalid-document"
   ]
  },
  {
   "cell_type": "code",
   "execution_count": 34,
   "metadata": {
    "collapsed": false
   },
   "outputs": [
    {
     "ename": "TypeError",
     "evalue": "expected string or buffer",
     "output_type": "error",
     "traceback": [
      "\u001b[0;31m---------------------------------------------------------------------------\u001b[0m",
      "\u001b[0;31mTypeError\u001b[0m                                 Traceback (most recent call last)",
      "\u001b[0;32m<ipython-input-34-82e1f0a5cf91>\u001b[0m in \u001b[0;36m<module>\u001b[0;34m()\u001b[0m\n\u001b[1;32m      1\u001b[0m \u001b[1;32mfrom\u001b[0m \u001b[0mnltk\u001b[0m\u001b[1;33m.\u001b[0m\u001b[0mtokenize\u001b[0m \u001b[1;32mimport\u001b[0m \u001b[0mword_tokenize\u001b[0m\u001b[1;33m\u001b[0m\u001b[0m\n\u001b[0;32m----> 2\u001b[0;31m \u001b[0mtxt\u001b[0m \u001b[1;33m=\u001b[0m \u001b[0mnltk\u001b[0m\u001b[1;33m.\u001b[0m\u001b[0mword_tokenize\u001b[0m \u001b[1;33m(\u001b[0m\u001b[0mdf_test_labels\u001b[0m\u001b[1;33m)\u001b[0m\u001b[1;33m\u001b[0m\u001b[0m\n\u001b[0m\u001b[1;32m      3\u001b[0m \u001b[0mtxt\u001b[0m \u001b[1;33m=\u001b[0m \u001b[0mnltk\u001b[0m\u001b[1;33m.\u001b[0m\u001b[0mText\u001b[0m\u001b[1;33m(\u001b[0m\u001b[0mtxt\u001b[0m\u001b[1;33m)\u001b[0m\u001b[1;33m\u001b[0m\u001b[0m\n\u001b[1;32m      4\u001b[0m \u001b[0mtxt\u001b[0m\u001b[1;33m.\u001b[0m\u001b[0mcount\u001b[0m\u001b[1;33m(\u001b[0m\u001b[1;34m\"the\"\u001b[0m\u001b[1;33m)\u001b[0m\u001b[1;33m\u001b[0m\u001b[0m\n",
      "\u001b[0;32mC:\\Users\\Jennifer\\Anaconda2\\lib\\site-packages\\nltk\\tokenize\\__init__.pyc\u001b[0m in \u001b[0;36mword_tokenize\u001b[0;34m(text, language)\u001b[0m\n\u001b[1;32m    104\u001b[0m     \u001b[1;33m:\u001b[0m\u001b[0mparam\u001b[0m \u001b[0mlanguage\u001b[0m\u001b[1;33m:\u001b[0m \u001b[0mthe\u001b[0m \u001b[0mmodel\u001b[0m \u001b[0mname\u001b[0m \u001b[1;32min\u001b[0m \u001b[0mthe\u001b[0m \u001b[0mPunkt\u001b[0m \u001b[0mcorpus\u001b[0m\u001b[1;33m\u001b[0m\u001b[0m\n\u001b[1;32m    105\u001b[0m     \"\"\"\n\u001b[0;32m--> 106\u001b[0;31m     return [token for sent in sent_tokenize(text, language)\n\u001b[0m\u001b[1;32m    107\u001b[0m             for token in _treebank_word_tokenize(sent)]\n\u001b[1;32m    108\u001b[0m \u001b[1;33m\u001b[0m\u001b[0m\n",
      "\u001b[0;32mC:\\Users\\Jennifer\\Anaconda2\\lib\\site-packages\\nltk\\tokenize\\__init__.pyc\u001b[0m in \u001b[0;36msent_tokenize\u001b[0;34m(text, language)\u001b[0m\n\u001b[1;32m     89\u001b[0m     \"\"\"\n\u001b[1;32m     90\u001b[0m     \u001b[0mtokenizer\u001b[0m \u001b[1;33m=\u001b[0m \u001b[0mload\u001b[0m\u001b[1;33m(\u001b[0m\u001b[1;34m'tokenizers/punkt/{0}.pickle'\u001b[0m\u001b[1;33m.\u001b[0m\u001b[0mformat\u001b[0m\u001b[1;33m(\u001b[0m\u001b[0mlanguage\u001b[0m\u001b[1;33m)\u001b[0m\u001b[1;33m)\u001b[0m\u001b[1;33m\u001b[0m\u001b[0m\n\u001b[0;32m---> 91\u001b[0;31m     \u001b[1;32mreturn\u001b[0m \u001b[0mtokenizer\u001b[0m\u001b[1;33m.\u001b[0m\u001b[0mtokenize\u001b[0m\u001b[1;33m(\u001b[0m\u001b[0mtext\u001b[0m\u001b[1;33m)\u001b[0m\u001b[1;33m\u001b[0m\u001b[0m\n\u001b[0m\u001b[1;32m     92\u001b[0m \u001b[1;33m\u001b[0m\u001b[0m\n\u001b[1;32m     93\u001b[0m \u001b[1;31m# Standard word tokenizer.\u001b[0m\u001b[1;33m\u001b[0m\u001b[1;33m\u001b[0m\u001b[0m\n",
      "\u001b[0;32mC:\\Users\\Jennifer\\Anaconda2\\lib\\site-packages\\nltk\\tokenize\\punkt.pyc\u001b[0m in \u001b[0;36mtokenize\u001b[0;34m(self, text, realign_boundaries)\u001b[0m\n\u001b[1;32m   1224\u001b[0m         \u001b[0mGiven\u001b[0m \u001b[0ma\u001b[0m \u001b[0mtext\u001b[0m\u001b[1;33m,\u001b[0m \u001b[0mreturns\u001b[0m \u001b[0ma\u001b[0m \u001b[0mlist\u001b[0m \u001b[0mof\u001b[0m \u001b[0mthe\u001b[0m \u001b[0msentences\u001b[0m \u001b[1;32min\u001b[0m \u001b[0mthat\u001b[0m \u001b[0mtext\u001b[0m\u001b[1;33m.\u001b[0m\u001b[1;33m\u001b[0m\u001b[0m\n\u001b[1;32m   1225\u001b[0m         \"\"\"\n\u001b[0;32m-> 1226\u001b[0;31m         \u001b[1;32mreturn\u001b[0m \u001b[0mlist\u001b[0m\u001b[1;33m(\u001b[0m\u001b[0mself\u001b[0m\u001b[1;33m.\u001b[0m\u001b[0msentences_from_text\u001b[0m\u001b[1;33m(\u001b[0m\u001b[0mtext\u001b[0m\u001b[1;33m,\u001b[0m \u001b[0mrealign_boundaries\u001b[0m\u001b[1;33m)\u001b[0m\u001b[1;33m)\u001b[0m\u001b[1;33m\u001b[0m\u001b[0m\n\u001b[0m\u001b[1;32m   1227\u001b[0m \u001b[1;33m\u001b[0m\u001b[0m\n\u001b[1;32m   1228\u001b[0m     \u001b[1;32mdef\u001b[0m \u001b[0mdebug_decisions\u001b[0m\u001b[1;33m(\u001b[0m\u001b[0mself\u001b[0m\u001b[1;33m,\u001b[0m \u001b[0mtext\u001b[0m\u001b[1;33m)\u001b[0m\u001b[1;33m:\u001b[0m\u001b[1;33m\u001b[0m\u001b[0m\n",
      "\u001b[0;32mC:\\Users\\Jennifer\\Anaconda2\\lib\\site-packages\\nltk\\tokenize\\punkt.pyc\u001b[0m in \u001b[0;36msentences_from_text\u001b[0;34m(self, text, realign_boundaries)\u001b[0m\n\u001b[1;32m   1272\u001b[0m         \u001b[0mfollows\u001b[0m \u001b[0mthe\u001b[0m \u001b[0mperiod\u001b[0m\u001b[1;33m.\u001b[0m\u001b[1;33m\u001b[0m\u001b[0m\n\u001b[1;32m   1273\u001b[0m         \"\"\"\n\u001b[0;32m-> 1274\u001b[0;31m         \u001b[1;32mreturn\u001b[0m \u001b[1;33m[\u001b[0m\u001b[0mtext\u001b[0m\u001b[1;33m[\u001b[0m\u001b[0ms\u001b[0m\u001b[1;33m:\u001b[0m\u001b[0me\u001b[0m\u001b[1;33m]\u001b[0m \u001b[1;32mfor\u001b[0m \u001b[0ms\u001b[0m\u001b[1;33m,\u001b[0m \u001b[0me\u001b[0m \u001b[1;32min\u001b[0m \u001b[0mself\u001b[0m\u001b[1;33m.\u001b[0m\u001b[0mspan_tokenize\u001b[0m\u001b[1;33m(\u001b[0m\u001b[0mtext\u001b[0m\u001b[1;33m,\u001b[0m \u001b[0mrealign_boundaries\u001b[0m\u001b[1;33m)\u001b[0m\u001b[1;33m]\u001b[0m\u001b[1;33m\u001b[0m\u001b[0m\n\u001b[0m\u001b[1;32m   1275\u001b[0m \u001b[1;33m\u001b[0m\u001b[0m\n\u001b[1;32m   1276\u001b[0m     \u001b[1;32mdef\u001b[0m \u001b[0m_slices_from_text\u001b[0m\u001b[1;33m(\u001b[0m\u001b[0mself\u001b[0m\u001b[1;33m,\u001b[0m \u001b[0mtext\u001b[0m\u001b[1;33m)\u001b[0m\u001b[1;33m:\u001b[0m\u001b[1;33m\u001b[0m\u001b[0m\n",
      "\u001b[0;32mC:\\Users\\Jennifer\\Anaconda2\\lib\\site-packages\\nltk\\tokenize\\punkt.pyc\u001b[0m in \u001b[0;36mspan_tokenize\u001b[0;34m(self, text, realign_boundaries)\u001b[0m\n\u001b[1;32m   1263\u001b[0m         \u001b[1;32mif\u001b[0m \u001b[0mrealign_boundaries\u001b[0m\u001b[1;33m:\u001b[0m\u001b[1;33m\u001b[0m\u001b[0m\n\u001b[1;32m   1264\u001b[0m             \u001b[0mslices\u001b[0m \u001b[1;33m=\u001b[0m \u001b[0mself\u001b[0m\u001b[1;33m.\u001b[0m\u001b[0m_realign_boundaries\u001b[0m\u001b[1;33m(\u001b[0m\u001b[0mtext\u001b[0m\u001b[1;33m,\u001b[0m \u001b[0mslices\u001b[0m\u001b[1;33m)\u001b[0m\u001b[1;33m\u001b[0m\u001b[0m\n\u001b[0;32m-> 1265\u001b[0;31m         \u001b[1;32mreturn\u001b[0m \u001b[1;33m[\u001b[0m\u001b[1;33m(\u001b[0m\u001b[0msl\u001b[0m\u001b[1;33m.\u001b[0m\u001b[0mstart\u001b[0m\u001b[1;33m,\u001b[0m \u001b[0msl\u001b[0m\u001b[1;33m.\u001b[0m\u001b[0mstop\u001b[0m\u001b[1;33m)\u001b[0m \u001b[1;32mfor\u001b[0m \u001b[0msl\u001b[0m \u001b[1;32min\u001b[0m \u001b[0mslices\u001b[0m\u001b[1;33m]\u001b[0m\u001b[1;33m\u001b[0m\u001b[0m\n\u001b[0m\u001b[1;32m   1266\u001b[0m \u001b[1;33m\u001b[0m\u001b[0m\n\u001b[1;32m   1267\u001b[0m     \u001b[1;32mdef\u001b[0m \u001b[0msentences_from_text\u001b[0m\u001b[1;33m(\u001b[0m\u001b[0mself\u001b[0m\u001b[1;33m,\u001b[0m \u001b[0mtext\u001b[0m\u001b[1;33m,\u001b[0m \u001b[0mrealign_boundaries\u001b[0m\u001b[1;33m=\u001b[0m\u001b[0mTrue\u001b[0m\u001b[1;33m)\u001b[0m\u001b[1;33m:\u001b[0m\u001b[1;33m\u001b[0m\u001b[0m\n",
      "\u001b[0;32mC:\\Users\\Jennifer\\Anaconda2\\lib\\site-packages\\nltk\\tokenize\\punkt.pyc\u001b[0m in \u001b[0;36m_realign_boundaries\u001b[0;34m(self, text, slices)\u001b[0m\n\u001b[1;32m   1302\u001b[0m         \"\"\"\n\u001b[1;32m   1303\u001b[0m         \u001b[0mrealign\u001b[0m \u001b[1;33m=\u001b[0m \u001b[1;36m0\u001b[0m\u001b[1;33m\u001b[0m\u001b[0m\n\u001b[0;32m-> 1304\u001b[0;31m         \u001b[1;32mfor\u001b[0m \u001b[0msl1\u001b[0m\u001b[1;33m,\u001b[0m \u001b[0msl2\u001b[0m \u001b[1;32min\u001b[0m \u001b[0m_pair_iter\u001b[0m\u001b[1;33m(\u001b[0m\u001b[0mslices\u001b[0m\u001b[1;33m)\u001b[0m\u001b[1;33m:\u001b[0m\u001b[1;33m\u001b[0m\u001b[0m\n\u001b[0m\u001b[1;32m   1305\u001b[0m             \u001b[0msl1\u001b[0m \u001b[1;33m=\u001b[0m \u001b[0mslice\u001b[0m\u001b[1;33m(\u001b[0m\u001b[0msl1\u001b[0m\u001b[1;33m.\u001b[0m\u001b[0mstart\u001b[0m \u001b[1;33m+\u001b[0m \u001b[0mrealign\u001b[0m\u001b[1;33m,\u001b[0m \u001b[0msl1\u001b[0m\u001b[1;33m.\u001b[0m\u001b[0mstop\u001b[0m\u001b[1;33m)\u001b[0m\u001b[1;33m\u001b[0m\u001b[0m\n\u001b[1;32m   1306\u001b[0m             \u001b[1;32mif\u001b[0m \u001b[1;32mnot\u001b[0m \u001b[0msl2\u001b[0m\u001b[1;33m:\u001b[0m\u001b[1;33m\u001b[0m\u001b[0m\n",
      "\u001b[0;32mC:\\Users\\Jennifer\\Anaconda2\\lib\\site-packages\\nltk\\tokenize\\punkt.pyc\u001b[0m in \u001b[0;36m_pair_iter\u001b[0;34m(it)\u001b[0m\n\u001b[1;32m    308\u001b[0m     \"\"\"\n\u001b[1;32m    309\u001b[0m     \u001b[0mit\u001b[0m \u001b[1;33m=\u001b[0m \u001b[0miter\u001b[0m\u001b[1;33m(\u001b[0m\u001b[0mit\u001b[0m\u001b[1;33m)\u001b[0m\u001b[1;33m\u001b[0m\u001b[0m\n\u001b[0;32m--> 310\u001b[0;31m     \u001b[0mprev\u001b[0m \u001b[1;33m=\u001b[0m \u001b[0mnext\u001b[0m\u001b[1;33m(\u001b[0m\u001b[0mit\u001b[0m\u001b[1;33m)\u001b[0m\u001b[1;33m\u001b[0m\u001b[0m\n\u001b[0m\u001b[1;32m    311\u001b[0m     \u001b[1;32mfor\u001b[0m \u001b[0mel\u001b[0m \u001b[1;32min\u001b[0m \u001b[0mit\u001b[0m\u001b[1;33m:\u001b[0m\u001b[1;33m\u001b[0m\u001b[0m\n\u001b[1;32m    312\u001b[0m         \u001b[1;32myield\u001b[0m \u001b[1;33m(\u001b[0m\u001b[0mprev\u001b[0m\u001b[1;33m,\u001b[0m \u001b[0mel\u001b[0m\u001b[1;33m)\u001b[0m\u001b[1;33m\u001b[0m\u001b[0m\n",
      "\u001b[0;32mC:\\Users\\Jennifer\\Anaconda2\\lib\\site-packages\\nltk\\tokenize\\punkt.pyc\u001b[0m in \u001b[0;36m_slices_from_text\u001b[0;34m(self, text)\u001b[0m\n\u001b[1;32m   1276\u001b[0m     \u001b[1;32mdef\u001b[0m \u001b[0m_slices_from_text\u001b[0m\u001b[1;33m(\u001b[0m\u001b[0mself\u001b[0m\u001b[1;33m,\u001b[0m \u001b[0mtext\u001b[0m\u001b[1;33m)\u001b[0m\u001b[1;33m:\u001b[0m\u001b[1;33m\u001b[0m\u001b[0m\n\u001b[1;32m   1277\u001b[0m         \u001b[0mlast_break\u001b[0m \u001b[1;33m=\u001b[0m \u001b[1;36m0\u001b[0m\u001b[1;33m\u001b[0m\u001b[0m\n\u001b[0;32m-> 1278\u001b[0;31m         \u001b[1;32mfor\u001b[0m \u001b[0mmatch\u001b[0m \u001b[1;32min\u001b[0m \u001b[0mself\u001b[0m\u001b[1;33m.\u001b[0m\u001b[0m_lang_vars\u001b[0m\u001b[1;33m.\u001b[0m\u001b[0mperiod_context_re\u001b[0m\u001b[1;33m(\u001b[0m\u001b[1;33m)\u001b[0m\u001b[1;33m.\u001b[0m\u001b[0mfinditer\u001b[0m\u001b[1;33m(\u001b[0m\u001b[0mtext\u001b[0m\u001b[1;33m)\u001b[0m\u001b[1;33m:\u001b[0m\u001b[1;33m\u001b[0m\u001b[0m\n\u001b[0m\u001b[1;32m   1279\u001b[0m             \u001b[0mcontext\u001b[0m \u001b[1;33m=\u001b[0m \u001b[0mmatch\u001b[0m\u001b[1;33m.\u001b[0m\u001b[0mgroup\u001b[0m\u001b[1;33m(\u001b[0m\u001b[1;33m)\u001b[0m \u001b[1;33m+\u001b[0m \u001b[0mmatch\u001b[0m\u001b[1;33m.\u001b[0m\u001b[0mgroup\u001b[0m\u001b[1;33m(\u001b[0m\u001b[1;34m'after_tok'\u001b[0m\u001b[1;33m)\u001b[0m\u001b[1;33m\u001b[0m\u001b[0m\n\u001b[1;32m   1280\u001b[0m             \u001b[1;32mif\u001b[0m \u001b[0mself\u001b[0m\u001b[1;33m.\u001b[0m\u001b[0mtext_contains_sentbreak\u001b[0m\u001b[1;33m(\u001b[0m\u001b[0mcontext\u001b[0m\u001b[1;33m)\u001b[0m\u001b[1;33m:\u001b[0m\u001b[1;33m\u001b[0m\u001b[0m\n",
      "\u001b[0;31mTypeError\u001b[0m: expected string or buffer"
     ]
    }
   ],
   "source": [
    "from nltk.tokenize import word_tokenize \n",
    "txt = nltk.word_tokenize (df_test_labels)\n",
    "txt = nltk.Text(txt)\n",
    "txt.count(\"the\")"
   ]
  },
  {
   "cell_type": "code",
   "execution_count": 35,
   "metadata": {
    "collapsed": false
   },
   "outputs": [
    {
     "ename": "TypeError",
     "evalue": "expected string or buffer",
     "output_type": "error",
     "traceback": [
      "\u001b[0;31m---------------------------------------------------------------------------\u001b[0m",
      "\u001b[0;31mTypeError\u001b[0m                                 Traceback (most recent call last)",
      "\u001b[0;32m<ipython-input-35-3ad01b54c085>\u001b[0m in \u001b[0;36m<module>\u001b[0;34m()\u001b[0m\n\u001b[0;32m----> 1\u001b[0;31m \u001b[0mtxt\u001b[0m \u001b[1;33m=\u001b[0m \u001b[0mdf_test_data\u001b[0m\u001b[1;33m.\u001b[0m\u001b[0mapply\u001b[0m\u001b[1;33m(\u001b[0m\u001b[0mword_tokenize\u001b[0m\u001b[1;33m)\u001b[0m\u001b[1;33m\u001b[0m\u001b[0m\n\u001b[0m\u001b[1;32m      2\u001b[0m \u001b[0mtxt\u001b[0m\u001b[1;33m.\u001b[0m\u001b[0mhead\u001b[0m\u001b[1;33m(\u001b[0m\u001b[1;33m)\u001b[0m\u001b[1;33m\u001b[0m\u001b[0m\n",
      "\u001b[0;32mC:\\Users\\Jennifer\\Anaconda2\\lib\\site-packages\\pandas\\core\\series.pyc\u001b[0m in \u001b[0;36mapply\u001b[0;34m(self, func, convert_dtype, args, **kwds)\u001b[0m\n\u001b[1;32m   2353\u001b[0m             \u001b[1;32melse\u001b[0m\u001b[1;33m:\u001b[0m\u001b[1;33m\u001b[0m\u001b[0m\n\u001b[1;32m   2354\u001b[0m                 \u001b[0mvalues\u001b[0m \u001b[1;33m=\u001b[0m \u001b[0mself\u001b[0m\u001b[1;33m.\u001b[0m\u001b[0masobject\u001b[0m\u001b[1;33m\u001b[0m\u001b[0m\n\u001b[0;32m-> 2355\u001b[0;31m                 \u001b[0mmapped\u001b[0m \u001b[1;33m=\u001b[0m \u001b[0mlib\u001b[0m\u001b[1;33m.\u001b[0m\u001b[0mmap_infer\u001b[0m\u001b[1;33m(\u001b[0m\u001b[0mvalues\u001b[0m\u001b[1;33m,\u001b[0m \u001b[0mf\u001b[0m\u001b[1;33m,\u001b[0m \u001b[0mconvert\u001b[0m\u001b[1;33m=\u001b[0m\u001b[0mconvert_dtype\u001b[0m\u001b[1;33m)\u001b[0m\u001b[1;33m\u001b[0m\u001b[0m\n\u001b[0m\u001b[1;32m   2356\u001b[0m \u001b[1;33m\u001b[0m\u001b[0m\n\u001b[1;32m   2357\u001b[0m         \u001b[1;32mif\u001b[0m \u001b[0mlen\u001b[0m\u001b[1;33m(\u001b[0m\u001b[0mmapped\u001b[0m\u001b[1;33m)\u001b[0m \u001b[1;32mand\u001b[0m \u001b[0misinstance\u001b[0m\u001b[1;33m(\u001b[0m\u001b[0mmapped\u001b[0m\u001b[1;33m[\u001b[0m\u001b[1;36m0\u001b[0m\u001b[1;33m]\u001b[0m\u001b[1;33m,\u001b[0m \u001b[0mSeries\u001b[0m\u001b[1;33m)\u001b[0m\u001b[1;33m:\u001b[0m\u001b[1;33m\u001b[0m\u001b[0m\n",
      "\u001b[0;32mpandas\\_libs\\src\\inference.pyx\u001b[0m in \u001b[0;36mpandas._libs.lib.map_infer (pandas\\_libs\\lib.c:66645)\u001b[0;34m()\u001b[0m\n",
      "\u001b[0;32mC:\\Users\\Jennifer\\Anaconda2\\lib\\site-packages\\nltk\\tokenize\\__init__.pyc\u001b[0m in \u001b[0;36mword_tokenize\u001b[0;34m(text, language)\u001b[0m\n\u001b[1;32m    104\u001b[0m     \u001b[1;33m:\u001b[0m\u001b[0mparam\u001b[0m \u001b[0mlanguage\u001b[0m\u001b[1;33m:\u001b[0m \u001b[0mthe\u001b[0m \u001b[0mmodel\u001b[0m \u001b[0mname\u001b[0m \u001b[1;32min\u001b[0m \u001b[0mthe\u001b[0m \u001b[0mPunkt\u001b[0m \u001b[0mcorpus\u001b[0m\u001b[1;33m\u001b[0m\u001b[0m\n\u001b[1;32m    105\u001b[0m     \"\"\"\n\u001b[0;32m--> 106\u001b[0;31m     return [token for sent in sent_tokenize(text, language)\n\u001b[0m\u001b[1;32m    107\u001b[0m             for token in _treebank_word_tokenize(sent)]\n\u001b[1;32m    108\u001b[0m \u001b[1;33m\u001b[0m\u001b[0m\n",
      "\u001b[0;32mC:\\Users\\Jennifer\\Anaconda2\\lib\\site-packages\\nltk\\tokenize\\__init__.pyc\u001b[0m in \u001b[0;36msent_tokenize\u001b[0;34m(text, language)\u001b[0m\n\u001b[1;32m     89\u001b[0m     \"\"\"\n\u001b[1;32m     90\u001b[0m     \u001b[0mtokenizer\u001b[0m \u001b[1;33m=\u001b[0m \u001b[0mload\u001b[0m\u001b[1;33m(\u001b[0m\u001b[1;34m'tokenizers/punkt/{0}.pickle'\u001b[0m\u001b[1;33m.\u001b[0m\u001b[0mformat\u001b[0m\u001b[1;33m(\u001b[0m\u001b[0mlanguage\u001b[0m\u001b[1;33m)\u001b[0m\u001b[1;33m)\u001b[0m\u001b[1;33m\u001b[0m\u001b[0m\n\u001b[0;32m---> 91\u001b[0;31m     \u001b[1;32mreturn\u001b[0m \u001b[0mtokenizer\u001b[0m\u001b[1;33m.\u001b[0m\u001b[0mtokenize\u001b[0m\u001b[1;33m(\u001b[0m\u001b[0mtext\u001b[0m\u001b[1;33m)\u001b[0m\u001b[1;33m\u001b[0m\u001b[0m\n\u001b[0m\u001b[1;32m     92\u001b[0m \u001b[1;33m\u001b[0m\u001b[0m\n\u001b[1;32m     93\u001b[0m \u001b[1;31m# Standard word tokenizer.\u001b[0m\u001b[1;33m\u001b[0m\u001b[1;33m\u001b[0m\u001b[0m\n",
      "\u001b[0;32mC:\\Users\\Jennifer\\Anaconda2\\lib\\site-packages\\nltk\\tokenize\\punkt.pyc\u001b[0m in \u001b[0;36mtokenize\u001b[0;34m(self, text, realign_boundaries)\u001b[0m\n\u001b[1;32m   1224\u001b[0m         \u001b[0mGiven\u001b[0m \u001b[0ma\u001b[0m \u001b[0mtext\u001b[0m\u001b[1;33m,\u001b[0m \u001b[0mreturns\u001b[0m \u001b[0ma\u001b[0m \u001b[0mlist\u001b[0m \u001b[0mof\u001b[0m \u001b[0mthe\u001b[0m \u001b[0msentences\u001b[0m \u001b[1;32min\u001b[0m \u001b[0mthat\u001b[0m \u001b[0mtext\u001b[0m\u001b[1;33m.\u001b[0m\u001b[1;33m\u001b[0m\u001b[0m\n\u001b[1;32m   1225\u001b[0m         \"\"\"\n\u001b[0;32m-> 1226\u001b[0;31m         \u001b[1;32mreturn\u001b[0m \u001b[0mlist\u001b[0m\u001b[1;33m(\u001b[0m\u001b[0mself\u001b[0m\u001b[1;33m.\u001b[0m\u001b[0msentences_from_text\u001b[0m\u001b[1;33m(\u001b[0m\u001b[0mtext\u001b[0m\u001b[1;33m,\u001b[0m \u001b[0mrealign_boundaries\u001b[0m\u001b[1;33m)\u001b[0m\u001b[1;33m)\u001b[0m\u001b[1;33m\u001b[0m\u001b[0m\n\u001b[0m\u001b[1;32m   1227\u001b[0m \u001b[1;33m\u001b[0m\u001b[0m\n\u001b[1;32m   1228\u001b[0m     \u001b[1;32mdef\u001b[0m \u001b[0mdebug_decisions\u001b[0m\u001b[1;33m(\u001b[0m\u001b[0mself\u001b[0m\u001b[1;33m,\u001b[0m \u001b[0mtext\u001b[0m\u001b[1;33m)\u001b[0m\u001b[1;33m:\u001b[0m\u001b[1;33m\u001b[0m\u001b[0m\n",
      "\u001b[0;32mC:\\Users\\Jennifer\\Anaconda2\\lib\\site-packages\\nltk\\tokenize\\punkt.pyc\u001b[0m in \u001b[0;36msentences_from_text\u001b[0;34m(self, text, realign_boundaries)\u001b[0m\n\u001b[1;32m   1272\u001b[0m         \u001b[0mfollows\u001b[0m \u001b[0mthe\u001b[0m \u001b[0mperiod\u001b[0m\u001b[1;33m.\u001b[0m\u001b[1;33m\u001b[0m\u001b[0m\n\u001b[1;32m   1273\u001b[0m         \"\"\"\n\u001b[0;32m-> 1274\u001b[0;31m         \u001b[1;32mreturn\u001b[0m \u001b[1;33m[\u001b[0m\u001b[0mtext\u001b[0m\u001b[1;33m[\u001b[0m\u001b[0ms\u001b[0m\u001b[1;33m:\u001b[0m\u001b[0me\u001b[0m\u001b[1;33m]\u001b[0m \u001b[1;32mfor\u001b[0m \u001b[0ms\u001b[0m\u001b[1;33m,\u001b[0m \u001b[0me\u001b[0m \u001b[1;32min\u001b[0m \u001b[0mself\u001b[0m\u001b[1;33m.\u001b[0m\u001b[0mspan_tokenize\u001b[0m\u001b[1;33m(\u001b[0m\u001b[0mtext\u001b[0m\u001b[1;33m,\u001b[0m \u001b[0mrealign_boundaries\u001b[0m\u001b[1;33m)\u001b[0m\u001b[1;33m]\u001b[0m\u001b[1;33m\u001b[0m\u001b[0m\n\u001b[0m\u001b[1;32m   1275\u001b[0m \u001b[1;33m\u001b[0m\u001b[0m\n\u001b[1;32m   1276\u001b[0m     \u001b[1;32mdef\u001b[0m \u001b[0m_slices_from_text\u001b[0m\u001b[1;33m(\u001b[0m\u001b[0mself\u001b[0m\u001b[1;33m,\u001b[0m \u001b[0mtext\u001b[0m\u001b[1;33m)\u001b[0m\u001b[1;33m:\u001b[0m\u001b[1;33m\u001b[0m\u001b[0m\n",
      "\u001b[0;32mC:\\Users\\Jennifer\\Anaconda2\\lib\\site-packages\\nltk\\tokenize\\punkt.pyc\u001b[0m in \u001b[0;36mspan_tokenize\u001b[0;34m(self, text, realign_boundaries)\u001b[0m\n\u001b[1;32m   1263\u001b[0m         \u001b[1;32mif\u001b[0m \u001b[0mrealign_boundaries\u001b[0m\u001b[1;33m:\u001b[0m\u001b[1;33m\u001b[0m\u001b[0m\n\u001b[1;32m   1264\u001b[0m             \u001b[0mslices\u001b[0m \u001b[1;33m=\u001b[0m \u001b[0mself\u001b[0m\u001b[1;33m.\u001b[0m\u001b[0m_realign_boundaries\u001b[0m\u001b[1;33m(\u001b[0m\u001b[0mtext\u001b[0m\u001b[1;33m,\u001b[0m \u001b[0mslices\u001b[0m\u001b[1;33m)\u001b[0m\u001b[1;33m\u001b[0m\u001b[0m\n\u001b[0;32m-> 1265\u001b[0;31m         \u001b[1;32mreturn\u001b[0m \u001b[1;33m[\u001b[0m\u001b[1;33m(\u001b[0m\u001b[0msl\u001b[0m\u001b[1;33m.\u001b[0m\u001b[0mstart\u001b[0m\u001b[1;33m,\u001b[0m \u001b[0msl\u001b[0m\u001b[1;33m.\u001b[0m\u001b[0mstop\u001b[0m\u001b[1;33m)\u001b[0m \u001b[1;32mfor\u001b[0m \u001b[0msl\u001b[0m \u001b[1;32min\u001b[0m \u001b[0mslices\u001b[0m\u001b[1;33m]\u001b[0m\u001b[1;33m\u001b[0m\u001b[0m\n\u001b[0m\u001b[1;32m   1266\u001b[0m \u001b[1;33m\u001b[0m\u001b[0m\n\u001b[1;32m   1267\u001b[0m     \u001b[1;32mdef\u001b[0m \u001b[0msentences_from_text\u001b[0m\u001b[1;33m(\u001b[0m\u001b[0mself\u001b[0m\u001b[1;33m,\u001b[0m \u001b[0mtext\u001b[0m\u001b[1;33m,\u001b[0m \u001b[0mrealign_boundaries\u001b[0m\u001b[1;33m=\u001b[0m\u001b[0mTrue\u001b[0m\u001b[1;33m)\u001b[0m\u001b[1;33m:\u001b[0m\u001b[1;33m\u001b[0m\u001b[0m\n",
      "\u001b[0;32mC:\\Users\\Jennifer\\Anaconda2\\lib\\site-packages\\nltk\\tokenize\\punkt.pyc\u001b[0m in \u001b[0;36m_realign_boundaries\u001b[0;34m(self, text, slices)\u001b[0m\n\u001b[1;32m   1302\u001b[0m         \"\"\"\n\u001b[1;32m   1303\u001b[0m         \u001b[0mrealign\u001b[0m \u001b[1;33m=\u001b[0m \u001b[1;36m0\u001b[0m\u001b[1;33m\u001b[0m\u001b[0m\n\u001b[0;32m-> 1304\u001b[0;31m         \u001b[1;32mfor\u001b[0m \u001b[0msl1\u001b[0m\u001b[1;33m,\u001b[0m \u001b[0msl2\u001b[0m \u001b[1;32min\u001b[0m \u001b[0m_pair_iter\u001b[0m\u001b[1;33m(\u001b[0m\u001b[0mslices\u001b[0m\u001b[1;33m)\u001b[0m\u001b[1;33m:\u001b[0m\u001b[1;33m\u001b[0m\u001b[0m\n\u001b[0m\u001b[1;32m   1305\u001b[0m             \u001b[0msl1\u001b[0m \u001b[1;33m=\u001b[0m \u001b[0mslice\u001b[0m\u001b[1;33m(\u001b[0m\u001b[0msl1\u001b[0m\u001b[1;33m.\u001b[0m\u001b[0mstart\u001b[0m \u001b[1;33m+\u001b[0m \u001b[0mrealign\u001b[0m\u001b[1;33m,\u001b[0m \u001b[0msl1\u001b[0m\u001b[1;33m.\u001b[0m\u001b[0mstop\u001b[0m\u001b[1;33m)\u001b[0m\u001b[1;33m\u001b[0m\u001b[0m\n\u001b[1;32m   1306\u001b[0m             \u001b[1;32mif\u001b[0m \u001b[1;32mnot\u001b[0m \u001b[0msl2\u001b[0m\u001b[1;33m:\u001b[0m\u001b[1;33m\u001b[0m\u001b[0m\n",
      "\u001b[0;32mC:\\Users\\Jennifer\\Anaconda2\\lib\\site-packages\\nltk\\tokenize\\punkt.pyc\u001b[0m in \u001b[0;36m_pair_iter\u001b[0;34m(it)\u001b[0m\n\u001b[1;32m    308\u001b[0m     \"\"\"\n\u001b[1;32m    309\u001b[0m     \u001b[0mit\u001b[0m \u001b[1;33m=\u001b[0m \u001b[0miter\u001b[0m\u001b[1;33m(\u001b[0m\u001b[0mit\u001b[0m\u001b[1;33m)\u001b[0m\u001b[1;33m\u001b[0m\u001b[0m\n\u001b[0;32m--> 310\u001b[0;31m     \u001b[0mprev\u001b[0m \u001b[1;33m=\u001b[0m \u001b[0mnext\u001b[0m\u001b[1;33m(\u001b[0m\u001b[0mit\u001b[0m\u001b[1;33m)\u001b[0m\u001b[1;33m\u001b[0m\u001b[0m\n\u001b[0m\u001b[1;32m    311\u001b[0m     \u001b[1;32mfor\u001b[0m \u001b[0mel\u001b[0m \u001b[1;32min\u001b[0m \u001b[0mit\u001b[0m\u001b[1;33m:\u001b[0m\u001b[1;33m\u001b[0m\u001b[0m\n\u001b[1;32m    312\u001b[0m         \u001b[1;32myield\u001b[0m \u001b[1;33m(\u001b[0m\u001b[0mprev\u001b[0m\u001b[1;33m,\u001b[0m \u001b[0mel\u001b[0m\u001b[1;33m)\u001b[0m\u001b[1;33m\u001b[0m\u001b[0m\n",
      "\u001b[0;32mC:\\Users\\Jennifer\\Anaconda2\\lib\\site-packages\\nltk\\tokenize\\punkt.pyc\u001b[0m in \u001b[0;36m_slices_from_text\u001b[0;34m(self, text)\u001b[0m\n\u001b[1;32m   1276\u001b[0m     \u001b[1;32mdef\u001b[0m \u001b[0m_slices_from_text\u001b[0m\u001b[1;33m(\u001b[0m\u001b[0mself\u001b[0m\u001b[1;33m,\u001b[0m \u001b[0mtext\u001b[0m\u001b[1;33m)\u001b[0m\u001b[1;33m:\u001b[0m\u001b[1;33m\u001b[0m\u001b[0m\n\u001b[1;32m   1277\u001b[0m         \u001b[0mlast_break\u001b[0m \u001b[1;33m=\u001b[0m \u001b[1;36m0\u001b[0m\u001b[1;33m\u001b[0m\u001b[0m\n\u001b[0;32m-> 1278\u001b[0;31m         \u001b[1;32mfor\u001b[0m \u001b[0mmatch\u001b[0m \u001b[1;32min\u001b[0m \u001b[0mself\u001b[0m\u001b[1;33m.\u001b[0m\u001b[0m_lang_vars\u001b[0m\u001b[1;33m.\u001b[0m\u001b[0mperiod_context_re\u001b[0m\u001b[1;33m(\u001b[0m\u001b[1;33m)\u001b[0m\u001b[1;33m.\u001b[0m\u001b[0mfinditer\u001b[0m\u001b[1;33m(\u001b[0m\u001b[0mtext\u001b[0m\u001b[1;33m)\u001b[0m\u001b[1;33m:\u001b[0m\u001b[1;33m\u001b[0m\u001b[0m\n\u001b[0m\u001b[1;32m   1279\u001b[0m             \u001b[0mcontext\u001b[0m \u001b[1;33m=\u001b[0m \u001b[0mmatch\u001b[0m\u001b[1;33m.\u001b[0m\u001b[0mgroup\u001b[0m\u001b[1;33m(\u001b[0m\u001b[1;33m)\u001b[0m \u001b[1;33m+\u001b[0m \u001b[0mmatch\u001b[0m\u001b[1;33m.\u001b[0m\u001b[0mgroup\u001b[0m\u001b[1;33m(\u001b[0m\u001b[1;34m'after_tok'\u001b[0m\u001b[1;33m)\u001b[0m\u001b[1;33m\u001b[0m\u001b[0m\n\u001b[1;32m   1280\u001b[0m             \u001b[1;32mif\u001b[0m \u001b[0mself\u001b[0m\u001b[1;33m.\u001b[0m\u001b[0mtext_contains_sentbreak\u001b[0m\u001b[1;33m(\u001b[0m\u001b[0mcontext\u001b[0m\u001b[1;33m)\u001b[0m\u001b[1;33m:\u001b[0m\u001b[1;33m\u001b[0m\u001b[0m\n",
      "\u001b[0;31mTypeError\u001b[0m: expected string or buffer"
     ]
    }
   ],
   "source": [
    "txt = df_test_data.apply(word_tokenize)\n",
    "txt.head()"
   ]
  }
 ],
 "metadata": {
  "anaconda-cloud": {},
  "kernelspec": {
   "display_name": "Python [conda root]",
   "language": "python",
   "name": "conda-root-py"
  },
  "language_info": {
   "codemirror_mode": {
    "name": "ipython",
    "version": 2
   },
   "file_extension": ".py",
   "mimetype": "text/x-python",
   "name": "python",
   "nbconvert_exporter": "python",
   "pygments_lexer": "ipython2",
   "version": "2.7.12"
  }
 },
 "nbformat": 4,
 "nbformat_minor": 1
}
